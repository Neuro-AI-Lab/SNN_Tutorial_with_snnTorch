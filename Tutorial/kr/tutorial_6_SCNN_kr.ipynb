{
  "cells": [
    {
      "cell_type": "markdown",
      "metadata": {
        "collapsed": false,
        "id": "uSGZ6cdmpknm",
        "pycharm": {
          "name": "#%% md\n"
        }
      },
      "source": [
        "[<img src='https://github.com/jeshraghian/snntorch/blob/master/docs/_static/img/snntorch_alpha_w.png?raw=true' width=\"400\">](https://github.com/jeshraghian/snntorch/)\n",
        "\n",
        "# snnTorch - Surrogate Gradient Descent in a Convolutional Spiking Neural Network\n",
        "## Tutorial 6\n",
        "### 강의: [Jason K. Eshraghian](https://www.ncg.ucsc.edu)\n",
        "#### 번역: [ToToKr](https://github.com/MoerAI)\n",
        "\n",
        "<a href=\"https://colab.research.google.com/github/jeshraghian/snntorch/blob/master/examples/tutorial_6_CNN.ipynb\">\n",
        "  <img src=\"https://colab.research.google.com/assets/colab-badge.svg\" alt=\"Open In Colab\"/>\n",
        "</a>\n",
        "\n",
        "[<img src='https://github.com/jeshraghian/snntorch/blob/master/docs/_static/img/GitHub-Mark-Light-120px-plus.png?raw=true' width=\"28\">](https://github.com/jeshraghian/snntorch/) [<img src='https://github.com/jeshraghian/snntorch/blob/master/docs/_static/img/GitHub_Logo_White.png?raw=true' width=\"80\">](https://github.com/jeshraghian/snntorch/)"
      ]
    },
    {
      "cell_type": "markdown",
      "metadata": {
        "id": "rugeYYiqsrlc"
      },
      "source": [
        "snnTorch 튜토리얼 시리즈는 다음 문서를 기반으로 합니다. 이러한 리소스나 코드가 작업에 유용하다고 생각되면 다음 소스를 인용해 주세요:\n",
        "\n",
        "> <cite> [Jason K. Eshraghian, Max Ward, Emre Neftci, Xinxin Wang, Gregor Lenz, Girish Dwivedi, Mohammed Bennamoun, Doo Seok Jeong, and Wei D. Lu. \"Training Spiking Neural Networks Using Lessons From Deep Learning\". Proceedings of the IEEE, 111(9) September 2023.](https://ieeexplore.ieee.org/abstract/document/10242251) </cite>\n"
      ]
    },
    {
      "cell_type": "markdown",
      "metadata": {
        "id": "Ymi3sqJg28OQ"
      },
      "source": [
        "# Introduction\n",
        "이번 튜토리얼에서 당신은:\n",
        "* 죽은 뉴런 문제(dead neuron problem)을 해결하기 위해 surrogate gradient descent를 수정하는 방법을 배웁니다\n",
        "* convolutional spiking neural network을 구축하고 훈련합니다\n",
        "* 순차 컨테이너(sequential container)인 `nn.Sequential`을 사용하여 모델 구성을 간소화 하는 방법을 배웁니다\n",
        "\n",
        "이 튜토리얼의 일부는 Friedemann Zenke의 SNN에 대한 광범위한 작업에서 영감을 받았습니다. surrogate gradients 대한 [깃허브 레포지토리](https://github.com/fzenke/spytorch)와 제가 즐겨 찾는 논문을 확인하세요: E. O. Neftci, H. Mostafa, F. Zenke, [Surrogate Gradient\n",
        "Learning in Spiking Neural Networks: Bringing the Power of\n",
        "Gradient-based optimization to spiking neural\n",
        "networks.](https://ieeexplore.ieee.org/document/8891809) IEEE\n",
        "Signal Processing Magazine 36, 51–63.\n",
        "\n",
        "튜토리얼의 마지막에는 이미지 분류를 수행하기 위해 MNIST 데이터 세트를 사용하여 convolutional spiking neural network (CSNN) 을 훈련합니다. 배경이론은 [튜토리얼 2, 4, 5](https://snntorch.readthedocs.io/en/latest/tutorials/index.html)에 이어서 설명하므로 복습이 필요한 경우 다시 참조하세요.\n",
        "\n",
        "Google Colab 실행을 하는 경우:\n",
        "\n",
        "* 다음 메뉴에서 `런타임` > `런타임 유형 변경` > `하드웨어 가속기: GPU`를 확인하여 GPU를 연결합니다.\n",
        "* 다음 셀을 클릭하고 `Shift+Enter`를 눌러 최신 PyPi 배포판의 snnTorch를 설치합니다."
      ]
    },
    {
      "cell_type": "code",
      "execution_count": null,
      "metadata": {
        "id": "5tn_wUlopkon",
        "pycharm": {
          "name": "#%%\n"
        }
      },
      "outputs": [],
      "source": [
        "!pip install snntorch"
      ]
    },
    {
      "cell_type": "code",
      "execution_count": 1,
      "metadata": {
        "id": "QXZ6Tuqc9Q-l"
      },
      "outputs": [
        {
          "name": "stderr",
          "output_type": "stream",
          "text": [
            "C:\\Users\\user\\AppData\\Local\\Temp\\ipykernel_59436\\3569606770.py:4: DeprecationWarning: The module snntorch.backprop will be deprecated in  a future release. Writing out your own training loop will lead to substantially faster performance.\n",
            "  from snntorch import backprop\n"
          ]
        }
      ],
      "source": [
        "# imports\n",
        "import snntorch as snn\n",
        "from snntorch import surrogate\n",
        "from snntorch import backprop\n",
        "from snntorch import functional as SF\n",
        "from snntorch import utils\n",
        "from snntorch import spikeplot as splt\n",
        "\n",
        "import torch\n",
        "import torch.nn as nn\n",
        "from torch.utils.data import DataLoader\n",
        "from torchvision import datasets, transforms\n",
        "import torch.nn.functional as F\n",
        "\n",
        "import matplotlib.pyplot as plt\n",
        "import numpy as np\n",
        "import itertools"
      ]
    },
    {
      "cell_type": "markdown",
      "metadata": {
        "id": "gt2xMbLY9dVE"
      },
      "source": [
        "# 1. Surrogate Gradient Descent"
      ]
    },
    {
      "cell_type": "markdown",
      "metadata": {
        "id": "zJddJWoa0GT6"
      },
      "source": [
        "**죽은 뉴런 문제(dead neuron problem)** 는 [튜토리얼 5](https://snntorch.readthedocs.io/en/latest/tutorials/index.html)에서 발생합니다. 이것은 스파이크의 미분 불능(non-differentiability)으로 인해 발생합니다:\n",
        "\n",
        "\n",
        "$$S[t] = \\Theta(U[t] - U_{\\rm thr}) \\tag{1}$$\n",
        "$$\\frac{\\partial S}{\\partial U} = \\delta(U - U_{\\rm thr}) \\in \\{0, \\infty\\} \\tag{2}$$\n",
        "\n",
        "여기서 $\\Theta(\\cdot)$는 the Heaviside step함수이고 $\\delta(\\cdot)$는 Dirac-Delta 함수입니다. 이전에는 backward pass에서 임계값으로 시프트된(threshold-shifted) *ArcTangent* 함수의 gradient를 사용하여 이 문제를 해결했습니다.\n",
        "\n",
        "다른 일반적인 smoothing 함수로는 시그모이드 함수 또는 빠른(fast) 시그모이드 함수가 있습니다. 또한 sigmoidal 함수는 임계값 $U_{\\rm thr}$의 중앙에 위치하도록 반드시 시프트 해야합니다. 막 전위의 오버드라이브를 $U_{OD} = U - U_{\\rm thr}$로 정의합니다:\n",
        "\n",
        "$$\\tilde{S} = \\frac{U_{OD}}{1+k|U_{OD}|} \\tag{3}$$\n",
        "$$\\frac{\\partial \\tilde{S}}{\\partial U} = \\frac{1}{(k|U_{OD}|+1)^2}\\tag{4}$$\n",
        "\n",
        "여기서 $k$는 surrogate 함수가 얼마나 smooth한지를 조절하며, 하이퍼파라미터로 취급됩니다. $k$가 증가함에 따라, 근사치는 $(2)$의 원래 도함수에 수렴합니다:  \n",
        "\n",
        "$$\\frac{\\partial \\tilde{S}}{\\partial U} \\Bigg|_{k \\rightarrow \\infty} = \\delta(U-U_{\\rm thr})$$\n",
        "\n",
        "\n",
        "<center>\n",
        "<img src='https://github.com/jeshraghian/snntorch/blob/master/docs/_static/img/examples/tutorial6/surrogate.png?raw=true' width=\"800\">\n",
        "</center>\n",
        "\n",
        "요약하자면:\n",
        "\n",
        "* **Forward Pass**\n",
        "  - $(1)$에서 시프트된 Heaviside 함수를 사용하여 $S$를 결정합니다\n",
        "  - 나중에 Backward Pass 중에 사용할 수 있도록 $U$를 저장합니다\n",
        "* **Backward Pass**\n",
        "  - $U$를 $(4)$로 전달하여 미분항을 계산합니다\n",
        "\n",
        "[튜토리얼 5](https://snntorch.readthedocs.io/en/latest/tutorials/index.html)에서 *ArcTangent* 접근법을 사용한 것과 같은 방식으로 빠른(fast) 시그모이드 함수의 기울기는 Leaky Integrate-and-Fire (LIF) 뉴런 모델에서 Dirac-Delta 함수를 재정의 할 수 있습니다:"
      ]
    },
    {
      "cell_type": "code",
      "execution_count": 2,
      "metadata": {
        "id": "5lqpuT--bZmJ"
      },
      "outputs": [],
      "source": [
        "# Leaky neuron model, overriding the backward pass with a custom function\n",
        "class LeakySigmoidSurrogate(nn.Module):\n",
        "  def __init__(self, beta, threshold=1.0, k=25):\n",
        "\n",
        "      # Leaky_Surrogate is defined in the previous tutorial and not used here\n",
        "      super(Leaky_Surrogate, self).__init__()\n",
        "\n",
        "      # initialize decay rate beta and threshold\n",
        "      self.beta = beta\n",
        "      self.threshold = threshold\n",
        "      self.surrogate_func = self.FastSigmoid.apply\n",
        "\n",
        "  # the forward function is called each time we call Leaky\n",
        "  def forward(self, input_, mem):\n",
        "    spk = self.surrogate_func((mem-self.threshold))  # call the Heaviside function\n",
        "    reset = (spk - self.threshold).detach()\n",
        "    mem = self.beta * mem + input_ - reset\n",
        "    return spk, mem\n",
        "\n",
        "  # Forward pass: Heaviside function\n",
        "  # Backward pass: Override Dirac Delta with gradient of fast sigmoid\n",
        "  @staticmethod\n",
        "  class FastSigmoid(torch.autograd.Function):\n",
        "    @staticmethod\n",
        "    def forward(ctx, mem, k=25):\n",
        "        ctx.save_for_backward(mem) # store the membrane potential for use in the backward pass\n",
        "        ctx.k = k\n",
        "        out = (mem > 0).float() # Heaviside on the forward pass: Eq(1)\n",
        "        return out\n",
        "\n",
        "    @staticmethod\n",
        "    def backward(ctx, grad_output):\n",
        "        (mem,) = ctx.saved_tensors  # retrieve membrane potential\n",
        "        grad_input = grad_output.clone()\n",
        "        grad = grad_input / (ctx.k * torch.abs(mem) + 1.0) ** 2  # gradient of fast sigmoid on backward pass: Eq(4)\n",
        "        return grad, None"
      ]
    },
    {
      "cell_type": "markdown",
      "metadata": {
        "id": "4aQvFG7ajpzU"
      },
      "source": [
        "더 좋은 방법은, 이모든 것을 snnTorch의 내장 모듈 `snn.surrogate`를 사용하여 간결하게 표현 할 수 있는데, 여기서 $(4)$의 $k$는 `slope`으로 표시됩니다. surrogate gradient는 인자로 `spike_grad`에 전달됩니다:"
      ]
    },
    {
      "cell_type": "code",
      "execution_count": 3,
      "metadata": {
        "id": "2dCWD_qajyLw"
      },
      "outputs": [],
      "source": [
        "spike_grad = surrogate.fast_sigmoid(slope=25)\n",
        "beta = 0.5\n",
        "\n",
        "lif1 = snn.Leaky(beta=beta, spike_grad=spike_grad)"
      ]
    },
    {
      "cell_type": "markdown",
      "metadata": {
        "id": "Ffn7D6omkj5r"
      },
      "source": [
        "사용 가능한 다른 surrogate gradient 함수를 살펴보려면, [여기](https://snntorch.readthedocs.io/en/latest/snntorch.surrogate.html)에서 문서를 참조하세요."
      ]
    },
    {
      "cell_type": "markdown",
      "metadata": {
        "id": "Wgzf83HE2BeB"
      },
      "source": [
        "# 2. Setting up the CSNN\n",
        "## 2.1 DataLoaders"
      ]
    },
    {
      "cell_type": "code",
      "execution_count": 4,
      "metadata": {
        "id": "pxO32dntlOB2"
      },
      "outputs": [],
      "source": [
        "# dataloader arguments\n",
        "batch_size = 128\n",
        "data_path='/tmp/data/mnist'\n",
        "\n",
        "dtype = torch.float\n",
        "device = torch.device(\"cuda\") if torch.cuda.is_available() else torch.device(\"cpu\")"
      ]
    },
    {
      "cell_type": "code",
      "execution_count": 5,
      "metadata": {
        "id": "pE7eGTnulSBA"
      },
      "outputs": [],
      "source": [
        "# Define a transform\n",
        "transform = transforms.Compose([\n",
        "            transforms.Resize((28, 28)),\n",
        "            transforms.Grayscale(),\n",
        "            transforms.ToTensor(),\n",
        "            transforms.Normalize((0,), (1,))])\n",
        "\n",
        "mnist_train = datasets.MNIST(data_path, train=True, download=True, transform=transform)\n",
        "mnist_test = datasets.MNIST(data_path, train=False, download=True, transform=transform)\n",
        "\n",
        "# Create DataLoaders\n",
        "train_loader = DataLoader(mnist_train, batch_size=batch_size, shuffle=True, drop_last=True)\n",
        "test_loader = DataLoader(mnist_test, batch_size=batch_size, shuffle=True, drop_last=True)"
      ]
    },
    {
      "cell_type": "markdown",
      "metadata": {
        "id": "6v8fBXrVlY3f"
      },
      "source": [
        "## 2.2 Define the Network\n",
        "\n",
        "사용되는 CNN 아키텍처는 다음과 같습니다: 12C5-MP2-64C5-MP2-1024FC10\n",
        "\n",
        "- 12C5는 12개의 필터가 있는 5 $\\times$ 5 convolutional 커널입니다.\n",
        "- MP2는 2 $\\times$ 2 max-pooling 함수입니다.\n",
        "- 1024FC10은 1,024개의 뉴런을 10개의 출력에 매핑하는 fully-connected 레이어입니다."
      ]
    },
    {
      "cell_type": "code",
      "execution_count": 6,
      "metadata": {
        "id": "foos_NlopDrb"
      },
      "outputs": [],
      "source": [
        "# neuron and simulation parameters\n",
        "spike_grad = surrogate.fast_sigmoid(slope=25)\n",
        "beta = 0.5\n",
        "num_steps = 50"
      ]
    },
    {
      "cell_type": "code",
      "execution_count": 7,
      "metadata": {
        "id": "X4sd8PDSlGZb"
      },
      "outputs": [],
      "source": [
        "# Define Network\n",
        "class Net(nn.Module):\n",
        "    def __init__(self):\n",
        "        super().__init__()\n",
        "\n",
        "        # Initialize layers\n",
        "        self.conv1 = nn.Conv2d(1, 12, 5)\n",
        "        self.lif1 = snn.Leaky(beta=beta, spike_grad=spike_grad)\n",
        "        self.conv2 = nn.Conv2d(12, 64, 5)\n",
        "        self.lif2 = snn.Leaky(beta=beta, spike_grad=spike_grad)\n",
        "        self.fc1 = nn.Linear(64*4*4, 10)\n",
        "        self.lif3 = snn.Leaky(beta=beta, spike_grad=spike_grad)\n",
        "\n",
        "    def forward(self, x):\n",
        "\n",
        "        # Initialize hidden states and outputs at t=0\n",
        "        mem1 = self.lif1.init_leaky()\n",
        "        mem2 = self.lif2.init_leaky()\n",
        "        mem3 = self.lif3.init_leaky()\n",
        "\n",
        "        cur1 = F.max_pool2d(self.conv1(x), 2)\n",
        "        spk1, mem1 = self.lif1(cur1, mem1)\n",
        "\n",
        "        cur2 = F.max_pool2d(self.conv2(spk1), 2)\n",
        "        spk2, mem2 = self.lif2(cur2, mem2)\n",
        "\n",
        "        cur3 = self.fc1(spk2.view(batch_size, -1))\n",
        "        spk3, mem3 = self.lif3(cur3, mem3)\n",
        "        return spk3, mem3"
      ]
    },
    {
      "cell_type": "markdown",
      "metadata": {
        "id": "HVn3aYAUnWqH"
      },
      "source": [
        "이전 튜토리얼 에서는 위 코드와 같이 Network가 Class 안에 선언되었습니다.\n",
        "네트워크 복잡성이 증가함에 따라 이는 많은 보일러플레이트(boilerplate) 코드(혹은 상용구 코드라고도 불림)를 추가하므로 이를 피하고 싶을 수도 있습니다. 대안으로 `nn.Sequential` 메서드를 대신 사용할 수 있습니다.\n",
        "\n",
        "> 참고: 다음 코드 블록은 단일 time step에 걸쳐 시뮬레이션하며, 시간이 지남에 따라 별도의 for-loop가 필요합니다."
      ]
    },
    {
      "cell_type": "code",
      "execution_count": 8,
      "metadata": {
        "id": "AoYBY89angvp"
      },
      "outputs": [],
      "source": [
        "#  Initialize Network\n",
        "net = nn.Sequential(nn.Conv2d(1, 12, 5),\n",
        "                    nn.MaxPool2d(2),\n",
        "                    snn.Leaky(beta=beta, spike_grad=spike_grad, init_hidden=True),\n",
        "                    nn.Conv2d(12, 64, 5),\n",
        "                    nn.MaxPool2d(2),\n",
        "                    snn.Leaky(beta=beta, spike_grad=spike_grad, init_hidden=True),\n",
        "                    nn.Flatten(),\n",
        "                    nn.Linear(64*4*4, 10),\n",
        "                    snn.Leaky(beta=beta, spike_grad=spike_grad, init_hidden=True, output=True)\n",
        "                    ).to(device)"
      ]
    },
    {
      "cell_type": "markdown",
      "metadata": {
        "id": "7Qgw1dRmpOlo"
      },
      "source": [
        "`init_hidden` 인수는 뉴런의 hidden states(여기서는 막 전위)를 초기화합니다. 이는 인스턴스 변수로 background메서 이루어집니다. `init_hidden`이 활성화되면 막 전위가 사용자에게 명시적으로 반환되지 않으므로 출력 스파이크만 순차적으로 레핑된 레이어를 통해 `nn.Sequential`으로 전달됩니다.\n",
        "\n",
        "최종 레이어에 막 전위를 사용하여 모델을 훈련하려면 `output=True` 인수를 설정합니다.\n",
        "이렇게 하면 최종 레이어가 뉴런의 스파이크와 막 전위 반응을 모두 반환할 수 있습니다."
      ]
    },
    {
      "cell_type": "markdown",
      "metadata": {
        "id": "A-bCSQmBstvd"
      },
      "source": [
        "## 2.3 Forward-Pass\n",
        "시뮬레이션 기간인 `num_steps`에 대한 forward pass는 다음과 같습니다:"
      ]
    },
    {
      "cell_type": "code",
      "execution_count": 9,
      "metadata": {
        "id": "IxPPMND-pMxE"
      },
      "outputs": [],
      "source": [
        "data, targets = next(iter(train_loader))\n",
        "data = data.to(device)\n",
        "targets = targets.to(device)\n",
        "\n",
        "for step in range(num_steps):\n",
        "    spk_out, mem_out = net(data)"
      ]
    },
    {
      "cell_type": "markdown",
      "metadata": {
        "id": "C3PxtCobuH_e"
      },
      "source": [
        "이를 함수로 묶어, 시간에 따른 막전위와 스파이크 반응을 기록합니다:"
      ]
    },
    {
      "cell_type": "code",
      "execution_count": 11,
      "metadata": {
        "id": "ykdnD3tRuHcs"
      },
      "outputs": [],
      "source": [
        "def forward_pass(net, num_steps, data):\n",
        "  mem_rec = []\n",
        "  spk_rec = []\n",
        "  utils.reset(net)  # resets hidden states for all LIF neurons in net\n",
        "\n",
        "  for step in range(num_steps):\n",
        "      spk_out, mem_out = net(data)\n",
        "      spk_rec.append(spk_out)\n",
        "      mem_rec.append(mem_out)\n",
        "\n",
        "  return torch.stack(spk_rec), torch.stack(mem_rec)"
      ]
    },
    {
      "cell_type": "code",
      "execution_count": 12,
      "metadata": {
        "id": "unJrx3pXcXii"
      },
      "outputs": [],
      "source": [
        "spk_rec, mem_rec = forward_pass(net, num_steps, data)"
      ]
    },
    {
      "cell_type": "markdown",
      "metadata": {
        "id": "zqJdfllYbc16"
      },
      "source": [
        "# 3. Training Loop"
      ]
    },
    {
      "cell_type": "markdown",
      "metadata": {
        "id": "x-kquOWLY1Jo"
      },
      "source": [
        "## 3.1 Loss Using snn.Functional"
      ]
    },
    {
      "cell_type": "markdown",
      "metadata": {
        "id": "MlA56BgOYq1D"
      },
      "source": [
        "이전 튜토리얼에서는 출력 뉴런의 막 전위와 목표 사이의 Cross Entropy Loss를 사용하여 네트워크를 훈련했습니다.\n",
        "\n",
        "이번에는 Cross Entropy Loss를 사용하는 대신 각 뉴런의 총 스파이크 수를 사용하겠습니다.\n",
        "\n",
        "다양한 손실 함수가 PyTorch의 `torch.nn.functional`과 유사한 `snn.functional` 모듈에 포함되어 있습니다.\n",
        "이러한 함수는 Cross Entropy와 Mean square error loss를 구현하며, rate 또는 latency 코딩된 네트워크를 훈련하기 위해 스파이크 및 막 전위에 적용됩니다.\n",
        "\n",
        "아래 접근 방식은 Rate 코딩 네트워크를 훈련하기 위해 출력 스파이크 수에 교차 엔트로피 손실을 적용합니다:"
      ]
    },
    {
      "cell_type": "code",
      "execution_count": 13,
      "metadata": {
        "id": "UZ2BM6d6a11l"
      },
      "outputs": [],
      "source": [
        "# already imported snntorch.functional as SF\n",
        "loss_fn = SF.ce_rate_loss()"
      ]
    },
    {
      "cell_type": "markdown",
      "metadata": {
        "id": "q39HCIeOa4fC"
      },
      "source": [
        "The recordings of the spike are passed as the first argument to `loss_fn`, and the target neuron index as the second argument to generate a loss. [이 문서에서 자세한 정보와 예제를 제공합니다.](https://snntorch.readthedocs.io/en/latest/snntorch.functional.html#snntorch.functional.ce_rate_loss)"
      ]
    },
    {
      "cell_type": "code",
      "execution_count": 14,
      "metadata": {
        "id": "xEVzMvujcjsE"
      },
      "outputs": [
        {
          "name": "stdout",
          "output_type": "stream",
          "text": [
            "The loss from an untrained network is 2.303\n"
          ]
        }
      ],
      "source": [
        "loss_val = loss_fn(spk_rec, targets)\n",
        "\n",
        "print(f\"The loss from an untrained network is {loss_val.item():.3f}\")"
      ]
    },
    {
      "cell_type": "markdown",
      "metadata": {
        "id": "HS_zeb5mbqjw"
      },
      "source": [
        "## 3.2 Accuracy Using snn.Functional\n",
        "`SF.accuracy_rate()`  함수는 예측된 출력 스파이크와 실제 목표 지수를 인자로 제공한다는 점에서 유사하게 작동합니다. `accuracy_rate`는 스파이크 수가 가장 높은 뉴런의 인덱스가 목표 인덱스와 일치하는지 확인하여 출력을 해석하는 데 Rate 코드가 사용된 다고 가정합니다."
      ]
    },
    {
      "cell_type": "code",
      "execution_count": 15,
      "metadata": {
        "id": "yq7_rly0c9b4"
      },
      "outputs": [
        {
          "name": "stdout",
          "output_type": "stream",
          "text": [
            "The accuracy of a single batch using an untrained network is 12.500%\n"
          ]
        }
      ],
      "source": [
        "acc = SF.accuracy_rate(spk_rec, targets)\n",
        "\n",
        "print(f\"The accuracy of a single batch using an untrained network is {acc*100:.3f}%\")"
      ]
    },
    {
      "cell_type": "markdown",
      "metadata": {
        "id": "r4Z6bnqCdL50"
      },
      "source": [
        "위의 함수는 단일 데이터 배치의 정확도만 반환하므로, 다음 함수는 전체 데이터로더 객체에 대한 정확도를 반환합니다."
      ]
    },
    {
      "cell_type": "code",
      "execution_count": 16,
      "metadata": {
        "id": "IqxDKFvrdXuF"
      },
      "outputs": [],
      "source": [
        "def batch_accuracy(train_loader, net, num_steps):\n",
        "  with torch.no_grad():\n",
        "    total = 0\n",
        "    acc = 0\n",
        "    net.eval()\n",
        "\n",
        "    train_loader = iter(train_loader)\n",
        "    for data, targets in train_loader:\n",
        "      data = data.to(device)\n",
        "      targets = targets.to(device)\n",
        "      spk_rec, _ = forward_pass(net, num_steps, data)\n",
        "\n",
        "      acc += SF.accuracy_rate(spk_rec, targets) * spk_rec.size(1)\n",
        "      total += spk_rec.size(1)\n",
        "\n",
        "  return acc/total"
      ]
    },
    {
      "cell_type": "code",
      "execution_count": 17,
      "metadata": {
        "id": "_u43hKAvefWM"
      },
      "outputs": [
        {
          "name": "stdout",
          "output_type": "stream",
          "text": [
            "The total accuracy on the test set is: 9.82%\n"
          ]
        }
      ],
      "source": [
        "test_acc = batch_accuracy(test_loader, net, num_steps)\n",
        "\n",
        "print(f\"The total accuracy on the test set is: {test_acc * 100:.2f}%\")"
      ]
    },
    {
      "cell_type": "markdown",
      "metadata": {
        "id": "F1pzWXlsYoIu"
      },
      "source": [
        "## 3.3 Training Loop"
      ]
    },
    {
      "cell_type": "markdown",
      "metadata": {
        "id": "KAUDYl3gf0G-"
      },
      "source": [
        "다음 훈련 loop는 이전 튜토리얼과 질적으로(qualitatively) 유사합니다."
      ]
    },
    {
      "cell_type": "code",
      "execution_count": 18,
      "metadata": {
        "id": "y_VQ9es-gSO3"
      },
      "outputs": [
        {
          "name": "stdout",
          "output_type": "stream",
          "text": [
            "Iteration 0, Test Acc: 9.81%\n",
            "\n",
            "Iteration 50, Test Acc: 91.10%\n",
            "\n",
            "Iteration 100, Test Acc: 95.55%\n",
            "\n",
            "Iteration 150, Test Acc: 96.70%\n",
            "\n",
            "Iteration 200, Test Acc: 97.24%\n",
            "\n",
            "Iteration 250, Test Acc: 96.92%\n",
            "\n",
            "Iteration 300, Test Acc: 96.96%\n",
            "\n",
            "Iteration 350, Test Acc: 97.02%\n",
            "\n",
            "Iteration 400, Test Acc: 97.54%\n",
            "\n",
            "Iteration 450, Test Acc: 98.01%\n",
            "\n"
          ]
        }
      ],
      "source": [
        "optimizer = torch.optim.Adam(net.parameters(), lr=1e-2, betas=(0.9, 0.999))\n",
        "num_epochs = 1\n",
        "loss_hist = []\n",
        "test_acc_hist = []\n",
        "counter = 0\n",
        "\n",
        "# Outer training loop\n",
        "for epoch in range(num_epochs):\n",
        "\n",
        "    # Training loop\n",
        "    for data, targets in iter(train_loader):\n",
        "        data = data.to(device)\n",
        "        targets = targets.to(device)\n",
        "\n",
        "        # forward pass\n",
        "        net.train()\n",
        "        spk_rec, _ = forward_pass(net, num_steps, data)\n",
        "\n",
        "        # initialize the loss & sum over time\n",
        "        loss_val = loss_fn(spk_rec, targets)\n",
        "\n",
        "        # Gradient calculation + weight update\n",
        "        optimizer.zero_grad()\n",
        "        loss_val.backward()\n",
        "        optimizer.step()\n",
        "\n",
        "        # Store loss history for future plotting\n",
        "        loss_hist.append(loss_val.item())\n",
        "\n",
        "        # Test set\n",
        "        if counter % 50 == 0:\n",
        "          with torch.no_grad():\n",
        "              net.eval()\n",
        "\n",
        "              # Test set forward pass\n",
        "              test_acc = batch_accuracy(test_loader, net, num_steps)\n",
        "              print(f\"Iteration {counter}, Test Acc: {test_acc * 100:.2f}%\\n\")\n",
        "              test_acc_hist.append(test_acc.item())\n",
        "\n",
        "        counter += 1"
      ]
    },
    {
      "cell_type": "markdown",
      "metadata": {
        "id": "TjRPDFWxj2eS"
      },
      "source": [
        "상당히 일반적인 네트워크 아키텍처를 선택했음에도 불구하고 짧은 트레이닝을 통해 테스트 세트의 정확도는 상당히 경쟁력이 있습니다!!"
      ]
    },
    {
      "cell_type": "markdown",
      "metadata": {
        "collapsed": false,
        "id": "HxU7P7xFpko3",
        "pycharm": {
          "name": "#%% md\n"
        }
      },
      "source": [
        "# 4. Results\n",
        "## 4.1 Plot Test Accuracy"
      ]
    },
    {
      "cell_type": "code",
      "execution_count": 19,
      "metadata": {
        "id": "_Pk_EScnpkpj",
        "pycharm": {
          "name": "#%%\n"
        }
      },
      "outputs": [
        {
          "data": {
            "image/png": "[encoded data removed]",
            "text/plain": [
              "<Figure size 640x480 with 1 Axes>"
            ]
          },
          "metadata": {},
          "output_type": "display_data"
        }
      ],
      "source": [
        "# Plot Loss\n",
        "fig = plt.figure(facecolor=\"w\")\n",
        "plt.plot(test_acc_hist)\n",
        "plt.title(\"Test Set Accuracy\")\n",
        "plt.xlabel(\"Epoch\")\n",
        "plt.ylabel(\"Accuracy\")\n",
        "plt.show()"
      ]
    },
    {
      "cell_type": "markdown",
      "metadata": {
        "id": "nYFamUJLkVY3"
      },
      "source": [
        "## 4.2 Spike Counter"
      ]
    },
    {
      "cell_type": "markdown",
      "metadata": {
        "id": "MDE3ms9ulo-t"
      },
      "source": [
        "데이터 batch에 대한 forward pass를 실행하여 스파이크 및 멤브레인 측정값을 얻습니다."
      ]
    },
    {
      "cell_type": "code",
      "execution_count": 21,
      "metadata": {
        "id": "dqIjaw1kk4-6"
      },
      "outputs": [],
      "source": [
        "spk_rec, mem_rec = forward_pass(net, num_steps, data)"
      ]
    },
    {
      "cell_type": "markdown",
      "metadata": {
        "id": "n4QiJx2HlkMH"
      },
      "source": [
        "`idx`를 변경하려면 시뮬레이션된 미니배치에서 다양한 샘플로 인덱싱 할 수 있습니다. `splt.spike_count`를 사용해 몇 가지 다른 샘플의 스파이크 동작을 살펴보세요!\n",
        "\n",
        "> 참고: 데스크톱에서 로컬로 ipynb을 실행하는 경우, 아래 줄의 주석 처리를 해제하고 ffmpeg.exe의 경로를 수정하세요."
      ]
    },
    {
      "cell_type": "code",
      "execution_count": 23,
      "metadata": {
        "id": "4HcwxfC6kfy0"
      },
      "outputs": [
        {
          "name": "stdout",
          "output_type": "stream",
          "text": [
            "The target label is: 1\n"
          ]
        },
        {
          "data": {
            "text/html": [
              "<video width=\"1200\" height=\"700\" controls autoplay loop>\n",
              "  <source type=\"video/mp4\" src=\"data:video/mp4;base64,AAAAIGZ0eXBNNFYgAAACAE00ViBpc29taXNvMmF2YzEAAAAIZnJlZQAAjWBtZGF0AAACoQYF//+d\n",
              "3EXpvebZSLeWLNgg2SPu73gyNjQgLSBjb3JlIDE2NCAtIEguMjY0L01QRUctNCBBVkMgY29kZWMg\n",
              "LSBDb3B5bGVmdCAyMDAzLTIwMjQgLSBodHRwOi8vd3d3LnZpZGVvbGFuLm9yZy94MjY0Lmh0bWwg\n",
              "LSBvcHRpb25zOiBjYWJhYz0xIHJlZj0zIGRlYmxvY2s9MTowOjAgYW5hbHlzZT0weDM6MHgxMTMg\n",
              "bWU9aGV4IHN1Ym1lPTcgcHN5PTEgcHN5X3JkPTEuMDA6MC4wMCBtaXhlZF9yZWY9MSBtZV9yYW5n\n",
              "ZT0xNiBjaHJvbWFfbWU9MSB0cmVsbGlzPTEgOHg4ZGN0PTEgY3FtPTAgZGVhZHpvbmU9MjEsMTEg\n",
              "ZmFzdF9wc2tpcD0xIGNocm9tYV9xcF9vZmZzZXQ9LTIgdGhyZWFkcz0yMiBsb29rYWhlYWRfdGhy\n",
              "ZWFkcz0zIHNsaWNlZF90aHJlYWRzPTAgbnI9MCBkZWNpbWF0ZT0xIGludGVybGFjZWQ9MCBibHVy\n",
              "YXlfY29tcGF0PTAgY29uc3RyYWluZWRfaW50cmE9MCBiZnJhbWVzPTMgYl9weXJhbWlkPTIgYl9h\n",
              "ZGFwdD0xIGJfYmlhcz0wIGRpcmVjdD0xIHdlaWdodGI9MSBvcGVuX2dvcD0wIHdlaWdodHA9MiBr\n",
              "ZXlpbnQ9MjUwIGtleWludF9taW49MjUgc2NlbmVjdXQ9NDAgaW50cmFfcmVmcmVzaD0wIHJjX2xv\n",
              "b2thaGVhZD00MCByYz1jcmYgbWJ0cmVlPTEgY3JmPTIzLjAgcWNvbXA9MC42MCBxcG1pbj0wIHFw\n",
              "bWF4PTY5IHFwc3RlcD00IGlwX3JhdGlvPTEuNDAgYXE9MToxLjAwAIAAABByZYiEACP//vUn+BTU\n",
              "EvxL4Wth7dS3STDRcLbUmfXgAAADAAADAAADAAADAdEmJLwrJ2zbdQAAAwAAAwEmAAKiAApAAEYN\n",
              "ZOK6pOAAdbxyvtebqZbDyuTokg89HUKIG1OPdFDruOZZ9WxI8I7QNZhR2C7yF38W6MGAwtd0n1ya\n",
              "ygf4zr9suvIdRT75w4W2+hOoALwbdo+lB+EaOXXmYYM7DvNvpMEQa6nUDqWQzrZ8XJwAIMBnrR9M\n",
              "SvlVheL98W3JtYWV2oRLhPahsIDMNWIPC2ZZlHCoi1htxuHs9FDizb1Snysh/zmTl6uobm6zm3yl\n",
              "DvJEkWHUorgEGevmJfAd+W9zxYsvvUInLl9Ea0+5l/SM25QqMsbDXu0G9iUhpnQrnk7qJqgJz0GG\n",
              "BEg1mrGAAk2XgBbjF/DGBksxFROy4NP1RhO6S9/6cf48GUKhauwBK82VRA5hP2OEbwXeeA2oABWn\n",
              "hrcH4ktuxpy+43ZxDrQCSACgP2GzyLfHV6xZOKzRBSMOvgh8n65tQjgui/mZpnoXNS02700a+AZI\n",
              "pMCvE0L72NYHZnRhZqiRUnmpix5PS27rbWl+KULYktUxUWG9L2SU8u6s+1nmROLOokfPRa01Hu10\n",
              "GWfwBHL7trn84kF4AAESwAAmBBzSwTYnd00oSDFaY2mgl+WlTYrOj1Dl42GEhh4IBHnL8QOmKFXn\n",
              "Jx8Ygvni2qtzM4UoKurbUH6GttXXPcp3WFYRNzu/voGGMtYEX6em9m4ain7hXVx5xHq4EJDl2CIQ\n",
              "tihjPAAHS4jL5M3tSQyNjUc48H+q5W/gAHvbt0/6DKzAASYgQ7ysUT8ptsUpKLI2nXgho+i4LgGF\n",
              "UvAn7vbG8P46lR8chx4MEEvNPGhY0NpDfiwsSKs0yriOIXyrvDslGEBZHkJWuiAAQtbrKF4jtlK5\n",
              "EXTAQEkJ2PtBEn2UJJjnEYejvEe6pfMam9Bxlm4yzMS+4oN6P26b3YhYc0kDFJd4MQYPeSsVtvEf\n",
              "NE+DUnull317N9jjaGegAaH2vhvxhtqAAACaMgGo9SqAdfk8ABadB64ydaUKaganQRkV5y1hmYJG\n",
              "oZOjug0ZrI/mgwNekjh5WwGLlutj4f2qRExbHM+WQPyUwn5j8D5DeAYXOBP0C+NygoeqQzIoHGx+\n",
              "yif4VgbjNZwnYQt03NnTGYeTOZpMNmmbV52GecaNIZkJ9V+JGf/C+yKEGkZpsm+uFrD3ianv1yrJ\n",
              "Qspn5NYEkVLrmLbk9mRv2fLm2TY/7ubnrOEO/8IymI9myjnd8KfFdt3QWIXYUxVmg+OwJYlAO6VF\n",
              "iQ/TcrSWmL1KLGMtsiuHECCzo5fWZ8iqa+4qLB52ER2q9phrXS2rUAAtlelyekDcom/46kah41UY\n",
              "BdWfcdqNa6jmz2Q82ASgJlsV/pXTzZTJaaT2MR6kkp98BG75IcrK+HXf+27WYdu6RLr9DEdkt1h5\n",
              "/DhHjlb8Pu22UsA/50SbyCfn2HjFnuZgOY1V5O323Bz5AYkcYkzdLbLJ+poeLInOasjrP5Ndd62j\n",
              "dL/e+ViAAHOd776KLzOBARYbmIRF8h0vw4SIzc+4sCZTLwyjlPd+CuLalrIq2rHh9s/Z/EB+F+1J\n",
              "6C+U2+kCYrU/E/ctK5opcZvDUpQx2X7Kxd6XMe3/EJAnfbqbWBeCYKt5+8e8Qt7BeVhSsbb7D9wp\n",
              "8r8UDcuOcGPiyb7Aq7QLACgLaD2/nqbLYMAGHzSgAXKEqXBSgnW26k1J/gZAw/UAFHgi11ur/3Ky\n",
              "0WWLyVj+K+z3iDw7Wq6X91bB7uk6IrY4TQiL3ZBtdVUMgNlOInxXsUTGse/bJIcqtXZZwfFJCP5s\n",
              "m2FlvPc66Sr0hMvH4ythhOAXNkTR5AzKPsFG8iiKsGPu7m3yQplS2ui3WU8rXfgNSewtLnezX+SK\n",
              "3KDBGpJP8y/WdE17MOhGQVK+yGuREl2Y4CmTkhHjuKx01+5Jj6AsmFeH6MnoHByf1O4kyOvdSaB5\n",
              "yBDrBwAFK39Pe9FHZIkBT6CJt4QcoGk5r5Zd1KSsSp7gMp//3IgpKWnh/ogYs6eCMlnwx35M9x3t\n",
              "YuG/ewJbb4Y45IozfD8C8ZDbU+OxuiBb/lyLm7+LxZx9U9s1an/HwsEzOwAAw8QUAAMzZaYOhUAt\n",
              "9tyWROSxSaCUvGJqfTLwe2PCIEFJvClCa/R06oCx8348IAAGmJtDWkyxrRxNiNM5YDZVtx9RZyoR\n",
              "IfShHnr2jwr3H4Pu9n5W6mQJk0R3cOGS32ft6F/p5intkvrvoc6GifWgmea4fT8JidwvHPavT5Df\n",
              "ZGR8wJnt5A6EdYbksD4fQ9CfaU6YABCubGAAHw4AEr+Iw9dYsaZiEB4l9g5H8nmDF0G3SOazm0x3\n",
              "U7NOKda17+jqhwaH0PMClTUuOvLbDPVEGWycuiB/FTF2aEAiMQGh2JUeXa8uouP9knhkBR7a+6X/\n",
              "BcFz2fJ5WHV2MNsHCSpnt0j1wsY0CXUABHBbMK8vhS473Z3sqq5nY4pvFZcNPt8r5xva5yykArRm\n",
              "w6DrIlWE+uKck3dRhUAAfHbHkxxkACuF5MIECLPOWqaeE6vSj2s781LPCqbjNLK4+0MZuYCi513k\n",
              "NclMkhXq0kb984xoACo5c3uPp0xwpWCy402VpZ5SuNwa3rIlTTL9qBHJcAcrpfHKPZxpolCHZLlq\n",
              "W2vNbLxsBxLBn5aZtY96ABubTh/A5lIAAs+gAX5qDuSt+H4RWx/g0ILoXAD6/4hT3Snjz6QjqSzW\n",
              "ZLWXktLkjipvgrVhSIbQvrpV1ZSGKy+UtkhwS28K1eBx5BNt8CP4pYY9hyD+pCQgAA4w3bhxgdw7\n",
              "tXfvxb3UXA3+H+uZAbQEJel0+SKjvD9ypVlQbOLHfmEKdQNBg/iUyxE0ABIe2vVsKwX6D4e8E9r3\n",
              "ok7aRwN097Kgyjml57hT3D5nW8SBp1swDALWIiaZZNebhGiGSETBwmFhJ6PDyG1wAAFgmdgVbiik\n",
              "X9KiAr5akwAEuNpa+qgNfnpaKTQLgtUGNu8sZG6ldql0PtDs9qgQUeszjdeJn4+FqkV4E3Zkh6m1\n",
              "ac1Tuv6nW/4rzqTL7tOGL73VVLR+7aQb3H1IwdMsSfxO8KCl+8fn1BpIsnJZ1luiCbbxB9G82pgZ\n",
              "bp/1A+ebnbWEdp5/Xkufh+cEuuOtPY6mmwLTTfVsKMwCHWWQ94EZEdP0vNWJtKtasyEwaDcvmOvQ\n",
              "mbk/38JsFiqZwwIe2cy2LzkQwkc83wUBhoKj8GGiSeSmFfsuiXj+dd3qPvuclA8iE7iYoAFd0bkJ\n",
              "fqeGfSFzh5BdbRF/LNqhsEkPX9HYkM3CLbuvlex3BaLNWkpbV3XexqXbIg2oItkzFlk/dGCOa8/c\n",
              "/a9Wn/5A/nyJMWv1AoqD/ITZdSxS/ER8l5gBKxqKLwZVB97+Ac+kGyNOlEfYb9wdOcAZcMkJ+CUM\n",
              "2xYIC9kM/fiEY27C0wssvcRNcbCcbiVtAW4Mub4PjxYy6/e9jGQyZY0cYRNn/4yrH2yAJxhJP7Nk\n",
              "INQA9aVGlQGPalxYv5Bp3oyjckhkMbsbITxrJp00MiU4m/B5rmjFIg7eCiT0+y/Y6Yo52VSth32d\n",
              "jUkAvmEOBPDI2M+hg2+KGMVry+cPUiYluodV0qfRC+xB6zAh7pnMb+nSRxIWlKnnHtN1EME2E+7u\n",
              "f5RcB2deLK179juJTrVr84lerHsY1r1WxVJD/wbCTeU0BHykKqX/bWW6HEkCrMt/ye9Pq/8iOkPp\n",
              "L5yzI2u8INttcf1mou+z9eVavf2sP1frcMJ63gY9bDW1lN7NCjm1ajGILQwGtqfvD/8ANap47Y+r\n",
              "+EHLvqkrW48eUJTtRJs5xelGHVccHsLroVtbKma1l/v0JflqF19guzJL5zQJUdFKvHkvrCyYwxYF\n",
              "1oSCnUAz3eTFo5QBasL9N2drJ7WPCscC8rFBgChS9U9vVaPTifXfDmARZRw4HFXsEfWCXdQaM8t0\n",
              "/II9paT+82Q1yRl7IGzlSHfPMiu8zm5WFSKp95kFiPXWlwkPtKZMptgxRn4DnTCMM3S6YuByef4k\n",
              "55FyvxZUzaYkpmNQRCnqHWRieBcrsCi4hQbbJTnK+Gjf40QztT04jupDCWh8QJ7TOzK5xpKISb9z\n",
              "2djMYlsxe3xewZnjqqGEljySfIdvIfTnvFjQR+lUp+81dAdRSsQfL0Li/MOpgvjWtwPTJ0Fi+g66\n",
              "X4D6lZg/rLjUHDQ8ncx0eiczAOLFYOnSmVg9eWzkTs6S7cF+oqH/q9Lu32bgWe3wXSP1ZPGVbi1p\n",
              "0wknFT5OHHpiWDOulq7CLl+3wqJlDr2WUuBX89w2UoXmIWpi7MpRWPTNzaWqWhGLeAvdE2SbCInf\n",
              "tJnK9F911rWYIM9eZhCGut0Z6wMZ7Mk2E0xKRVxN5OeAYizQcAXD5sNfjML3w3cXR7Akb7+VLGpp\n",
              "khKEjKb8DmZyS5f4OvidVFDDhGDaw5aI09LcszC/FAZ0RhDBOkLgF4n/4xiGHxQvUC8lYDmr1hXu\n",
              "+HLkoq9bc1LZR0no5bCFbT8o3m9neUMZYc5ppXXmIVHJUaqMmr3xXzXABhQiimmiGx/BptPtDp9K\n",
              "8xXgh5rmx0E1JuFhJGj9EngsDKxjlVQrVZcjpkZvwLD//LKKdyvj+BzxFq06g0Zw/x9Y+Ag0qRbJ\n",
              "+o4JmB0xYkqyDVSK14Qgw5tm5vQnL8qJTcA6k3EPO1+l2QKpRV/wyyyV9LSmKrlHW6nOnILJvxeS\n",
              "8ZL0BqygCtu8sheua2nNiwCa3R5keRmOFU2dX5jT4u4euF1jsRTCksZVdufU2hDEmX8g3iIOK13R\n",
              "N5upgy+eZjBdbhURWmVaFZYGpd7KFp3PqHbz/sOeF4cH0gv1TSgEtpE7pUlsZGIIlm4g1mOjPXV7\n",
              "zbmiNUAIFchzUcYj1cp2RRQDI3buewaeQps1kt7U2pF+wqKakFpbDv6IwFYSdn6ZkKJnfrxlDbLG\n",
              "2F6DBGYY/QRcbn1mZ3czJGg683/SxEF49ki4lnIpBlSBNkkiWVAuruGxq6+7ovg/312iTVGmJo1D\n",
              "Co8mUgZY5dnnXty1ezL7zM2H2kltcPe2PghzSNumbRE9aCCOKmF2mOkEACjBimPzMAAFzqW9l+mX\n",
              "8vUVJUQYKLXz3dsX7US0KKc0xClbBtfINmkw69scIxO6YYOQfLL8y5xIa/+2U+ABrhld0q/WsSZU\n",
              "RRJcewf1bbclHpyRvwiFcdoDOBCdCWHLalkXkvcwsNIqAVkZi0mEMYipsoOIFRDM6wmZ+XhKnL7T\n",
              "oQ2UFzFJvM8oXR1ezZ2XPxHhJ6qxpRdT0GfHaBl7DjmtJIXju1L9LMoZzIxCKDgXcK0h8b6fnhLG\n",
              "b/ueaEzysZ+RoFUASYG+HuMMDrWobZmdPYXripZcWXKRwSenE00dxk/6d6udpYXBrLfGCelaez6h\n",
              "Sdch/HglTshy6Yg+tSQYc6DjmQua1iSJwURuwqSZxU8+u4NJsTbuyVeF6dTJKGnUlzlqtb/vXFw8\n",
              "HGtFZ9ca3Wt78DdVxyf0ekzWyWz/Up34FVZ8ICwmvm67M2b7L/2vkRgLsZ5s2dvNGuwrLbD2KYaG\n",
              "MKCWhdd1ZohHy1G1NRb8C0oamxLUBKWCjtvpeWPKA+JMgAACNwAAAttBmiFsQj/94QAABf9Q1vbw\n",
              "HgBLUo0/11IvFuzl6CWRDqBrBLzysdeNhzoIXxuo5oaQLEhTSENWYt4QU+BFof/xbV6rDliAqaSA\n",
              "iea4INnMdgqCBY63B9NMmwrhdQwrhSJt2NllF+NCb+R/oBEQtRg1SQ7mG3IoVoOubaIgj8JY1KMp\n",
              "e54c9yj/GxelsydACvOy8EIUok3qw4r+4oJVkhO1VHTsShhYgyTGaO4ApZ5q3v4XFDZLapK2KFwc\n",
              "osyTe6AKmXfFS3vBopj6yrVNsPSwql+qxkh/T+MeaGyx0wh40+/4I1u166veoYNHg0blrUhpnBRY\n",
              "EmfJN1WZnKsXzpDHzJpoA4GKyrsjKSRds1y+/E8oUZoEhwnOsDkkzUO/53VtsxY4Tshzo9yVy4Gx\n",
              "nP/rGvxv9xdZGBWnGviazMFSaeYWrBpF1a1IYRSY25zO6qC/x1YHaougHMgTCTwg1uNkrQElBNEV\n",
              "TD3y8VhO5z4ZRH5xlmbpwTVmih/J72cRWrzO2Pc1VFLUL7EWeyj0pYzq2Z9ux7Mw8RJdj3uk6ury\n",
              "XDn/Ym2ec3mOg4hb6CNyFmBBAJEE43Ali4JgWWitLHVsBfMnHjrV2/ixEqQJkutxATz8rQZiJrOR\n",
              "jUyOxLBj/Qc0v0OzgKYHqTCxLozgz/djzI4ksxV3Kq15CUQEhSzmgvMwWIPjxRq9ZN7gX3h5mBtL\n",
              "Wv8TqN3/qlTTXJ3Cl5yMlNoGiL6EdioJCq+lyXUeSlyVJYieosPgHtdSjfeL4j0na3f6CF7OzmP+\n",
              "XVQcsIRkp0sDxoNC4Cjseny5y4R12+0UlHcR5ByRYun+IyXwnb8EqCRpMy9fFUGO2V6M0hn+HquT\n",
              "ezjSjv5ShMf8LRGWfV0v6JxgKYKxN1npYhzYgXgC94xd9id8ZxVWlxZ7iNrEIX93pMiZuHUdAVkS\n",
              "BSJ74JhAaay+shaX+T2NW3o3a+Zx48sWp4ndfyBtTAAAAzpBmkI8IZMphCP//eEAAAX4g7HKTAC3\n",
              "guSqD11t2Az/R1eTPUCERS9SHV1X3nw5iqBB6KLJaIS/0bS5QqTgarGGC7XYEVQ53E2UTEyVCM7a\n",
              "o5EpNc/xo7gyk5fD/d77u4/3WFWGDuO4JHsJd9eZ6lynxOhAf0+oG5nWITGziZtjkVnS5+Z9iyvk\n",
              "pKZqN/9lT4L+e02ZMdA/O92Y/Arb8LZdZiSgK3yOfoXAbcKD30tIw4gKqSLo2SivHzI8indehr2P\n",
              "Fgh/LEyZqEX44ElvnPh3CTZ7gAl1MOJKm8uVSX3b+xTDercnsKgA1ScoiGNmbeA82PJbP/k97qfz\n",
              "KNRgs23ZcMw3JyqLcEeorsYz0Kt81vUfUm2j9VaLG/iW9Xj5+9YG7Gh5dUwVNiIFyAVI8/ndZqaJ\n",
              "kCFWE61jPIQ/1DEHi8gL3+YyHkwx18aM0OopM8T3JpyGjWEP3A2srgFQP//foh70wLuHrblqbd+B\n",
              "A76kW+GqP1jOa+3et6lcg0Oh27NqGBJg3Oc+vBHNl1qz/1mWlfnzZM5t7kcC3yywRf4n0XJLWwLA\n",
              "WuoYvi82YVsmvOC5ldvs9SSGJrvFuYJ4/MEFJmO4KYg7TWKkDszchFvEN+H55LZKnbQMLTpiCPae\n",
              "QoHKpD/x7bbZrxSbCfK/gaeNhuCLRWAgTNZ/nHIC1Py6Q+g+cW7jn4Ry2ZHnmDS3l4mWr0Np/FYN\n",
              "52pQfb1ynoz1zcmPr63x1QoRDfLrCdRri4XWybp3xeDiS5LgMr4mjdaebh7MqDXEQGlcRYRNePvr\n",
              "rqzp/Tn7JyuHDOimZpK7xdalWN8NxqoRN4w5LMdDXGlMRPXdrn6rWFbbohdQV6ywAzUEjXH/aTMn\n",
              "2I2ZpgbtkwckzZbLSf5Ta8GhciBVpdcuJccz8lSwr9ovvKbozN+57ccOjFCpREHG4alefQP6sUGH\n",
              "g2GXfLytiPfpvEcqfFO6XM1UmPmA8cKreHoU6gsyQzLdHObWAYfUUByP63rzIjTuHO3U4taC/xEC\n",
              "Ul/Vq3LQkx5ssItGr6oKukyW+nsj1JO8DfCwwjdHYAN3ybOdmcmksQ69H32nH7E6Dk8DLjrkXrpM\n",
              "a7pBAK2BAAAChEGaY0nhDyZTAhf//oywAABlUiRF4gP3PpVNC3fmM07TccLs78U6TwQ3WTplXzP2\n",
              "YHAi2um6/srIg8LdHzlx0uWVNO4npVXsLRteh2kpSDb/jv/9VpPAZg2PL9uhVPIvo/XXpzwLDcyf\n",
              "y552uPzXFtDJGiV5LoVCgvRET58usRJbEfvNBzVwBZanLOd6QDcMV5ACafyAgVF73S+WRpy7471+\n",
              "49KVuzoFOD4nQ6mk1rx8sIWSwNGj/6sBe53n3BeUECwsjo6HLAKOYCH/suk1bVVBtsbVn3ZP/o8U\n",
              "pW7q60MKJWZJLUxQGw9UGty3r0qx+kS9mVLMEoPHZBWvV9gsY/HFgS8r+NjpR6kCWNeEoIoLsKtp\n",
              "6Uq+YRWLqI/x1ZtOIYpMwaXyZWwe+O9YXYAlVsqxhCci+FoA1YcFWpNLFyiKW82z+sKIKV3r0RJY\n",
              "ots+shoyDQPyJJjTYI654/Tly5AWEWWFmYAQp97cbb2et8EArsU5iTzMNF/6I4ZElKksZWPQiTzE\n",
              "JgY5Be22TVRydAkabl7CnsIzsby7RBfG8Qeza3+G3ODY0dcsRbbgHnVS1LQ4RK35dsiFHgTcmzce\n",
              "teqnR9VWo5Bc67Sb+p1RaXzcXuUp75LZl+ET3LHSLscWMllcz2nKZgJTCzhL35LLPtzaBz/14YPp\n",
              "zAM7R9TsWWwnFZIGE5LbNO/l4INwCAOZESh5MsUl2C8gBzm7dzyZgHglb2zpi5FEt1ln1jNhHBnb\n",
              "+OxPJOIKiot3V0FKveFx0i6RLEwPWvoS8JV53qrxAcmWWqyfk/y5Tm0LWuxJW6N9cfAr/Henxz4c\n",
              "/ZfXJLsBIOxIPhi2JOVqJkXjsZbu3+gvEgVsAAAA6UGahUnhDyZTBRE8L//+jLAAAGLAhUWlYkkc\n",
              "AppGlHjMqV9uwbLgRRAzcpDvBQuRoiV4OZR0lkW5qIWq3oJ1SsVqTWw2eNcCS5FplAcBQhUY6iWS\n",
              "UWteJQM5yCcUdc3hV36jY9hFuMiteNlOt9fsaPkSGmkxD0HwufSW6WB5Yck/nklOmqmes1oNVkgk\n",
              "5Rlt5lA3bLrt8L4BnWjDR7ViNF7XD9uOYHa1oa2V7/T5S9bk3spzuE7WGtBow2ttUaDgYYuY3BJK\n",
              "P7lkI1321aMlmH/WHCHSJljr6QvXz9RSmUx6plBipKL8ABnxAAAAlQGepGpCPwAAIMVOwERGiFi/\n",
              "C8BYj+KLwAaeO7CwHZaXowWmvhupz9uaMNZfXzWyMWuvtGsVvw20NSkgSy1oh8GROYnxA0E9FYI+\n",
              "SFMAJP4haEokbeFcwYMNYTvpJMFa+iJRj4U2NsukpRgVNd/cJOuh+oqp+46LwL8f/xrTY7s/vwOZ\n",
              "lybkgYGD7GLoz2I55iaaACkhAAAAyUGapknhDyZTAhf//oywAABirrz9OgoV73zopMTMChcd8C9d\n",
              "T35Nj3xzi383xwV4SP93e8iwMGAlj6ab8dKEKlNsOvOUpEZgJFU61ddBthjB52kpsDE9aNC9Xx67\n",
              "nwhzL09Fkbn9mPbZacH8nLfhM3LaabzmDoLECjoafQuL84oHvbTaQRkW8vBqNmKCgarA2BrKFh2P\n",
              "CZiJ0l6Kf33YM+ooRmWTFxA1SecbiIDWt0BBvK30NMOeCy0sRUANk9rmDi/YKjSkgACpgQAAAG9B\n",
              "msdJ4Q8mUwIZ//6eEAAAYn2NGXH9OdkMkV9zeoP4ipGPLJW7soaJPcHXXpw66Z8kSZTziPCd3oKm\n",
              "GXWEgUHeZK8fl+PpfnwuZJKwk4zTbHywHJZwhiWk3tRcuaQfAsY5IFMJ+D8GoxSWVN4APSEAAACQ\n",
              "QZrqSeEPJlMCGf/+nhAAAF/9ZvLOOeEDOkj5Dcgn96MP2THryoh68RR5u3Rco40UpDzjwFc4Fypw\n",
              "rNPugB3/iUS9BUpyhHX9/8AVPuPoxFXhTJY2nbH7pNzzHEYUaz7KCvcYsgez8Q2A2tvMVRXGW8Mw\n",
              "tnR8m+M1AwPstUUrAArYunBXVzXoBGUMfVtSVDjGAAAAwUGfCEURPCf/AAAbYWnYJFMZjr5/0+a5\n",
              "YoLeggSzSf/OdjP44X0GqHUiXvapuvehJgljAzTvbmjCA91TuzmjWKwd83BC/sVSFBd2gQwOlCwG\n",
              "Ad+LDOioj53BvPsAJim6rATUvNY85H03Bn6jwPrvfxxJaNvHdNB3fWT+0HoRwma0bj4PGMWYPqgv\n",
              "tO4GtMua3LRfFOtG/OCT/AcCrAzH6satKlguYheKbZl2O1aozFBy8+522SglQYYwnX6LuBAARcAA\n",
              "AADFAZ8pakI/AAAeXI7kAAM9sflqT0KlIk9A1eZSqjSPUCK4A/aUuuWHhqoCKUR+rtZ+Iafa89gN\n",
              "1OjLns582HFmUiyNTBb8/1LKcecVnPCHp+IzUqX6xX4mFgejRAOyyAQMblWPirlqvJ//LhWS6PnY\n",
              "zLIT8jx/D88IVTezXLu8x51O58ZIDFCFmuvM/yeRhQVNmRz8HdAAll4GnU20O6bhQCHoRnogKRsw\n",
              "xuMMB38O3Li3QV4S5HOYodxlQEqE61vOVBEACkkAAACyQZsuSahBaJlMCGf//p4QAABdeZdG5zOq\n",
              "uLAA7QYOrzT0aFGArixGSsbFmb3tEWo+JCfZ98YbC1kA5zTBBybg6hn9HIA9ZxWENcrvUDlzY3sH\n",
              "N2hRHBhQqZ82F1UdOK1O8N/0xyH8rYmUFOFTUzIwsRv2tQO7y/gofBb6TzPieZHFtZim6vSNZGiH\n",
              "pCe4xGXx3g1BTdxA10lE2DUm9wRMKC4g86bxe4yTVNr4iB/Se1cd0AAAAOlBn0xFESwn/wAAG6vj\n",
              "v5N9wAC4WoP/Log/lG2b/mMZjL2pW57mISuc5+XOXD4564THNQmsZ68M80n8YSu3mawiDwdF/84Z\n",
              "vh6kV3BUzxQBsREDDggszCBTnb9k3mzSHN6i4xTcjOHd/zlyXMBRiYLCxzCeFdexET+CkOKHJWZZ\n",
              "2iy7MVfL1VbBtUySYdbXnfkMITu9Sk1pvsLlDKkBlpJU+5Ohn/rUkOOTtY4dnwPa0mPSoeHMHtHg\n",
              "HY2ri7DYUGJzeiHrO87fX/PQ5Np3S2xJfFcgX1vqeskY6SpmeOkiClH+nj+VGgADFgAAAGoBn2t0\n",
              "Qj8AAB24eYM2Zh+LzIO7ppegxi/TouOurpJTxNPL30cbU+3O1LEcahKM60oLmGS/RMYzG203u0ds\n",
              "n1AckHtcC1boU7bAaTB6/9QAfutVLRLWEGybpUxmeI9Zn0VcXXzkSu1qABDxAAAAVwGfbWpCPwAA\n",
              "Hb1YpSABf2OYT3ZxdcX/YBC83cxAkO+nhDKtpiEUxyK/F2yAC0WHGGM67gP8mIrUSsJ/w8cO4K1B\n",
              "vNMN9Acr4nY2elcA93Wsf/nyBjADpwAAAMRBm3JJqEFsmUwIZ//+nhAAAFs93429OgrVSAEP4//4\n",
              "/bcuikFOy+gW6OCpfQ+Mts8sz0na/2g8sj1X5rSBJrHwzLX/qqdSRZOmfVUCFQwV1sLQiKSSKp+d\n",
              "fB2sJfXAAIxmAjhFbe/z5X/vUcgjC8xqRIxrjAgheOBCuek+HmFtl5qdovBM3T3IJi7O++vNpaKH\n",
              "WkuCG81KyJKJeYKvI/XYNJSrT+aozfiUIH+VLFF05QtwwCVqyZZIAf5PJxI/iWJfUgfNAAAAZ0Gf\n",
              "kEUVLCf/AAAbq+NIy3cQAGmY8IgJDuIxYCTttEH7KkAvpQ8Y38lzBspQ/1LNIT6u+L/yXgikGggB\n",
              "YLlejEGowK4oaZoLMILd2LUL3peScMPYQSJGgQYdqGhWqlnRqhn5I2YAKmAAAACNAZ+vdEI/AAAc\n",
              "+sdjFILwLz5VX9hvnHtqgR7pEkRQYiDtAPMXiQLayLdpPJuXERATza2sgE7KHgaw0X6+hcixhUgB\n",
              "SxJ/lWLdwR0DSKb/8BSAEl3CPfEyfyoSv9nHhUeVd7L7PU5RCZ1Zbv80EioAoMB+Xy+BeG2Dd4oF\n",
              "Yp2r3I8BD+BVSZK4e5kkgA1IAAAAdwGfsWpCPwAAHP/jXSh2syMQR+Xpdvi8vUPGuD3iqu1ZGVX0\n",
              "MAeKwqVB9RlHAzac9k3TUTNf2p86zPkm2jHUzZCXYq0xdjhdpXhyGu3r2/j/rljjN2eIAS12zoY6\n",
              "aefJfKxqV95eCO6g2mVAabtvgxoqPzFOjwSNAAAApEGbtkmoQWyZTAhn//6eEAAAWIHmsP4xskOA\n",
              "DZ9K+ESMytmuS+OQRMdWOEFrYQuF/+OJEKCdN/7W/KcUm66JNaItwHVXSyrRRP2On2rVraORJVAR\n",
              "DM/zQ8VsQemYX4z5IrUlQoXeqJF+8UnKhSVxkzCqrODu70fNuwWyRYYuEonKJ9c2Vf1se3MbKPnr\n",
              "/WaPwxJDnbDdbWoS+yaOlunESFOSvwIuAAAAfkGf1EUVLCf/AAAbq+LRSj1to044Am01YYKAoarq\n",
              "H8I711H9ZY0EXMdNSpkuBEkIN5WrB39HrsT7Xpt5e004rCb1sadvBY+Ah3Q94a1FOQdFhdffTTFj\n",
              "/n5rPr1GX8IgCZ+Bws+bwvOvJa7sbD9QAaejhg893gaKwXxjNJACHgAAAJUBn/N0Qj8AABxYeYSK\n",
              "9Ajilqc0ELbNDELqnJauHecF4yV8cBqf7TZDAQRToPf0OqUqRB6dmloqWHlzxKHmvjjFu2ByLlb5\n",
              "M5GDp8X89wlRycbzhZeSCEh9+9vBOypKy2MRDd2JfBnuHMTx0eV7kJ9zV2Z28CBRgx5LoRvdfIs+\n",
              "U9H0CGWhUFR5p2KaMLV30H9ZIgAl4QAAAIQBn/VqQj8AABufbx/hy7ikUr2C0FLxy4EJEUp4lImu\n",
              "lmL8JY8xb4XUAo9obEMhFibtYLTCQjVBLmb9m/m6RUjgVzQVLbASY/5+8Q3dfsvP3GACcQAMI5H2\n",
              "bK5Ii2kwljQMN7ChJS9uPcG4ax19HnuH7bIigK+2GwXrjRHkPwuZIPNAxYAAAACuQZv6SahBbJlM\n",
              "CGf//p4QAABWvd+Nvw0q2kAHaDB1eaeVnrKQzIab3tEVpHtCybvmkCv0cEOzPQo2D/KJ6H0G8pfd\n",
              "bqvK6IbIeOJpI1ND5lUzFVQh9mNGHmLVmc9PaUvMdyfdk8WnEQ+cX3oEXdo1mqxUqmW6hAKT2eeU\n",
              "q413JStvrVIQXEf2p29961ihExtrLx+bOdQ0a8VqitywlB7PrEQyzMyqHsU3hR8ZcGUhAAAAm0Ge\n",
              "GEUVLCf/AAAbq+Ju3ec9Zl9FnNh/fltACQXhRMQOrBWoLouvIlMcyWhl54V1tv9ys98/TYNDx2FW\n",
              "Wksx9fT2TYoQ3lg+ijDCVS/DJoN3otMkVm8BXZMv28AEPwLA4daU7kzUl4ZH6m5VP8Eyg2tZaLF8\n",
              "vxwRJFMzCmUZ+nZRK9NyALSw2gW8HzKWFXKaB42enRI2zDhQAB8xAAAAZAGeN3RCPwAAG6mAo8bI\n",
              "fCYGfGh1sQscTzueMJDsaiteNQaOtac9HI8MN/3RdYeKuu65ZGFSSpGuROfjZetLdrOrsMi/gAnV\n",
              "f6bKzFjmwVt8vxurP1pmrvON/odEjQsadQkAN6AAAAB0AZ45akI/AAAbCHaVjZSgOzu2X8VKJCi4\n",
              "hlx7BuvxXqjEw02H05NH1hzWTSXvOr6HH8xAL55POgiQJyFIAPGWJA6KovYPCFl+qP+L8W0AHy79\n",
              "sApzWk7a+Go8LeIExHVuD3vBakc95onLdx21MhQgh1zoAdMAAAB5QZo7SahBbJlMCGf//p4QAABU\n",
              "eZZMsNjdQAOPYeK+LyHx3ddBiI8d4CHIz7ohU5Io+xiIWZO6HXudvFIGwnTr36sPPTVSRwLXS7dp\n",
              "By8/DzVRyU2vCsNHSlymS5tKlr0FHX9+GCw1SQc3sUgHfOoNWdfgEA56ylgBKwAAAKpBml9J4QpS\n",
              "ZTAhn/6eEAAAUjmXRuiEBj4eACFP///HpKOOMTP1V8mVsvK0Fx01+TwmsCblv5prF2nVbl/eqhrH\n",
              "1U/nbf9i2TEnImBcYEEtfCNApoSrPYKLm252qGPVsFiFeU7o2sZvymPdbEnT0Q5x3bAXa+TyXJxC\n",
              "rHLr3euluDha76DPriU9AMsIK6gtxIpIYI9/HcHyzzAWTyYpwo+Jo8l8wZwdjPSI2wAAAGpBnn1F\n",
              "NEwn/wAAG6noSx8HcWnQw4Nd3XG6WEFjiODh484vzbLQ3fvSsc8KI00W3pth7j2fh3O+Pfwun3Tq\n",
              "r4G4fKoAD2Rsvsv2K5VSHbKaeGtnaA531eKSn8JxukavdNoyjrpEXlu6QATNAAAAqQGenHRCPwAA\n",
              "Gl3XcgABXn6cst19KiFgCUmZKH5izCBQ4L2+yqptmnvr0tPSkbDRxo2iHqaMB/fcocsw9dXExRYK\n",
              "Ce5hBz4D42+xdJLfBQ4rWlhbUmZ7ULq08BM4q6u/7mnkMM4OQxL4x725QbAZcxTbPx79oBX2qhZl\n",
              "6f9Yr5j23BmMPwbDadfAUFKxyajE3QuAIKFSVeDUZ1QLOUmtu2d+PPHj+xMAEPAAAADWAZ6eakI/\n",
              "AAAaExLtyYdRACutU0dCCy1RU+Z0FIOvpRUCnRySn4H+yC19CB9ST3PZNcP1lKbEPEvMn+UVczhW\n",
              "/nO5enQ74sFmGQwvBS3Q0xjXVuj8f0lPwNvec4exnxcoffzOkZkFYr6e2Bo2JdLXFSF9/4bJjaT/\n",
              "Jhm5LvoieUs5kvpVSdpCyX5/zZp10z9yeJBju/8Y8yEnvJFVXPvxllGjwEB7w/E2n6OHBZZbuHHu\n",
              "WYYo8ViPGwQ/wyZU3VMk/e638fwZf+NGDSbJVMVCQdfSmAAqYAAAAJ9BmoNJqEFomUwIZ//+nhAA\n",
              "AE99VwO9QA2OLAA7QYOsV340uFqySyk8EnVyluDdqxznTWsW6t/FNZS5b0SiHA2F0NfOL7nj13cP\n",
              "W33+Lr3uX7K/ZINGy/RaThpl4fSGqKWXYlLk2rahf+cDMAS+9g5IPA8pgK6GhBy1GhXVCGA2SuMM\n",
              "GQw5L/yVIRodiWvTkdl9UvrfNczo7oC0rfAQC7kAAABiQZ6hRREsJ/8AABur4W7lt992pyqtXyZH\n",
              "ZGY3qFXRMIzlcE0hk33w8FZv6Q6bWQ35LTjZM2W0UjxcPJOlYvpH96in50QAkuwN2SnhUMHMkMmW\n",
              "ouPC3ckdT+Ya7bEK+QAAtoAAAACkAZ7AdEI/AAAZvctjEDXqQocv/qWv1QQFfNpH0StxUaPQ2QO3\n",
              "4E1sSO6J6zeoRgBi+aUJ/BToq1wjw6uOwF0KlVenYsZYlNLVkFY5hUxrPmut9vSkdl5CQAmRoXyd\n",
              "eRhf1c9MFkFxmfLbtn9vhL8cGfVf57XWZL3Kn5sOecP4gCyQAT/lwEcHweDC+pi929XayYdtVLJy\n",
              "GWMEGWVN4CUiqz0wARcAAACQAZ7CakI/AAAZwnb43JACOeCPnVyMXr/4zgT8iHVJSgxmo2LRLDHJ\n",
              "MmnnU/mxXt4qK2cG9eNgnSE/QDUe119I/29CKQCKa04/YysEqZ2oV9ng6YUwmtKyXcAksRGaSfsy\n",
              "/sTSzM5+L8IL9y6IeZJmnboqqp5ZYsr9v9LgHmit352UqHmCt4MGMpTGlUgAACLgAAAAu0Gaxkmo\n",
              "QWyZTAhn//6eEAAATbpvRuczqriwARBvzqD29GhRfk8WIaGOFNDF92MrMkyFBPpUVGI4P3MTSjSN\n",
              "T21DUoxR5h2dELWcVM9La3lA5YGN6vzdlURvqKdsVGBG7kkUewHhf+tOcCg/1aBXxTlLyN0gAgZo\n",
              "cBWf5Tmnjz+AA2Tid4TlhRj+u+c+CHpwA/Wq86a2bXNEvP315U/AMyf+9X/0X84ofzVl/5QmIbVI\n",
              "sLqo6OLOKIuwAocAAADJQZ7kRRUsJ/8AABur4P/uvyMPJP03J5GmrkhDF3pBpthCJr3exlknkUl+\n",
              "O3WWS9/6EzjAgzzrItqtiaNn+XNotK0UPX0KPHbWRJnAvbZ33CzPlmMCvNHQdOJ9dfyBKcvH1uPe\n",
              "F2W46rRFs6r15vORB8L+wAA/f/NlqApfoZcQO0ccrVx/I1ZvRjRpU8KlDBb/nacZlAo7FOn5oCUW\n",
              "gSfIzGtA5qSUOxFR44ljsz8jLPqM6Ko3595Svs5a4gTM3Nhesb8lxdToAIeBAAAAsgGfBWpCPwAA\n",
              "GSNxyBUHM6fjqO5aUm8fsBYypsbLNrwkzo8tNMDyf8rzYG9jcXMYK7zSt8WjnoL92NKy+Qk23i65\n",
              "y5x30vP4z0w2LrvRlLjzJpsnQfpMDVr70RAmHvM5lUTuTA1G6MJC5TT2ZQ3CW7CfE8p5niul0QFD\n",
              "95viEQThv4hQkRrtK4Ek6i6hpHfwLzCZpzeY19dEDnJzM1hLNdOEkM9byVmcWOi/GbDxr6AAKCEA\n",
              "AADCQZsJSahBbJlMCGf//p4QAABLum9G3V+X2MQATSsLZ+vNMqvJGy0o44xM/HpFJErqos1iU+qy\n",
              "R3+Xp1jCqPIOq3L4dVDVa7CIBbf8a2TBlInfsnYJYeEUBTAlVewMXNtztUMerYLEK8p3RtYzfkGB\n",
              "yw9ML3BmETwflxbyrz6hpapr5YynjIieQ7QgaSYu4eXTbZltKphG+dl3LVxhu7OyqZhtr3yUKtvn\n",
              "LtrU+SCtIvB6JgBlNeV+/hxteZSB5AhwH3EAAABmQZ8nRRUsJ/8AABur4OXVUWgZdsGBBxCY8DDg\n",
              "wxoXdv8zbZZL6CWgtyaKnHJImF6Fu4rtMhLYS56UbeptQFIWP+RfNJ6QSBNI9zbfzPdwEcD9p9zO\n",
              "82AIoY/KXhNGkHrY918mAAKCAAAA2QGfSGpCPwAAGIh8UzDAZbq9kAK0DYyrnS/SN25xG+5hoZuU\n",
              "u5A7jJgnY4hu3PNGjtj7gyL3UiPs+JCKCjWMrAoSq0NgOB2donj407qrCNAbBtD++gKnvbCkn2bk\n",
              "PbFHkumFj1BqVrKP5DZsUzYA4z2cND/c9mBZvSvFq69C1qYyD3U2yArQoOhpNN0dGT3h6g7hZyGA\n",
              "C/R/uLutgTvLD7QyTNQU44l4F3MkZtAPI5TD0IZ4+QwllBP9X1gsHhuMmVwWoJsHuzisj6NLn6lr\n",
              "OtCEp0EXcVwgYsAAAADEQZtLSahBbJlMFEwz//6eEAAASYA8hwBEyf//B+rSFpIXc2aqmNjq6wZq\n",
              "UAjXMP6c5t5eUxjh7QYO0c9W6RLJu7J0Vb1r8tSOrm191pluQyZ9W75svBV8yp6lZZc+6urbXuZT\n",
              "orBdeTQUUMnrSfCuH04uDUis+hLG6Jh+K2l+8p6zPo1uK/6qLpXRIFZjDMzwEkV4DdW7eQ/x0xak\n",
              "/mOuZlOWMtTwKFG9xJOjuEXnVo769uWOJ/uKqnum+OoFq+++4QDFgQAAAI8Bn2pqQj8AACDFRagf\n",
              "pVNkOJuXM3cu4+cB1Cocd01JtYJBYVKyVv0fYkHyNu18F5b9fgknNzo7g8UmVZZ94MweHv8TBtk3\n",
              "/7gluyXTr43WfmoZmaGkqmUrC+biAFYhSNiB7VKghf6VDeofGpkmdzCEuQNxbGH/hIO7j2p2IM2N\n",
              "tEB/XFQ50jj2D7DrIAAqoAAAAM1Bm2xJ4QpSZTAhn/6eEAAASVUOvqXUJxx/aAz1F8QY6ypbAtLr\n",
              "i2y0hLIfyTsn6RwGS07gy7UiKAAJ8yAgKCnhcfASRbGYLH4HNf4z+o7EncMdJAMZMxH9/909Ez7b\n",
              "2N0sCngGZvY/qtrXueC0S5uY3o6TrgQg+kv5LYP5uBfCKP/MqGnxn06OVvXSV+DDmnvu+8LaPmfg\n",
              "cmrF9JwLBxFFp+5xGhzmx2VMPbIZkQwgwkTsEZjRRh1sT92Per46tYJNcEQAsEprK0JMCA6YAAAA\n",
              "mEGbkEnhDomUwIZ//p4QAABHUgVbTtzcxiABzO8rcGoSu7DWLrqa5n5MJvnLXdjQyLBkV1rlOy2g\n",
              "s1ka46XPeNd+bDd6yX3Nn3YQm2gFChg9HA4ZBqhFZip7lf76sa9/b2H08Lhkz0xkK6r1kz5ZMdeg\n",
              "7xFGSod2pG16Zi5qE1Tf4usPSxneVj20vyb0yVC9xfDQcbfHJArZAAAAnEGfrkURPCf/AAAbqeeO\n",
              "7663gBny0nPVfsbzFBNDVnsNvNCdKYbvy3Z8jZtY+4pmAN+gL6pPqhUDiMEBzE1Ags1E2nxARF5h\n",
              "DlVwbB7WiJicP6+TK+6foxP7UbzLSBH5FIKPjiX+oOJ1/h4uenzLATEba6s5VbrmL19ehYryAmxR\n",
              "HpCX3o+ESataInTNp6SoXa3xhWkW/3j1AAC7gQAAAGgBn810Qj8AABdMNT2eqB8O0W5VW7Xy/Wvs\n",
              "Z3vRSgNAp3BoVFMSiGV1z4pVO5gehwDb/wwbHtnuUUr7FQKBxVfjqgBHPdnB9NN1KVSSOeLVkM+5\n",
              "7e6RDYBfiU8ofIttvZK6EsMpu+AF3QAAAFsBn89qQj8AABdLPFHBbwaXl8Q5J742OK1JpCz0LMtk\n",
              "8zZui3iKdyiAX2phLUjFSgsL9oU98zHyxKfyAFt78auFfBJ7BsCp2uXsnwjzSWb0L0zU3eDVMFSS\n",
              "gAEvAAAAvkGb1EmoQWiZTAhn//6eEAAARVIFW0ya0y3iwAO0E/wY3EgIpOpxGI6MnP6BO0ty5ia6\n",
              "+R4OCpA92B1ZPJeC+i0Jo51tHWm6Jp3uojBrt1jI79RyfqJZM7EB7doNOsDvbibGCW9EdZJxxbPu\n",
              "Pa2RHQdn6aRnmoJmDCA3LX6LZmQTveUk6ye/iVbhN/yolyUscSrqJ4Mw4O69n8kyqvCbLqc3STCJ\n",
              "rhrIjbinScm/ts73iZhVQJNwdeVsZmQgakAAAAB6QZ/yRREsJ/8AABur4EE47US9D+yjZVNlHGZN\n",
              "rrykOga2smjIqgicb4vsm3lUp9yGchhgAU6oMyfdvd/jTPrL7u+8v5MCvBLwa8IvCJaGPIg18Wz3\n",
              "sgHxGZa+1mAEhRtxK02lZYHzKl1dPAms/Xk67zzi6jmlw6qAArcAAACdAZ4RdEI/AAAWp3v93AAF\n",
              "wtZjc/AzmbOv/OpzHUg1tGZ9hPA/tiGhm5VEDUeKZMRa/0bnC0pSWWTclJsTlT5ftOHDHAusefsu\n",
              "4EJLytovfdlbZQIzW4k9RizYqx6hTQazcQlZkml54Xx8kYnbNIkPgKN0iczLOWZYxxlr799pk9yQ\n",
              "T0bESLyaGcSqsIZDwafMHK1YCSMBble6UFAd0AAAAH8BnhNqQj8AABa0vU2kdTTZcioHkhIhIGNO\n",
              "+0erzT5KMTezc3unLus3WVqB6MOhva9Oa5W5XbHPmcRshrM5+8qOPQAopYoYXORhTF8mdUC8F1GP\n",
              "rnOQgALVKh7KmxX9uoCluKIe2GyE1N2uMKTpuM66BIUv5Gk5ZFvVg6ImwHdAAAAAlkGaGEmoQWyZ\n",
              "TAhn//6eEAAAQ757Ke0AAJ1x///1IFLUWm3LopBTsvoFujgqX0PjLbO/lydr/aDwEbPdpbeNEPVj\n",
              "JNFqDinNm20uZN6+qrJSSwSFineFCEGAwnUDIZXqOe3I71Ma+kPxVuRrdGmhNRdnVj1/mlAvrBPd\n",
              "2ufjrD7Jee8m//2/sXnnxe4vXUiNxu65TuHf0QAAAGlBnjZFFSwn/wAAG6vgFJeq9a5wOaZ3mOjW\n",
              "myNZ0bUy4NgUeBrLnlc0+zO9DdYQiLwSzgNX7/tY3PfehU0QGU7ZhXdhcKIpppsX+zoMHjLXQOhA\n",
              "DzZW+vyh2bqFlszkAv79nT7Y0dAAfMAAAACSAZ5VdEI/AAAWIJdyAAFf/6D92wibueJdpkpEscIx\n",
              "BbGshKZ5d6rdBekEIrG0G1ljGsCTdbmDpooN+bsGAr6+N9JKKF8gpDxHlFTeZmFJIqmlEqV2qDsq\n",
              "udimagG7zMqZfGrmTkyM7Mx+EwraIOMVz0SlEMx8P8URVlTdTutaTRNPYSvyMd4SDUc9I2yg9RoA\n",
              "HrEAAABwAZ5XakI/AAAWJSU44fNxL8xWigZDTqM4hGXE0YfRupMNJuNT71b1e8ifeVPoUdvgw1Mq\n",
              "ifAsNfCaOoF7ebwK0kx8VyG/DABLVsCBvrILFHIaF02uCvz/N4/dmBoX9yMMg9Hb2nkGvUSmZVMQ\n",
              "dQB8wQAAAJZBmlxJqEFsmUwIZ//+nhAAAEG/amgC+b7TfIHWlq3/F1KErtUzYK6t27uUkQV2BIZE\n",
              "IkV1pndlsHuKX1jizQQRYeinC/9VYJ00Qy1k8klHlBQgTKI5ILud3jgUnjlJqiDcM+eh+8/4SntR\n",
              "FiB3omNYVbyamKZgkvqt16gd18EW0hNC91Fvoq9+h9Th7ZkO9kbfclNM/uAAAACPQZ56RRUsJ/8A\n",
              "ABur3+yC6588k92u3Tk3jyL4e8vaszAIRNIBtXzeSuxJtzVgdXNLk/3f6P0z9esAh4Zmion42p9N\n",
              "DPRTeLQlmIMRJAHd1RxQKkq8uDEe+AAlqh5Cy704FvluX5Bb84LnE63kdYsB8wZ3b5gC2Lnq+wLl\n",
              "aPj/LKqLvVOaodv3a9lm1gAAfMEAAABeAZ6ZdEI/AAAVkJdUmMRKd+FanpEkao1JPwtU3FSroYFB\n",
              "kBZU9vdlJy55KFqsH261hyigAtDJHnSnXS6RIh2zYJV241H3iCU3araCSc/o44ysoumXKJWngU5C\n",
              "qoAPmAAAAFsBnptqQj8AABULNp+6arWpG2qZo/GsYpQ/BOLssj8PlenyiMmrkuudvcaIXCS2BhLL\n",
              "UdJWRPCi03cxzijJK04RwhFgl+5srl8nLNNeByb3P99kmoMUXfA6wAKTAAAAm0Gan0moQWyZTAhn\n",
              "//6eEAAAP78HWR230ir2AB+3ANoXFZlB0Sw5BEx1Y6751OL1KiAokan3wtU0jxVKghVuc2E459OA\n",
              "nAvWI0Ag0emIvWmnPCKb8OO8aeluGpV/a7yXv0BGE8AhKZR3MKagq+5mClBHx6Rfxz76+ssIXLXe\n",
              "xyR7prB5m3oUXO9U0zmbpVWVfDkW2eUrifIPxkEHAAAAWEGevUUVLCf/AAAbq9/KhhEG74vGL3UT\n",
              "58l6d548LF5iGmkYDOKUPyNZei4KHibuMMLy/9WVBZ/EC9TFaHG5rg3iwwBVNlxLNYUiUvv9yf37\n",
              "SuO7zsgAVUAAAABzAZ7eakI/AAAUezagrMJE/+g9grQhrWHZaxwgirWgrAKgadLcozOXmQgFh/xa\n",
              "swuFYLoGc3RHL/01tFwJxu0C2BZTnxWF+ACQyUzgm0pF8CMAR/0UMWhoa7y6x7A43MF1qHClq8Nc\n",
              "pOYvhsgmOVXzOACtgAAAAKRBmsNJqEFsmUwIZ//+nhAAAD5fB1kd8RTLSADtE//7kvj67mOterBm\n",
              "oY6wB+xWzy8pG4JVMuvdxT3Djoa4hoOu425s190cBw0kPUMPboU1BDZEl4oBd8pYO3zgkX38PbWl\n",
              "Hj3cmBaHn+l2bj/3gvznMAeXXVdLaVkFGjM51d4IMUqu8pb2I5PRh6uD+xqnK34cde4EyJVfuH3f\n",
              "pYSXS+dykXABqQAAAFVBnuFFFSwn/wAAG6vfqoYRuLv/LNTUpWQWfh8Rfnyihro6iCMYqz+M/XcB\n",
              "U4H3B4X1jjHLbab3O8XNAGV/vw9nAC0QHfZD5UHwpS2PYM98WV6SAAE3AAAAjQGfAHRCPwAAFHCL\n",
              "UkeEp34VqekSRq2ZRM22zrWjgvaDSIFYpDR0e3vLK3AbXZPxXcYALi3nXAvZhjtg04uyhiPvTusk\n",
              "m/l1oqsZFtnz/Y3wD1swkZOA7w5rny8q6k2HmZBKftCXfibgGRaStbHJpvygCc9//tmo0wzfgY0D\n",
              "wLr4AGAT8IfqK+X3YAALaQAAAHYBnwJqQj8AABPrPFez1QzpO2RGKPNgFQ03AT2Ha6jrZAZuPn+v\n",
              "4MuogCPwwOsnE/u6qeYpTzgEURKrVOT+eqPpyXz/XQACs38rdM8iDvIhxpdGYlhAbxX6+S/Lp2d2\n",
              "T3FZqBfQiiN0sMYZiac+vVWmkxLwvBJwAAAAl0GbBkmoQWyZTAhn//6eEAAAPP8HWR230ir2AB+2\n",
              "jZba2KAo0DzopBTqxwgtbCFwv/xxIhQTpv/ay5Se4cX+Rpzetk8DXVt6wrRHjhQZRJ6SLGGqCYaC\n",
              "oNXymE7bOCRffw9taUePdyYFohBktLAqCydaEUj3jGaYRJQY4qA3RUlby5YtdZ6iMdXlaTB/pNzi\n",
              "zo4IZrZAyoEAAACXQZ8kRRUsJ/8AABur34y3czoLRdaXicQj07mo/5J+Fb4S8+eky0zlc0KHUx82\n",
              "P+67R3/z6sfnkc7j3SfcaoE0H9EN4sCV/Kw6VuwS7PuQ+y/hkxT0Fy6f4oABOOPgHA1p4VKFhgh0\n",
              "gTSFoCORDcLsLDVs+ozViNDXGwO5UtMFP61W83gar/Qt0HYZJVO2m8POmKt0ygAPmQAAAHgBn0Vq\n",
              "Qj8AABNdPFfgwwtQSNaFD7GTHXe1cspBgZTsI+N7o9qyW752ab60GpMdfs8Ry5ZxpBSqXspOATLC\n",
              "kW+82Ht4Z1BOarWySqKEmAiqTQ7WNkg0yQAsTJOO9Ai5dcYWms5DDQzbW5f6zHeWAMMuZlmUAsLQ\n",
              "BF0AAACgQZtKSahBbJlMCF///oywAAA7/vdUvfEU5QAA2pP/+23Lu8JjrWTfbp6+r9/sVsTPzbuB\n",
              "ADtOTijoJg9V7jsmmeZcf115OP8/IZzYh748wS0ZNpJ3OUqt0h75nb459kRUGbKI3UMO3ba+iLCJ\n",
              "4R9gLLK6OnTGubpp7zSppIVc+YldbaAW8XUK4SkDVHK7FWnrOXw+ynMvaAw6250ONUEZwQAAAHBB\n",
              "n2hFFSwn/wAAG6vfcrHVLpqefYCrGt31nTubt/lL4kwxwNRfYgCq+5oAOpb5r6dk7zHM/Hq/XI6H\n",
              "HvE+41PpoN6ILxMEqeVh0rdgl2e8h9l/JkI06uELS5ZdNBmEbI+eWbD1YU4e/nDYA3OM6HpAAAAA\n",
              "mwGfh3RCPwAAE1S7PD3AXfmgBVUbGVc6bNIKKT4hVUYYBwQX3/mBVbMYaKNAmLcSND/UL8Gk2LHh\n",
              "1FrUsPI7/PL76vXBMByI1gI7OJczADZxq99KY/ALrV7PWOUhry46GwDD1SLl2zfTiOGATcCJ+IhH\n",
              "xENPJjVFFAtAj02YIgwbXps/tioY9K9bDcdp+BLcEzCeDtQh8ALHQO6AAAAAcgGfiWpCPwAAEt02\n",
              "n4MFdQfXE+OxrM/W35im2gBjoXRA0Uy1YzXn8KVWQCHY4LmTyj/fdPUTx74CKKtVynZ/uZGHzaXX\n",
              "gBYe9OaPdmH/xDP6aNC4LBDSzZGgs8I0npDpFu901FTO0L3NyOegKpH9QujoeQAAAJ9Bm41JqEFs\n",
              "mUwIV//+OEAAAON7kMk9ugmYeAFrZLltrWlOjI1Vr5xE+r/qvcIW6f/G7d9MTR/+Xm18mQcWiXdx\n",
              "gNCAwfgFXDfhWYzNZHayGrInw4jHspUK6iH3mhvmH3xGAaMo7dwxbets6KsLnhGaw6/FWpiYu+4/\n",
              "zwA3GYY0YFgwI1pzHGO7xYiTILwEgMti+/5YLw+oj9HFVF1wN6AAAABtQZ+rRRUsJ/8AABur31i3\n",
              "dP2JeAnDDvEI9O5qP+W/hE+E4PnY6tg5XNCh1MfNj/uu0d/8+rH55HO490n3GqBNB/RDeLAlfysO\n",
              "lbsEuz7kPraFTPi40TsQBXTWOIHLheacrgAQ7OKFsPTPCqAGzAAAAJMBn8xqQj8AABJdNp+DBXUH\n",
              "1xPjsazP11+YotsWVDI0QNFMtWM15/ClVkAh2OC5k8o/33T1E8e+AiirVcp2gIG27flxJ6Nl9mwA\n",
              "C4ufYH/njCfD01U0S1HVAD701pYanHOTDIVF/omWbxcPSiLKcp5O+WzmsG+avMsknVwsxZwC7O1S\n",
              "OaElv3aLmJlSzvtPsHoAIOEAAABqQZvOSahBbJlMCF///oywAAA49p0nnpnJEJn/PbDAs/7gjzSO\n",
              "pX3FHvXFynOh6G2pMLjFBiFVG8ZVoTIfrABwkjqz/0ggBCnFRSKWr4tXgyDF3a3roko2NJY9bFd+\n",
              "zkeEwlakmwU5BgbZgQAAAFdBm+9J4QpSZTAhf/6MsAAAOT72oHlrm0D2f2xhrwOJJbexnc1u5QgL\n",
              "QfoPoFJCDJsp/TfY05BXOFCVLGVKxSD/tgAMmRBgtNjKhPMHOi7C93+33PIIIeEAAAClQZoQSeEO\n",
              "iZTAhf/+jLAAADemksZSdZABbP/9EngHvRkHkK7RQVxE4t0Vn2Bmueu+FN7jG9tea2FgsJ4TbRAO\n",
              "X/attFwVycJxBIUcZJFuumQgfnM0Ze77Rf5vW2uunTHO4nqVvyHjw8xg1oNqrCftA5YOPseuyynJ\n",
              "9iCU3L07xEGWIg4NYYC4gNnh/wExEOzAIV/0ED8vLQpIRyvGhximbVE95YJOAAAAk0GaMUnhDyZT\n",
              "Ahf//oywAAA3iw8FwAI6zuwDJG6iagggbyVH39i/FX9hDG+No3T6MkKsP6lk0RGXRLCJHprN5TIi\n",
              "saCdGPnoK10EEHoiY0KyPwYMmtLpuV3WQp/2VDOycvNEg8bX1NpLTG+nFpJd1G78Ke9hcRz7/Fgg\n",
              "epFT0/+0YGdgAXSPBZ+D4O5ivMWcGaAd0AAAAHVBmlJJ4Q8mUwIZ//6eEAAAN0iJ9YvukzvnmOSP\n",
              "BkGPkrMEjudedxMRwdWRMGtWoOmDARIwmCiQuVKreJ2q3LjV9UAnH0YbZBYOt10d6wMAIR5gp9y/\n",
              "nJ1TPwVG5d5uYovq0aAO1YpJ52hr2SelpZ+G7mGoCpkAAADUQZp2SeEPJlMCGf/+nhAAADY8J0bo\n",
              "hAY+HgAc4n//zyXXU1zPyYTTzUMdbOfpX5PCavpuXCmEUeadVuX96qGsfVT+dt/2LZMSciYFxgQS\n",
              "18I0CmhKs9goubbnaoY9WwWIV5Tujaxm/IMDlh6cds070IQ+sj8GHbMMbbqRXJ/70iH0czHUyEwS\n",
              "ahXZkADB2aX9MI95Lck4+GvzYgZZ+ZJjmumhCJQ4bBe+UcXCwU8SG9Cq9Mku5E3s8+XW4t0yGhXT\n",
              "z6FvVSbmJOm/l/YOg1bErSCQFBAAAACcQZ6URRE8J/8AABthaQhiWemOeRKImMP03HtBJ7SrSNem\n",
              "o0VyWpomjMOWptuwsAlP+/5IU2vPbrPwHsGT643eTQqhw1vl1j6Nvht/KvxL6o++F8odYV/Sq37R\n",
              "B/xwSAEHz3mLcmuC1c6VtfCF7Okt7QEtkPNhUoYLf87PtEgq98E5hESDf6zh0SS8AQQCDmEceKRF\n",
              "5scy9XfhKAgYAAAAeQGes3RCPwAAEVS7VJgBGmKMst19NMpt0DOwJ7FF/q88o7G2ANOlwsxsNF1b\n",
              "Gq+qohZsH+z4KuogBvwwOsnQ/y6wegpbzkEIROrZOkAcDVk0F35gOr/ru+7T44qNHkpO+7GmcPa/\n",
              "5HkkYDQmsrk0kSFv5GjRXGvQA7sAAABVAZ61akI/AAARXTaUI9a5ej4FDK5juK1ENlnMWJ9OCWlB\n",
              "k3BQfqn1bvDsMKLF6MoAS2Vyzv4n0/AEjBHk8IQM6F44fE9RfS/ej4k4eoBdJTjTWgBSQAAAAJ1B\n",
              "mrlJqEFomUwIZ//+nhAAADS0q4H6YSvDwAOZ0r4RImNfXJddTXM/Jf4LWutRD/tTF2ilC3v0CKP8\n",
              "HSwRXW/Sn7rsq7JqObU11hd4+8+E7fHhKG0qKWOqwLEdW1XAC4HUAnhjMGNU4a/cxB11XzjUYcpu\n",
              "38Z+vYAbTC+NK+AXuLjwGIOmEtTFbOlT8RE+GrWQIV2h4WAHXgyewA6pAAAAhUGe10URLCf/AAAb\n",
              "q98DFtvocg885nR3V/SnZFQwIrDASnFB3GWSUCzpe7TGKmKBHX8E0+zJzk3RZfK5xWyTFmf4Ertr\n",
              "AgZvpVpql4v9m0jSXSZEfGGNH0hCwI8fm/xKADZcmlxd4SGem3i5tMbLnqiDkqeWXicm5ubaFAMi\n",
              "H5xg4VpAAU0AAACXAZ74akI/AAAQ3TaHBbwaXl8Q5J743JZwGbPAw0SknBZ3+5FoXjPm/sWt+Okr\n",
              "q/+9y+zwAfiZeCt/d0Mq9JsghPuZv6asahF6m7pAfH9BNnCWIMVw5hJpuxDzoRCZ+fMVQolUJNcK\n",
              "BStPSWcX2aU7/DhEsO/6aAa4IjTt0PGBebw8L5yJm8VyrjtZrz6Jo9+Sp2+XwAApIAAAAKpBmv1J\n",
              "qEFsmUwIX//+jLAAADQcJ0y0hAY+KgAt5P//hRa644HHuC0F4tjpWggWyvvSfm5DUh+aXzsN9QcZ\n",
              "bo6K81XdL4815yy3x+T+mTntYueKF8CffpdufAdB3Ez6TJPFDChsT8YYKTCrK06wj97HhJ/dHBAk\n",
              "itoV463j9b7t6vq858pFi7XUtElDWVumQVwUvZNLgauRyeRzUH4JHhdO4A5fGI/41WSBUwAAAHRB\n",
              "nxtFFSwn/wAAG6vfAvWNW66dcqeZ9TIvihXZpDuzF4YVvhBU2iJLdt8g3GLNUUWOv1JqCHTppulC\n",
              "+X0CvVGNs/0JXgYBMzfqrUVL2f7ZpHEuXsuo3BMz8demL++iR7yutTUGLYMEPGodv0yI1cXr1AAB\n",
              "gQAAAG4Bnzp0Qj8AABBUshea78crCqOiDLbPQeZxYlT+2Y42OerOKICyORBHE80+V/9LqajHZr5L\n",
              "PVnNWbR7KuMv26Ob+xAB8DVNDMx30pFmmvXjd8s3H24qJt71kNbHOEURulf0JRqEHXMvP5wHTUrL\n",
              "OQAAAKgBnzxqQj8AABBYu4gRxPNg6gDTcZPLnRwd7Log97INtXUxhhv7uS6frGOBRhLLr47D1Ffk\n",
              "M0vA7hHgsu6QQq9yZmefGQYJw3u5wAfR5YUY0fevYUc9QqJ6BW2upkDJ/d75nW9Mk4D9RSbJMGe5\n",
              "gQkAfuzA5F359fYpkbzssMfZ+5NDHb5lYklyfw/FvbgBvy4Ih6XXogWKAsn2x3cAq8obR73JgQAA\n",
              "m4EAAABhQZs+SahBbJlMCGf//p4QAAA0tK4v0wERNvqPZFY1+y7wHX1TOFXgR/IKJ3Q83ymH+0VV\n",
              "YKW0dF2oTEVt5ozYwAAht837BI8JrUeexqT9eTiPk+k7dXTW/3Bf3K+ohGoUEAAAAJBBm0JJ4QpS\n",
              "ZTAhn/6eEAAAMjbvZ9v5gBPgUGnwh/AKNCYz2rdCELBjt4XPP0qB5iTB8hxCTluS52PSe/gY4F8e\n",
              "D1EOPxYZsLsJzpEO5dJpN8XzZrt8ybz2VymEezNhhjDMrzQFQ3IqR70TD56pDByZtVAyfsHmb5mc\n",
              "wUXy+aRa6mlJ4ytho+aWT6EZ5Zby8ikAAAC1QZ9gRTRMJ/8AABup5pDwur2EgBV0v+zOw4GH1c86\n",
              "gZ+mQMoSVF2kuPyD4oKfuRsjatc8oB4A5WA6G60EsbeJxNTpLLG7aBUg2aLR7t7h5WOOVx+piCNW\n",
              "Z+O2Cv7XhalRWaP74GYBM2k9qz9sTbBZm11CIQyhP8vpokgA2H8EztTCvizVR9Gqhxc4uZsmsYFo\n",
              "Oj+r4i/zx2/StQ28NNLim50vWoowxV53i39A4lMMClml+AB8wQAAAIIBn590Qj8AAA/dY63d3hc2\n",
              "dkRu2R5EaNjEJI1e3BKm3IOdMkSoYD12Ek3SNJ0aDaDMGqVHnp9SqmAZMigvBdf9Odt/mLhHcFXJ\n",
              "mLdVfYAs0gAFgBsZVzpnDQTwiw1aQFqF5k9S+dWxCta5B9hMlI35w16JCLXNfVmSKj0MJnzRAAg4\n",
              "AAAAeAGfgWpCPwAAD4ZHWBviJIdie9Jv1FzPVjNNAx56hvUVnW90WWwVyT4Gah+zswujapeqUywz\n",
              "oMPkfl/aht3Kl2t+4RuoAO80ZehqQb9X/P71Re3Vzn/YqcgQ7Ve/CKI3SwiSUX7Fx+vEbVOmK2qC\n",
              "R6322+4pa0A+YQAAAIBBm4VJqEFomUwIZ//+nhAAADE+xqG7fqTBBmlGV6/VKVwWU5JYWvzg8s6U\n",
              "3x/37MgR+ORwXWc9mfemtL/LtuBoDXyJRcJQfDZGMjCY4NYN6NgXG4wW0lqAChzAcRJIiMA+Bb8m\n",
              "hYQG1aIz/I9nG7YGRJMtNz7/w+kjYVFCzAD7gAAAAIVBn6NFESwn/wAAG6vezHhEFCs86bgbsYFz\n",
              "xKQuhT8Rb0t0FfO6sYcmKw9uDP3KnpL3FrF/D+t7MsGq0WrhNMeLzu0hyH1Ea/mD2L1pe0Vg5eMI\n",
              "IVnjJLdHr4Xicss5EkRuAhsK8srm/V8WKNWJXP/FNKDf4EA9L8ti8JgGc8OWMAaGgAVtAAAAmgGf\n",
              "xGpCPwAAD4f6fF4GQFK0DCzEJfChjl/BFwvA4lcygHb2CBsNUx7Re9UEHeOWZs75OCtBMbqiYOqG\n",
              "SmjO1vCJ0Ty3SVJijw1ngA/ExGWEMJoRzNhhm235YhI9TCeEmLMhVPwSGej16VPYkyyXR+hOASW0\n",
              "A6rvAP4c4fCesahI6SnErxLYTrtMVmKIpw5DJIyzNoFQ/IfwAysAAAC+QZvISahBbJlMCGf//p4Q\n",
              "AAAv/sdaHToK1UgBD+P/+P23LopBTsvoFujgqX0PjLbPLM9J2v9oO91yA5dA6fVZsutzUUU9bYgN\n",
              "Hch39h2XjUpL0EzaFhBF67/278FC/Nh+a5o/e9kxLTCDJaWBYFla0hwfpHzeXlanyaO4gjcJyVWm\n",
              "bQD6qjSe2YqsONUYL+e8wEU1NvbWTpD6+1zdBs7WafC1W4i3w8VSNIBA1vAbX2WJWv8CmD1T7pIf\n",
              "kPgmpQAAAF5Bn+ZFFSwn/wAAG6veufLEL4jTazM7zHRrTdO50USZoL1+6anC5Ec3GvsTDdYQiLwS\n",
              "zgP6v449XadSCgANqO/82t+rVgtU36H0npT0BBj+eq1ajHwJCN+zrRtyCAGVAAAAfgGeB2pCPwAA\n",
              "Dy/xrpQ7WZGII/L0u3xeX3NyOzYnCn/8XdhhbCcarJxhPoILZrs5uXnY29x8GUKl7JHmaKtuGcg5\n",
              "xkOgXYYQa4ipHtNNE4QgBLVO9EWnH5MyoMgJ++bmfAjI1MCWFMtXXTLDCGSHpFp8H4KQZl5B8rNk\n",
              "jFAHjAAAAI5BmgxJqEFsmUwIZ//+nhAAAC6A81h/GNkhwAXyn/wiRMa+uS+PruY614e2tdWsP+rm\n",
              "EMUK976LLy9g0cm9up4bAOqullWiifsdPtWrW0ciSqAiGZ/mh4rYg9Mwr0baf9hESgepcqpzxCL4\n",
              "3Ge0XuTeutmWB0jd3AFNtLd1ghwNrBruxRQeXLksQgHXqeMWAAAAZ0GeKkUVLCf/AAAbq96oQXV5\n",
              "alQCcMO8Qj07mo/61wnG/xiopSQGKFc0KHUx82P+67R3/z6sfnkc7j3SfcaoE0H9EN4sCV/Kw6wn\n",
              "SGyyTfVmAkE2N4hWndlL7Wsp8bZz5jut7yggA8cAAACWAZ5JdEI/AAAO3DzCRXoEcUtTmghbZoYh\n",
              "dU5LVw7zgvOFeiKJXC6fGICCKdB7+h1SlSIPTs0tFSw8ueJQ81TTT/uAEJlu0Amjez/m+RcIKxJd\n",
              "T4VFYl2ZN/ZVDRIgSOTBhFOws9Bwi8yTOn7lEZeBjW8E7I2jibeWDi1eBdTgPD5WiARLAa+LxVsS\n",
              "1bekWLpAth4U7TGgAAAAcwGeS2pCPwAADoOBemQArD9OWW6+mXfDvqi+++ZhrnFrBR+rOI8XpBrk\n",
              "8cJs8Mz5QEEDHJTiMVhtEbhEtdKYrk/98tPDIJ6FgCi76VFjWRifM2mEO70+sMCgB36K/szIBwb8\n",
              "QZv5kLj28i03UCbqwdHDkPAAAACcQZpPSahBbJlMCGf//p4QAAAtnu/G3p0FaqQAh/H//H7bl0Ug\n",
              "p2X0C3RwVL6Hxltnlmek7X+0He65AcugdPqs2XW5qKKetsQGjuQ7+w7LxqUl6CZtCwgi9d/7d+Ch\n",
              "fmw/Nc0fveyYlpeg6Y5wXdJaVp/2ptuKa7A3c1h8h5po1zmmDeEmHt1zv/vDRc56AW9rt/jwbqhr\n",
              "HlsIaAetAAAAbEGebUUVLCf/AAAbq96WlW3vdBNu0zvMdGtN3nnRXzLgt6d2OcLkRzca+xMN1hCI\n",
              "vBLOA1ff7HMoAQeTIciuMQtMbTT2Cwpa91Dur6m7VNsIW5tAt/mbDy2uf9tZKXUx5Z+4Tl5pzmMI\n",
              "y6AGLQAAAHwBno5qQj8AAA5/8Zxw/z/YBAsK8BJaIst3yWIM587G2GQqqU0w+3EECk/tAR6Dc+Zr\n",
              "0GLjeZbgtfCr/y0AH7lzWeTqzChUJbHaxbFDSva4reYgbZPqdl2gziY+Y6lo7lgPwl858vjxhQdx\n",
              "TiZchl9vSvaJuxpCUxYCABJxAAAAm0Gak0moQWyZTAhf//6MsAAALKFzDcTn0DvNQATSq8o0/XkM\n",
              "pY1jzoohTqx1uwdh1q0OlPMriCQVSQ/Pzr7GNvHzTPl7j4bIzRu/rxEfCNoE8FvGBKUcwcSVv/JQ\n",
              "ETXnX+YfS4GhrjjxRSsw7MTIV0HTn1Fpkh/EjgmcVP8KcaqWy2sxMlr34nbpHg7S9Md8P81nsgbb\n",
              "Ejj5uVzAAAAAc0GesUUVLCf/AAAbq96G4Uet+IQCcMO8Qj07mo/7Lwm14W6yoCQH0Fc0KHUx82P+\n",
              "67R3/z6sfnkc7j3SfcaoE0H9EN4sCV/Kw6VuwS7PuQ+y/jyEY1t/qCf/xIAC4qQ7SK7jT/b7zuNH\n",
              "/43vzdJCOt3sAj4AAACEAZ7QdEI/AAAOJWOpI8JTvwrU9Ikja0+i0isLtUq6GBQZAWVPb3ZScueS\n",
              "h6/S7FWn8/nffjlACaXZR+SRhI/A+g94ceHxwoRL116GqEmYUkrNaS/DZYOk1YNdX6qK/feWJ9/o\n",
              "ja9yo4rJDsqS9VjOAV0AaHfIs6ZqSL4BsJLQVlrgAB1xAAAAkgGe0mpCPwAADc/CL0gBWH6cst19\n",
              "KiFgCUmZKH5i0ac6DeOzUldkUI316WnpSNho30D0UBQkuSn0stu3GgkY87cYZXGwqUzeL3DpA9sL\n",
              "2E6H899o02ahDdtX4DnWHZMA4xA6sWBxJeSgM9cmuyc4ryEOuHl5TdNh/UwmDUMwHDAl1Rnit/iA\n",
              "bsXS6sdnkuxYABzQAAAAkUGa1kmoQWyZTAhX//44QAAAqPJ9lFiXCx0ALbyYx3t443r8mz9rXziJ\n",
              "9Yf1RuFnDw0CyrUAT0kzD9Iy6gPOoo3yjI8wLJh8aYHrGBM7lj9GkqQH4XSapWFJr5jv/hAxLtJE\n",
              "tgqxIi+ZZ6XwddArFING0cseyeXcUhEIEwOxYKN+bq7r4ef9njfH6RCwmSRYBlQAAACvQZ70RRUs\n",
              "J/8AABur3nd1Uf/Wg4DoyWM7gfEK0fL2K8y+3HH5+w1sJobLdrQwvRHoX3fT4moNV2qY4/6vEERA\n",
              "ucNHYrvkbAuzgAfipjZR9y9yso5KXyjbiL4DAJMZN5KEjQLzRFhi69kEq8VFbOOf9ZG5oaPm5bxr\n",
              "6DHiKbuVrMmRYyg/f28eGWnGnKk317wB0ECE450wHVTq663/By3MIbcd2tok17IcQJcA+gBWwQAA\n",
              "AKkBnxVqQj8AAA3RO3xuSAEtnmRj/AnZtOIXBcyY05pQ4IQFbqDzElGE4Gd2nAvJ/n0DbziSZJk8\n",
              "00Bqth5NI9YgOsMwjyScQMtxe6Lr6MjdQihitb3z5DJws9zUCnevRhRoNyuOPQhphSzaqd6pbauh\n",
              "/G0E2TupCsA+f4V99WpcAk9SPx7VEoDebiN28sguRrAuZpOHh/oShFG58zv9+553TOFreEng4CHg\n",
              "AAAAhUGbF0moQWyZTAhf//6MsAAAKlT+rPZrcubZYAOKq82XVrl/fw6dHmZv99IVzUQa8zx/rw/1\n",
              "nnL4WfNE8amL5IE6eCm+xfX9S9nTIPPb5WAdUT0u/YYVSj8tzagoCeT+hNcUce5NLmTf4BGmeHDJ\n",
              "QJhf8gqRTWVBcrcNW67s9pD58sqG4UEAAACtQZs4SeEKUmUwIX/+jLAAACqcy5IT0FxigAlq56Po\n",
              "h/mVuKtx4uzTvOTN2/fk5i58e35KmwR6x9/8p8lxxhaVMOPoQmEsl7XpUWXDFxddi0y3oN9tFVcH\n",
              "zXXAZDCdHObcBnyplNOj05M/eePlaE4o6rpKyU+cmHY4OhSQfuh+Opl7l1e7MyauriB1EAF9P9CQ\n",
              "xVjdQ4g60DlBPoa48AdUF5HC8SkuA+yTDKjIJOEAAACeQZtZSeEOiZTAhf/+jLAAACk1D1vrABxt\n",
              "787K0bcFaJxE66XNpxuF8bU8efvuRdSu6/FsN6zbPWbpPI+YpGOyI7ZTm6t4AjW8hcrYr0gg4YAB\n",
              "ehWbWn1EMKS4oA8rYOksz+5jVPNyNzaDCInasEssa8zLXQyk1tixH6v3JGYgzwyIwFlDYh4pk50N\n",
              "bVXY2ecqJMQv6cUDA9HrDQW0MWAAAAB/QZt6SeEPJlMCF//+jLAAACk1AW+sAIyT/8TPlHTpWfYG\n",
              "a5674U3uMb215rYWCwnhNtEA5f9q20XBXJwnEEhRxkkW66ZCB9wOvovD1yEpxv7JRlqd3myJ8jez\n",
              "Ly60qH51v0qItQSFlzi80//FgKVATvKaNqDdYN0Wd1EHogJ6QQAAAKRBm5tJ4Q8mUwIZ//6eEAAA\n",
              "KRvvPDj8KoFT///4Qen9QHwrHEAdgeTVYX+XGQSUs02pUgHTmX1xK8DqdQ1fBRILkc4EkQ9IXaLj\n",
              "LTPKaTKUhCASfHz/P/ZdpmM0h/1jcnBuePmDh7ghrtrLGtzxNKCobYQnXQDEK4Nc3LJWRF8BAtpR\n",
              "CNgd1s2QSlIPizamhz91XZcU6MNozW5gqlKW8Naafj3TKgAAAMNBm79J4Q8mUwIZ//6eEAAAKOwV\n",
              "Fub17hxBoZACdVhbQCBFQd49Dl1xxiZ+PSKSJXVRZrEp9Vkjv8vTrGF2ss7exGEDJgmWvwjRgGyI\n",
              "aGDth05KDpJMDRJJfDMPi5u5kCUXPALFgt+L7ILJ7SoxrKBN9kGujGWVcJ+nNJKl7/f09T7ik71z\n",
              "TRNyiE7DufPL/3yP4b2+709zXZNfPY8gXJf5+EDA18uFoTbbfLD/Bs1dOj+ChgrCeT3RC0n2azlm\n",
              "Fs4ACZkAAACNQZ/dRRE8J/8AABthaOobo98PcSpHwxzzb+d9XEDOdwnDMaz64i0n1IOGknSl06aw\n",
              "sFUBJj2Fb2vguBuz1fVu+kh8IuxGKDt0wqCnk9goG7mOb9Yq2zoiZ71EtGWvJ46wt0+UMKTldp5w\n",
              "B+0h/8rb7AC3s7BIBSuNBYhrQGmE5iX0GWKGj621vfZ9QAM/AAAAmgGf/HRCPwAADN7luAegmR/j\n",
              "XXpo1fqrNVhUtw1YZV4CeTPobM3K2uG6wlcKHGCQsOVELtoBW44bOXybFSmRenajS0GLKNTWqfbB\n",
              "JfvRqC+uAQAF0DwRRV99iiSGVB7yoLQLD1+iXFgcr1dL7IjBEH5rYtrfdQYpgh9wn19I2PvyPhxd\n",
              "bOCkkZphW/JKQAepW1JSGWEp0gAAl4AAAACvAZ/+akI/AAAMuYQ2NA2d/ugBVUbGVc6cKErFJ8Qp\n",
              "7qxaQCepPiRIcaOjMVdEDYZFKtFlvLyGgiuYfO9Sw/WT80clx8QaGyE1vjlyFqwz5FmoMAGhiBy5\n",
              "NrpaHgeEWtAwlrr1wn62kAKEN8D3ZPSz8t+kaZ7Ohh/y6ePsoF6a+HGGRHwIJTSkc6F+WvHD3vje\n",
              "69QmQYKfJo2qnpKpRvXSxQptny6noQbCCkT7ngAFBAAAAJdBm+JJqEFomUwIZ//+nhAAACapAq2A\n",
              "wst/4eABzO8qxtNatgBR1Ncz8mE3zlUtLfzLEyK9KftMSqfdIDLttMkoDQ+q7tjc7v1HimolkpsQ\n",
              "GcmgzeU+ExqbSBOrqYTQAvemtuW/960LP2XmX51kTQwe3Bi+uRzn1q+5t+ent9vvIURL+23hn0nq\n",
              "w1D4IL8vq5sycEf0AFNBAAAAr0GeAEURLCf/AAAbq943dVPMRWNlKF0JT24JpZJMXS+t9rItdbt5\n",
              "QsuC/LKV800Z7sR3w9rSo5vQzjJ4tuXaFP8vOt92pAuLz44roV3EJyHEsIKBGGEcRPu3C93KAEy0\n",
              "xZwEpnQ4y05nZnNS4TdPInNut67Lm461Z7U3rCkIPq9VfnlOe+1oUOMcS6dgEVojyykUkP8gSsO4\n",
              "ugDP36TVIpTXbuPCVbWPDMkngdAAUkAAAADJAZ4hakI/AAAMj8IvSAFqtZsbqNtkyjGPUbZ5MrRN\n",
              "BmiX/ARCiFgbEQgHb9sqKNoAaC0NeomxLdHYFMdrtRkj3EVgtxFvejYWnq3hoz9bvtHtQlq8CSUF\n",
              "GeiQsXX61eNOC6naNbtQmOs5lRPtm8fQb9txGBxbXCjJp3j4/+E+eXnCfRmH3HJM0T/huHPUs17L\n",
              "P7Nex3eb4smtNRkNLuZ5FZlIlQtPG5aIB+cNzNhJEjHtyUVIrLRsGVgXzn8ZP+6+C7lzMtSAoANn\n",
              "AAAAj0GaJEmoQWyZTBRMM//+nhAAACXcXzpcU4IgAQ+n/BkWKAeZLDkETHVjhBa2ELhf/jiRCgnT\n",
              "f2t/xg9lJ5FgYUeRVL+I/gFOBB9p8l96tkVQYkXaKdKUpdHaIdpMmWsmorgO+368+L5Y1veC0mST\n",
              "17Dd+9XNMShDOxrHKAoSeWF3+m/an1FMPuTFYsMbpBIwAAAAXAGeQ2pCPwAAIMVAYwuxDhzQSUbv\n",
              "aD5kem4bB4Oysy4IztVBWPGEwhieKayv/8t+dVOdiPNt02Wq3d6GKRqq7PeKgLrN4mByl8iZBJKc\n",
              "/DrQeWXp7OtswQLNgA0JAAAAskGaR0nhClJlMCGf/p4QAAAl3z2LTJACdcf//9SBS1Fpty6KQU7L\n",
              "6Bbo4Kl9D4y2zv5cna/2g8BHjvMd34SAaetxQHQLtmrbRv6NpqhUMJ/SKUYUIJFrFUamxaE+NppF\n",
              "jSYxtGT9PWyUFieN6HZ0RN5fL4KPAfKurv3jIq4NQFJCZe9uIOEw0iSG5XAcSne1+Y1nBCWIZr2d\n",
              "9ejbpFPswUU1pcu/GPRpGbuR2cKX4b9O4WUAAACGQZ5lRTRMJ/8AABup5if5YhfEambpneY6NacF\n",
              "m8Z2/3nfmd2OcLkRzca+xMN1hCIvBLOA1fW+ZQAmXHv6xhn1uDUm/jgCKjOlA/Cihqh3fh4cudUV\n",
              "AFBJGUjpEv3i06O3vmyvM5XW5gQdRsODQrz5SfJFRsDIZo2aPDihVTeKHZPxPxYADxkAAABsAZ6G\n",
              "akI/AAAMQTKulDtZkYgj8vS7fF5f4aMPh4ZBHfi7sMLYTjVZOMJ9BBbNdnNy87G3uPgyhUvZI8zR\n",
              "Vtwzj2t47F7rB1isLv3DTRkV1AC3ADA7c3NQOUO062RcFHApMuBR7EDS+wEg4AcdAAAAeEGai0mo\n",
              "QWiZTAhn//6eEAAAJN8nfW/it1fnNr0Lt43JufJx8FipyV/l9SxQSCldfCQTkmJfRqmUhxWwzX4b\n",
              "vt031TQGOi5bmBbb4eIQYZGkq3vOxQtqaAuAY3008Aom+F/c7RT4Z7BlMv7FRlaUIXALRQqoETwR\n",
              "sAAAAHxBnqlFESwn/wAAG6veGeOKvLgLwThh3iEenc1H/lhqb3+u1E5DL+GVzQodTHzY/7rtHf/P\n",
              "qx+eRzuPdJ9xqgTQf0Q3iwJX8rDpW7BLs+5D7L+PIRp1N32fa/zAADZgvJpoTgTfvWy68X+heJDJ\n",
              "SiRr4aCuyAx6UqteAAHjAAAApwGeyHRCPwAAC/S6mBszD8XmQd3TS9BjHGkO1DVXJ2qvizFfu+Gp\n",
              "9udqWI41CUZ1pQXMMl+iYxmNtpvdo7aYeCGrV0d7FcDa/oEvtugdKeU2R0vcYALmSwb5BbwpFQHO\n",
              "N//FjrZdkEf4+/0KWdwubFgQ9vX1xbadDzwYodjLqKZ7q5z8Ptdp3vHJoYjLBSHtJpydWmjewqsE\n",
              "JLWKaWjKeQqmGNOAAJOBAAAAfQGeympCPwAAC6EXnJrvxysKo6IM2yxNd8zLVQsKh4/VxfGKICyO\n",
              "RBHE80+V/9LqajHZr5LPWmIXP55tUX7HXWuHXhAAF0GoIYQ5oaCNKj0nM9HuVQZnJUu93fnQEMSH\n",
              "UROBnGJk1CFa9P17axfMHs1dpZS5kO4k7cLPABiwAAAAZkGaz0moQWyZTAhn//6eEAAAI6qGZ+8z\n",
              "KyTrvQRaf8d2m+Ock4ShUUCIGN/tIpOehhvnMSMmkob0MUsS5CKwaQ4APE7gd+STydyfphmgkzgV\n",
              "1Jo1KLu136Av/1OFdsRwMfLSmY+GQwAAALRBnu1FFSwn/wAAG6veDuOK56zS11RNpqwwUBQ1XUP4\n",
              "R3/wknXsr4nONDO2WxQgxwEJzHQ2fP3HqWo//gbpQ8u5n0TRdDKzRDo47Ab+gcnMZ3x6uEaukDBA\n",
              "Ao689geJz9rmVltefAATv32kRDBbgy2a+lBuZSPQbXrkwH83kfkt8jJo4lC8FANuX4b2bUhWDzGW\n",
              "x4MmJnYMzsq6epoV6kb7xLnwoZT1DcifAx/YHJXupIAAHXEAAAC1AZ8MdEI/AAALoEusDXefUdTJ\n",
              "rKSl2CTmyD9EfIqn0k91pJT7mzqe5Jz2yjTnbOP488+hMpmuijQ91TUP32+tTNe+ZG3N2Kk87MRa\n",
              "Guf+nE9HxR6CjQDXefJTgCgAFur5y1NbTnNwdN0Vwi/ez3IWus/FB7/reUNJ43rDFTZHvsqmS7j3\n",
              "3gdA8GDT2xfkSG+hdcm+yxr5lszW1NIeYl0S75BDMN7FnWpQVuLhItVp1zDKNmAEvQAAAIQBnw5q\n",
              "Qj8AAAtdm0rGXqH7e+fRcvKM41x+kB146I+Bqn9DQ4CbAaGoKrRKcTj7+mKQHOZnkogYzkjCDeM0\n",
              "4Yr6D6ngwcGPmuo2bwBTltGCbr+h9AALhaua6ApDZ1t2LX935KbCYRy/4ASG6GHnyamEmsntN8M6\n",
              "vVDfJbc2h9u29DrgH+EAAACbQZsSSahBbJlMCGf//p4QAAAiqopW0/IHtxwAczvK3BqErtS+PruY\n",
              "616thy12BIZEIkV1pndlsH/R5pEnCMdrvzVrvWT+5tADCE4VApEMIA4HLIN0IqlSwO33vqxr39vY\n",
              "fTwuGTPTGQrqvWTPlkx16DujOaFZzUXR4mJBGRf/7i2I7HrHHAawfhO88FdSOw3DVpYr/SnWzhPY\n",
              "NlwAAADGQZ8wRRUsJ/8AABur3gPjiIISAFXTDN/9hwJvjdRaiC8K3NQ5r6f3lLCfFPfFRTUXdhXc\n",
              "cahclf8Eb2ng7Hn8XfYXhGB9hWaWvVp9exDbqANVwLVVP2HiQrgeEP3e2KzPoHQGYEljWr4DeNMd\n",
              "VL44fboesEYw9yrumDJbg73Tm5Nc7wi5ObV6W8Mup3uKrXR+luukWLGaZ9CgVw74t1+DDPq+cQrl\n",
              "Nf1m5yQm6FEM9ClZZfJI7nQJjqtnk+XHa9awn+gGAAE3AAAAdAGfUWpCPwAACxWbT2eqB8O0W5VX\n",
              "EK/uNm/M5TGlc/Oo9GjaKYlEMrrnxSqdzA9DgG3/hg2PbPcopX2KgVEsXD/QkAJEKGGIbZdELoW1\n",
              "8jKc2qDgUmZKPZJ32WxTTA5AgD8UnyDikpMZmrPgQ5yriOERX4IvAAAAsEGbVUmoQWyZTAhn//6e\n",
              "EAAAIah/i1mfbfSNOOAE0rDqeWKzKDolhyCJjqx13zqcXqVEBRI1PvhappHnVWWUkWNp79Bj8AOQ\n",
              "DjUSzAZFCiN3q18biqqSJvwQOkt1FF/qeijMuT47G2G6/9u5Oqb4EAYHZGyKlLdsP5Le9Ivb818h\n",
              "Rt8FAM6tLtUjZsV1Q8rNZwT0qAdV8cQfhGJuD9+76Kd3zC/XDCY+ZVCvNtRVekkvAAABQ0Gfc0UV\n",
              "LCf/AAAbq93444iCEgBKPQXY57w9ZqO0wWxQM7SfzPhkJLsLhLQfKDiyCxyG34D1sGAfltNXJKaT\n",
              "ZC5GOeYgqiZvGX9gfWotGwetUeSI73hiB7UiBumByot60Y0YwuZ7JzMnX6XmSEVwOgMa+hnfrXlG\n",
              "67HKWqGgAuXtR4V7O5Fs75Rc0HrBAu8LQS+q7d0RzMM2Y+3s1WJi3osZCu9ia4XAXWwbugNDWISj\n",
              "SAyibYA6qVjg7K0Hy20bunbJFwWNDmZyaBjU9r4QVlgmeJ5ZtoL1PsIvre4FgrNKW9J+xAsyM75Y\n",
              "qyKGwHwdm7LFnR6pM146JJk6SQDywYZknFhefb8VWMm2ZxU1e/+LQELJHtvRL6o1o8qxGsUJFpGi\n",
              "N2E/kSKPqwgLvAr8O6GV0ulITCKWVkkicJHitw1UAArYAAAAlwGflGpCPwAACs2bUFZg9ALJRGJC\n",
              "fORXytPAJiZGgeOPt+oF1jBv7r9ryB/YGbMJZDtTDYUG6V0Sx4t/wQWG3BLnbYgxwAmN5/xsAyim\n",
              "ZPWCku+zSGeUAJYxdjrpFXhPOqMgQjRmm4yPvcEKePGa4tNE8IgT3aBvZfEOvQy/KKCFrdKzIOju\n",
              "TSdKZy7+sI2K4l9fy4AAqYEAAACGQZuZSahBbJlMCF///oywAAAhP0KUJPkDvlwATqq5HBp38w2+\n",
              "OPnG02vUpstVQfjpTzK4gkFUkPz8nCcymHAi8U3d59zhXQuj+nUZX+zC4wpznra8n9tRUJx8GYYR\n",
              "DAIYkTouGCiXMIx1rrTWvPJ9eoux5UM0DaLpurw5it9zVsWa52K0wsAAAAB1QZ+3RRUsJ/8AABur\n",
              "3e3kVG5IxAEFOgugCqvCtzUOa+n95wHXwqEJRTG2Cq4MXG+6XLX/Bm97vcU5+r30V4KAfHGexaYx\n",
              "//sT26UDT8CpVUQhQkG4HNE2rOlt6BlVyAIn6EBfjIEfRh/wgZOiGein6AaAADZhAAAAaQGf1nRC\n",
              "PwAACshFqSPCU78K1PSJI4McDSO5oeciyX0G5c9YMfTaeJaukMPbZKjfW+zwAlN3YoODEwpttg04\n",
              "weIqWWZ64BhtZB0IQiqmc8YXseSBhXgPZLDOzD/iDjnU08G9D3fn24B6QQAAAI8Bn9hqQj8AAAqF\n",
              "nivyjUqb9h/ApnvDJsCA2Pism68JGPUpCwH2+PYXtO7KI4sp4AVD3WJrfgot5YpsFqgkhdGt0OLG\n",
              "CzAi8AJPxzlqa2foMa8yARBnxaUzm1+Qwsl0KWFD4P1RnUB71BY+ocY0wxIUycef9iWR9X6HmP0O\n",
              "i86COd9PTFRHiCycMxdR+OAMCAAAAKdBm9xJqEFsmUwIX//+jLAAACA/Qjpzv1Pmz/vE7LYV/IxV\n",
              "9bqxd+TZea0cdciAswIwC4hZpeR7zlIE7FppfRqbx3ZH1FJuCrfW/xAcAsE3TYg4QantmEO4XcPD\n",
              "Z+8kcDA/jZzGk8e9h3+Psgsa9B1PD4X3P5k2cKaHGoEu4HvV5PpzFxmPKvM+EOQlTFXUURt3GlfP\n",
              "Erm/EQrQJaj6Jg27yOXAStwz4QAAAKRBn/pFFSwn/wAAG6vd4uOIghIAR4cBTDvLvRsLGh+1r9SP\n",
              "VFxBz1LN33DM66jTwL205TmncEjGTFsI/EaXsfZfBN7qEWOOLArQmOD/h4n1c0c5bDx2WriJDd2v\n",
              "2Y/rdZAGCO2XsBcCoKXnzpOfHsNbkd6mfkzET9hV63qV2j/Z+2Sv7RX/gzDVg6xJN6Mw8z8iraC7\n",
              "NnfcjPO1/A1FKtv3moABlQAAAFoBnhtqQj8AAAo9niwVmEif/QewVoQ1rEMenXTaM+z+hr27Yj0O\n",
              "a87SCmiHsAok7Nd2q5aruFnXHvzlYQFzGAUJ/9XPODVb7BifxD09aG1u03ywFImjcSoATcEAAACE\n",
              "QZodSahBbJlMCF///oywAAAfLkGxQAHjSC4Ms/dMJp6LgFTfG079AKevz8WOpjbvg0Kr9qI3JIgz\n",
              "HHWMZlMsNaltf35z6QBPS36t2uABh60WOId49aiczAD0aKNf5W/6/IQ1ZLxOtDG5rpVlTutCiRav\n",
              "kcxpT3wyxXI4q+8D+Ye+hB6RAAAAbEGaPknhClJlMCF//oywAAAfX3tqiHQCS2av8AaQ6MxdiKmR\n",
              "5Q+XYMI9tf4UTnHFaeGeLtCCM8pTBjNV5cIv5bLRzke5eak2S4wTrWoQFCImL8evZH61W/OKspg2\n",
              "aM9HkJArSBlJZSSB+CD0gAAAAGpBml9J4Q6JlMCGf/6eEAAAHk85MuQAbQeoRAUZtEfebzVTRtV5\n",
              "FEiQc7dHkWdOovSspsRysRfiZr0lTaRT8GSlKldM1qpi8c+aAR/x0iJjNDU2Wnr5GznyHeGv+kXJ\n",
              "OImrJamEvxAhmDAgAAAA6EGaYknhDyZTAhn//p4QAADT+x36NHbe0NQ0CpVN2l5MN23vG9JoQpKK\n",
              "c7ejbI8KXsyl0NCsrGpl8vZXiUOPC95MD4swmC8jNduDkFrMudvU245PORwUx5/1JK4ZdiQacGGi\n",
              "jxs5ax/ERsBk+ycadLQRqjdLRb+ZuR3BSRffAPmGxPLeSrNzKt56KxMAwIbrfgafb24DzoowxiTd\n",
              "t+TXoZfQw/2EUaRICNc+bjEkIgdfw11SAt+PtyAUZgtMOXaRXyK3/6L92vKKOC8bji9l80JXQ3UK\n",
              "cbc9dFUOzfkbMB8Ki8CUSnadIRcAAACgQZ6ARRE8J/8AADihK/JvmhE1xACWZnI5zopB+LR+GngV\n",
              "Uv3Ldk1xBV7xoNzPsCu1MC5rtGcDX02U6v/Q+vqh8nz0Zossp2zz3SS7gENZDY+CIf1EQlKqLRBj\n",
              "M2h/1SS4rYrm8khd6DYUxCqRSbT4RrVGvHUgBIjGDFjfvKp9RnDPR5iTPsoj4lwh0LB6l3c5Xi77\n",
              "nCB0DP9V9asy3gCLgAAAAHMBnqFqQj8AAENgQPneegtPlNIeZEPfINCQyg+0xELA9Ikr8LhgD2iN\n",
              "qsUTcxKxq2DAue2CEQCi3h8duuZ4ZM5lTot2N5NVZIIndYOr63Og7YATNJsh/YNkv09XehYp7PwM\n",
              "k/q+3E2mcspw/iKmPV7UYrFhAAAA3EGapUmoQWiZTAhn//6eEAAAHc9jrOCHtP/GQAHY7zqNh12h\n",
              "VBat1lVzPyYTfOWu7GhkWDIrrXKdltBSoQorPZdNw8uJVGcCLkW8ddoK2odnskXMsOhpEmjylnud\n",
              "re5zmo0Ww8an8xKqEumNriOqI+pYkB7NdCEF/hQottGoz6z6Dib7ZyhMuvaLSP8bFDYb6HZV92Py\n",
              "PW0EcH5PPg277xQjyjMF/ba20G9K8mz7Tw3kRbiCDhARSRD/LNkvUB3Y7Sd2tKtOpW5mLJ0A+knu\n",
              "e5vvp6Y0ROhpnYpHn+AAAACeQZ7DRREsJ/8AABur3cMfp0ZQAHjDOc9V+xscrh5zjCero15lL3j5\n",
              "ltufBqNSZoiOd58XsmYLa6fywKryzlbJPSqVo67wC1O1Kxm+xKxWc5inyfrLKvJy7s+R0MLUzGTX\n",
              "+ALMdbUflD49cYRU9AkXLkpjG2eBHwINerFS3bkpfupKsM5gCDqlPyMSNpOdmNyN9IMVgHJ51cIm\n",
              "W0uoCmkAAAC0AZ7kakI/AAAJqvBd9kx0TjM8Vfvxv5xcGJ3rZa6BCdTvqo1iiAF+6pqpCO7nrv5c\n",
              "V13yKKuqVh+3XVuQt7vJC5vI8ozZj8xAqgj0NpW/q/qJMRwhdAgmYAAXFZeMsTXsND7uDrSsbNwC\n",
              "8uMZN5h9hozFDXN82iQH9usDM4Oiw1tVh7FT3j6KokfyGFFZsIfOXRQAo1UnsQvCC7ElCgngte4I\n",
              "ESM5sTud36NNWG3z6EqwAE7BAAAAr0Ga6UmoQWyZTAhn//6eEAAAHR4To3OZ1VxYAHaCf+ESOIgS\n",
              "V564jEdGTn9AnaW5cxNdfI8HBUge7A6snkvBfRaE0cZ/R1W5nzqoa5XYRcLb/zWyPaeGtDlPBKjC\n",
              "am+AErD2Di6Nudqhj1bBYhXlO6NrGb8hZKFRRYoiagU4MokTvB+rpbVTxCaoNJ5sE4t5SEDlGA4e\n",
              "8ZtR5RXkMwh8+Qnf+tN7OlUurIlvziyAGfEAAABtQZ8HRRUsJ/8AABur3bnJNve6C7JZneY6Nacw\n",
              "uks81d2hAFkKZyHn2ol7epVyDia8PezpfBe8iw/AuItldUiSaanoSTGV+PTN/AACdm1oIshlLp0b\n",
              "zmT/KhtVVSRUdv6YkJQoOLrkFwtjcgAN6QAAAJ0BnyZ0Qj8AAAlvIGVYAS1ucmSw/+hjcDYwQKXt\n",
              "0FTKYRBY4XkfK5NZ3L6lFe4FyvgEXJxlKg82nJSQM71Vy5wp8B1+dKLbsbYC7bIYwLmfD6cV+yh9\n",
              "LsVE6DNGjBb1dmioxIUzYT/+pSw5te4+6OCkD7G1hyan4Dv3kfyar34goiJKeHPgaw1z5RG5htvS\n",
              "M1+75VUg8PjexncUSAk4AAAAmQGfKGpCPwAACWv/P2Nc7VRi5Y/jFO2D3QCTklizttN42EJ8SSIP\n",
              "cquCIV4s9BOetznMq9RGlHZjWsL4LRRMRWpw3DOfCjy5igAFkYie7fdg1/LX1x5JqADyrRlg9Nmg\n",
              "4ZB1yW1VPnsPPMXDpWULdi50PZxWb9okXGgHHdxYzs2RDqB9qQpWFQwHdvCR2ysp+k1P6D5NGCD5\n",
              "gAAAAJJBmy1JqEFsmUwIX//+jLAAABx1tM/dOgt5kAD94//4/bcuiiFOy+feL8RK87KEtsTNxInZ\n",
              "WUhWdfYxt4+aZ8vcfDZGaN39eIj4RtAngt4wJSjmDiSt/5KAia86/zD6XA0NcceKKVmHZiZCveqq\n",
              "ZTverAnLb0xyt+8SPFOLZfIn4O505VrTbTOKjOjR8O9O7QBHwQAAAFtBn0tFFSwn/wAAG6vdr8k2\n",
              "97oL4pmd5jo1pzRc6JsfFEDTEqn72IEFPszvQ3WEIi+5tkvp1hziv4X4hpBzCfDqAhfk18HH9mha\n",
              "iqef3qZSprX7SC//XTz0AG9AAAAAeAGfanRCPwAACSpZB0ga9SFDl/9S1+qCAuiccQFLJuV95v8D\n",
              "t+BNbEjuies3qEYAV3ML3s4IY7EyhMG4Oclp331gguKMivDwjlMsV06PTpiDPBIuyQAfuZKKq0F8\n",
              "B6wxapm/jfxxnytMbGZ7jlPE7xA/d1WCfMBgQAAAAJoBn2xqQj8AAAkr+IkgRJbr8xWigZDTqcjh\n",
              "IX6mWG5c7JkNbfRMrxVLm4LbXlU7LEKCgpVRPgWGvhNHUC9vN4Gv8s5doFJd9l4Cq0AH61GZk86A\n",
              "KrEeDXzYzcY7Y7DaDUG6/MeBSIbqqtTxiVgQpO4Ljzn4YE2qWs/SFCY7dycthkIbbBcUKuzRAnmt\n",
              "ck0geZYiGBMxAwub2ANrAAAAXUGbbkmoQWyZTAhf//6MsAAAG8WHTiM7mSgBMKoDjhFiozV8U1ir\n",
              "KK95JY7lBnlg76iI+aRV0H+7I+id4QAUqn5cT4UJGqbeHP+5QL/fm1PxfXa0qPGB0GjexcBDYQAA\n",
              "AGVBm49J4QpSZTAhn/6eEAAAG7/I8HXdTvgI7Xw1fZgo/Uhvx0pJ5mVVBk89e4TTWMM6S2uzbds3\n",
              "/cqOUDeyQEj2+8uZlszEU0GZcU0hBC3myaIBphSmYqKJ89g8U3H0DK4B/S0BlwAAAItBm7NJ4Q6J\n",
              "lMCF//6MsAAAG04TplpCAx8VABbyf//Ci11xwOPcFoLxbHStBAtlfek/NyGpD80uQRUUnEVEe3i2\n",
              "bBEFvv/CfJsPkUx2YHEp/CDgpFo/ZeAXS11rU7eu4BA4CfsAs6wLVpCkz1gw+WMsia3Of4P2T+46\n",
              "RDyIxcNU/0eTJ77dGp91WzEgAAAAjkGf0UURPCf/AAAbqeXHV3Vpvv8TfLBMbg/VA6oYFa2mckl7\n",
              "N2aCUYjpdrTF0mKDHXpk2jQtqk3Q5fKxxWaTE2f2krsrAcZvlVpSl4v9m0jKXSJEahK/hwsV7H3P\n",
              "464ATGww2d8KimP3Xu2szAnShOP5CONKa8gfo4sE9KpyQ2CNZcsZsY1fA2RH4byQAWkAAACdAZ/w\n",
              "dEI/AAAIrxqez1QPh2i3Kq5IHfrICLqrv9mONjnqziiAsjkQRxPNPlf/S6mox2a+Sz1ZzVm0eyzl\n",
              "/9zrocIZ8MhMAAnGkyTezQ++aWjIipSeo6oLlL9LKKNwplobGSmljUZY/TQZapqd4Sb6gMhOUdxX\n",
              "7dN8zpmfRKpOdU0LIKSu2C1rhStTqMnx3H6+eboLwWg3TTsftgB/gQAAAHsBn/JqQj8AAAixIK7B\n",
              "xhoMhmj0Qp9pzAZ3SyfpEioQJetQBBk7qjkcxcqHeb6zojC9a6osS1PfSZ8ItTZstO6GwogtPK7S\n",
              "HbixswiDFKJ/n1asjdkUcntetAB9/ociPmsIaoY+sVGc+EmGtchpjkWHkgWpAj+CDC3Am4AAAACg\n",
              "QZv0SahBaJlMCGf//p4QAAAaVd7E3K3kYEVjyLiwpbThXHkX7eEepHE5Eu/2T46MrEWSL/4foE9a\n",
              "x3YYTafYdoJpVrXkUgbDZ5TaIAKexNe+jqUnWMGlcbGI1VkkmGuPDsgffm1eu1Cy4COYbLwv+F/E\n",
              "Jxv5TA6ocBvTQ7VMd4txewcKZS3ev9zR0kWYy6aPEjuDBu2ppioxArc2vKrh6QAAAIVBmhZJ4QpS\n",
              "ZTBREsM//p4QAAAaW3ezxrPJlEZV4NU6W7DGyQc8E63+SbnahpOxQXE6pxjlZlFtzU31gVXU8e4w\n",
              "qfzRhSDZOwnIKu+tYf2+s++fgAGv+sbeJiddzKNfX4JGZuwaFAM2bHLiI293uQNH42W7JN23r5/Q\n",
              "aXl8lcn1l7V6hQLLAAAAfgGeNWpCPwAAIEoqCo17vq2JpW8dyWHnO+R+VrfTOKOKOvO480RMHL1h\n",
              "q4ZO580v86gK+j8pgBOMYDeXbbYNN3cVucmza9YlE7HVoA7KHI0DncjMsR3wAy9vuojvm6uHyQCy\n",
              "lbV8WuHB9h1c/qhqg5MCnlI3V73AAKnaF5gBbQAAAKtBmjlJ4Q6JlMCGf/6eEAAAGd1z8NLD2BJL\n",
              "8lfylXuZS4vef//n8I1x1lmi2G2K/jywaJl79YwLoRtIbOdV7yKtXWP9kjr1fKrrbc0BHJR7N1sb\n",
              "S/mcZFj/xiMkYHqNwOQEiNc/+xySi9pjyVTo6/5OIsFATyu4kgzsnFVcJZfER+UyIUio6DCQoIP0\n",
              "0JpgQ+/76gZreepeAACZj21HAImy1QM6Zcjvye6BAqcAAAB1QZ5XRRU8J/8AABthaMsjJt0vOBLM\n",
              "TGH6bj2gk9pX+NebIaf/kfgxRlc2ptuwsAlP+/5IU2vPbrPwHsGT643eTQqhw1vl1j6Nvht/KvxL\n",
              "6o++F8oN1rGthjMsSc2iDGHUu3ZPTkGEt3uShkxabTm4ElqhQALbAAAArAGeeGpCPwAACCrwbgEg\n",
              "ApTtqY8NDoW7Cg2ZlTsfEP93KrHb6hgxjGvWv7FLESy5ZgorMhnMLRFCZlBemxBAgU74ph9o2g4Z\n",
              "IOMwaa2Tsy/Ak67lqG6SrBwYBe2FYL51ko4VQ4p0fiMlAwaOagY5FMas9V60o385XpknAswpyanp\n",
              "a50vZOjDeUFyQC9eGlIIs9jOFlRqlJ3HX9rHsAVvALNvjPLFQWZESab0N+AAAAD1QZp8SahBaJlM\n",
              "CGf//p4QAAAZ32OtD4aVbSAEQblfCJGxIUAMnX9541R1iJewKrTGzouZrVgr96NSR6UKu7RiBQr/\n",
              "husDni5Nc5q3+M0JkuJ+lnikvLQ6RjQ/QhatEgefwj4yMwe711S4BAxOFD8gIas/8EbeZseEGxiI\n",
              "RL2pxkuncY+jtZKqRpPTkVW1FKg8WNP946I9a13Lr0If81Xu4/QfHHBdZH27Oz+bddkjv+uHw0aZ\n",
              "A8Q8eR1NImwj+2N7ryW0PcGGJ07Cl1CLg832Qmza9aN1AbEa3tRXpDQLcWCrCunTcMQkkbj98tnh\n",
              "Yq2vfqJeQ4EAAABsQZ6aRREsJ/8AABur3YoguH4tnHa3Mf35bQAkF4UTLK/70ZmxpeTivWGLmC/n\n",
              "hXW2/3Kz3z8QuM69g6YRmSc+0slk5cXyLnH50+d/nO52K7R/7WNxRhaMwsOFhLk7OsD2fktHitHK\n",
              "xoxAAMCAAAAAjgGeu2pCPwAAB/HAvTIAVn/oP3bCJukelkF2O6cNdLU5ARfua2DRvzEa97JEjfbC\n",
              "aaDdENEVNXZ9kLEytie90lUMESREkt/6Z+V0h9CQXGDCwTxhn/orAbE8NBnhcegd3BXhnn8DmhdS\n",
              "8RLVN7xGRUAX1a79GBVzjVJQGixdeuRUbw9MGb8H2nnO5urgwYEAAAC6QZq/SahBbJlMCF///oyw\n",
              "AAAZb1G634aX3XABEH///PJfH1hMdayb7dPX1fv9itiZ+bdwIAdQoDPMZYO67Vd2J19IsZAwBOHk\n",
              "toqlG4Pp9sR/Wx5rLC8CSdtqqgE3FWLU1QLpXUJ+ja/ElywsSjqMOCSuecmJKIDT3RV+vIaSypI6\n",
              "P5b/nN2nW/3EwADql2Kh9GO4q+e8qq5bpjXQaJW/M1Pa4zvSFuSWrsUbOVvN09KtkNUKt/frFkGB\n",
              "AAAAfUGe3UUVLCf/AAAbq92BHhejHmEEF9KkgATn2XmaXBiV2tMuZDbLQ9wPperpNh6V7mTJYniV\n",
              "CpBlwIdw9YYv01yCLIjGFBoSW/rIDz+mABCBg5R8GazrGJH98x4fMqCgmX0938c97q9ttgIKUcPU\n",
              "oTkJUS4F3TY/3bpYAI2AAAAAWwGe/mpCPwAAB8MdsDfESQ7E96TfqMU9WJWcJjz1DeorOt7ostgr\n",
              "knwM1D9nZhdG1S9UplhnQYfI/L+1DbuZHPKtN99ZstagA8u0iJ71uXGWxONZ4R661vxQAfcAAACg\n",
              "QZriSahBbJlMCF///oywAAAYz1uq34xq5AAD9s89LY0hIc8l8cfONptcS7PZ6p//0Dv8rfw3/rk7\n",
              "XMGq54spEjTXM1ftxtnyIv4XmsQ6EjKB9GJdBZER4cavNiEXAtabCt0v/Y+PGEhapXsh6gUuztjv\n",
              "7ATv28FEbHczg88Dl/onYQ1v5PHUZKbkSuIhnzD5LWtSN7INdWBnzYG0bQ8hZQAAAHpBnwBFFSwn\n",
              "/wAAG6vdeCC4fi2ktI+/aLDBQFDVdQ/hHg9j+SN2i5R6PsCPN0RJCDeVqwd/R67E+16beXtNOKwm\n",
              "9a/jpi+Oz9AJv9Zm/ETwcfTG5yS/HAGOPyQR6zjUVEg2W3SaufHFARY/H1kygngShMbxOxu/bGKB\n",
              "iwAAAHUBnyFqQj8AAAeZvqmnwgYijTrShYjQ5EYs65fMaAamquo/Aq46VOyFAQ71A+MpoSKbL4Cc\n",
              "O5bwMNeh2gyRZE8/8GjOxxbh4YGdyYbKQWAs77n1JQASp3S9RZfzwsYV8tFjpOLD8W9aIlCm6RbS\n",
              "zVehYEKCibkAAAC5QZsmSahBbJlMCE///fEAAAMA43pt63B+TFMALeFMKH28rKTPu+dRr7k7vZsc\n",
              "qKsNmx/6MwMbqRi1OfCkGeHRbzniVsaSqTaL3qfvj9QcXz0dzVyPxwvjku8G64ymnn6wz/T19SHE\n",
              "OIGRX9oje8ZtChGYRJ3gVRD8lyHl9acLrhik5HGa0FnJk4svcMXRe2n37e8PiDsDnn1m93Wnu00w\n",
              "ZRLsMiG4awhIPiXTog5eBrTdEYHkxjZH0f4AAAB8QZ9ERRUsJ/8AABur3W8ezkvshGIZf92sMVgk\n",
              "KySqI2Eb5MJCYlmdFyHeEJ8jTfM8miqMdrvEYdmrSwAiO+eOUC3vRhGztoa1Pjpuj4SGxalFwePg\n",
              "g4TloEXFsfBqw9spDL1dfQa2QgRBf+s+2l1l5KkyklaaOw/s1kAK2QAAAFEBn2N0Qj8AAAeWsdSR\n",
              "4SnfhWp6RJHST6GZkXOtaOC9oNIgVikNHR7e8srcBte3ik/bXkgGUigAnVf/sqZr12x1hbnjUV/h\n",
              "njrdcwIA06t93x8AAAB/AZ9lakI/AAAHbcC9MgBb25yZK1mI7seJa8jLKjEKOUmolrcUI/3JfSqz\n",
              "Za2j7kZRPxXqJpaEPflLWyBj3EyZkut01AKT6NjktUDfoKrAXKWHxArqEsQZfaJOGZHBs0X2Kpv4\n",
              "Rknz0quGQgX7RGVHm5xq2NLqX0+V5B4ADlnBoQAAAHdBm2dJqEFsmUwIR//94QAAAwFj9Pr/1CWj\n",
              "FJsMUQKu8IHHu7voWIy3CCNpDV9fASqRpSOejLkKf1COFqlwRMCwNH46HWPWN9m0vUC4X8wAlIG2\n",
              "41DrnzMLrQ0V0j9jTdPMd6spyeIu9lnqdwnj6hV6tffkWmbiPwAAC2ttb292AAAAbG12aGQAAAAA\n",
              "AAAAAAAAAAAAAAPoAAATiAABAAABAAAAAAAAAAAAAAAAAQAAAAAAAAAAAAAAAAAAAAEAAAAAAAAA\n",
              "AAAAAAAAAEAAAAAAAAAAAAAAAAAAAAAAAAAAAAAAAAAAAAAAAAACAAAKlXRyYWsAAABcdGtoZAAA\n",
              "AAMAAAAAAAAAAAAAAAEAAAAAAAATiAAAAAAAAAAAAAAAAAAAAAAAAQAAAAAAAAAAAAAAAAAAAAEA\n",
              "AAAAAAAAAAAAAAAAAEAAAAAEsAAAArwAAAAAACRlZHRzAAAAHGVsc3QAAAAAAAAAAQAAE4gAAAIA\n",
              "AAEAAAAACg1tZGlhAAAAIG1kaGQAAAAAAAAAAAAAAAAAACgAAADIAFXEAAAAAAAtaGRscgAAAAAA\n",
              "AAAAdmlkZQAAAAAAAAAAAAAAAFZpZGVvSGFuZGxlcgAAAAm4bWluZgAAABR2bWhkAAAAAQAAAAAA\n",
              "AAAAAAAAJGRpbmYAAAAcZHJlZgAAAAAAAAABAAAADHVybCAAAAABAAAJeHN0YmwAAAC4c3RzZAAA\n",
              "AAAAAAABAAAAqGF2YzEAAAAAAAAAAQAAAAAAAAAAAAAAAAAAAAAEsAK8AEgAAABIAAAAAAAAAAEA\n",
              "AAAAAAAAAAAAAAAAAAAAAAAAAAAAAAAAAAAAAAAAAAAY//8AAAA2YXZjQwFkACD/4QAZZ2QAIKzZ\n",
              "QEsFn7hAAAADAEAAABQDxgxlgAEABmjr48siwP34+AAAAAAcdXVpZGtoQPJfJE/FujmlG88DI/MA\n",
              "AAAAAAAAGHN0dHMAAAAAAAAAAQAAAMgAAAEAAAAAFHN0c3MAAAAAAAAAAQAAAAEAAAUoY3R0cwAA\n",
              "AAAAAACjAAAABAAAAgAAAAABAAADAAAAAAEAAAEAAAAAAgAAAgAAAAABAAAEAAAAAAIAAAEAAAAA\n",
              "AQAABQAAAAABAAACAAAAAAEAAAAAAAAAAQAAAQAAAAABAAAFAAAAAAEAAAIAAAAAAQAAAAAAAAAB\n",
              "AAABAAAAAAEAAAUAAAAAAQAAAgAAAAABAAAAAAAAAAEAAAEAAAAAAQAABQAAAAABAAACAAAAAAEA\n",
              "AAAAAAAAAQAAAQAAAAABAAACAAAAAAEAAAUAAAAAAQAAAgAAAAABAAAAAAAAAAEAAAEAAAAAAQAA\n",
              "BQAAAAABAAACAAAAAAEAAAAAAAAAAQAAAQAAAAABAAAEAAAAAAIAAAEAAAAAAQAABAAAAAACAAAB\n",
              "AAAAAAEAAAMAAAAAAQAAAQAAAAABAAACAAAAAAEAAAUAAAAAAQAAAgAAAAABAAAAAAAAAAEAAAEA\n",
              "AAAAAQAABQAAAAABAAACAAAAAAEAAAAAAAAAAQAAAQAAAAABAAAFAAAAAAEAAAIAAAAAAQAAAAAA\n",
              "AAABAAABAAAAAAEAAAUAAAAAAQAAAgAAAAABAAAAAAAAAAEAAAEAAAAAAQAABAAAAAACAAABAAAA\n",
              "AAEAAAUAAAAAAQAAAgAAAAABAAAAAAAAAAEAAAEAAAAAAQAABAAAAAACAAABAAAAAAEAAAUAAAAA\n",
              "AQAAAgAAAAABAAAAAAAAAAEAAAEAAAAAAQAABAAAAAACAAABAAAAAAUAAAIAAAAAAQAABQAAAAAB\n",
              "AAACAAAAAAEAAAAAAAAAAQAAAQAAAAABAAAEAAAAAAIAAAEAAAAAAQAABQAAAAABAAACAAAAAAEA\n",
              "AAAAAAAAAQAAAQAAAAABAAACAAAAAAEAAAUAAAAAAQAAAgAAAAABAAAAAAAAAAEAAAEAAAAAAQAA\n",
              "BAAAAAACAAABAAAAAAEAAAQAAAAAAgAAAQAAAAABAAAFAAAAAAEAAAIAAAAAAQAAAAAAAAABAAAB\n",
              "AAAAAAEAAAQAAAAAAgAAAQAAAAABAAAFAAAAAAEAAAIAAAAAAQAAAAAAAAABAAABAAAAAAEAAAQA\n",
              "AAAAAgAAAQAAAAAFAAACAAAAAAEAAAUAAAAAAQAAAgAAAAABAAAAAAAAAAEAAAEAAAAAAQAABAAA\n",
              "AAACAAABAAAAAAEAAAMAAAAAAQAAAQAAAAABAAAEAAAAAAIAAAEAAAAAAQAABQAAAAABAAACAAAA\n",
              "AAEAAAAAAAAAAQAAAQAAAAABAAAFAAAAAAEAAAIAAAAAAQAAAAAAAAABAAABAAAAAAEAAAQAAAAA\n",
              "AgAAAQAAAAABAAAEAAAAAAIAAAEAAAAAAQAABQAAAAABAAACAAAAAAEAAAAAAAAAAQAAAQAAAAAB\n",
              "AAAEAAAAAAIAAAEAAAAAAwAAAgAAAAABAAAEAAAAAAIAAAEAAAAAAQAABAAAAAACAAABAAAAAAEA\n",
              "AAUAAAAAAQAAAgAAAAABAAAAAAAAAAEAAAEAAAAAAQAABQAAAAABAAACAAAAAAEAAAAAAAAAAQAA\n",
              "AQAAAAACAAACAAAAAAEAAAUAAAAAAQAAAgAAAAABAAAAAAAAAAEAAAEAAAAAAQAAAgAAAAABAAAD\n",
              "AAAAAAEAAAEAAAAAAQAABAAAAAACAAABAAAAAAEAAAQAAAAAAgAAAQAAAAABAAAEAAAAAAIAAAEA\n",
              "AAAAAQAABAAAAAACAAABAAAAAAEAAAUAAAAAAQAAAgAAAAABAAAAAAAAAAEAAAEAAAAAAQAAAgAA\n",
              "AAAcc3RzYwAAAAAAAAABAAAAAQAAAMgAAAABAAADNHN0c3oAAAAAAAAAAAAAAMgAABMbAAAC3wAA\n",
              "Az4AAAKIAAAA7QAAAJkAAADNAAAAcwAAAJQAAADFAAAAyQAAALYAAADtAAAAbgAAAFsAAADIAAAA\n",
              "awAAAJEAAAB7AAAAqAAAAIIAAACZAAAAiAAAALIAAACfAAAAaAAAAHgAAAB9AAAArgAAAG4AAACt\n",
              "AAAA2gAAAKMAAABmAAAAqAAAAJQAAAC/AAAAzQAAALYAAADGAAAAagAAAN0AAADIAAAAkwAAANEA\n",
              "AACcAAAAoAAAAGwAAABfAAAAwgAAAH4AAAChAAAAgwAAAJoAAABtAAAAlgAAAHQAAACaAAAAkwAA\n",
              "AGIAAABfAAAAnwAAAFwAAAB3AAAAqAAAAFkAAACRAAAAegAAAJsAAACbAAAAfAAAAKQAAAB0AAAA\n",
              "nwAAAHYAAACjAAAAcQAAAJcAAABuAAAAWwAAAKkAAACXAAAAeQAAANgAAACgAAAAfQAAAFkAAACh\n",
              "AAAAiQAAAJsAAACuAAAAeAAAAHIAAACsAAAAZQAAAJQAAAC5AAAAhgAAAHwAAACEAAAAiQAAAJ4A\n",
              "AADCAAAAYgAAAIIAAACSAAAAawAAAJoAAAB3AAAAoAAAAHAAAACAAAAAnwAAAHcAAACIAAAAlgAA\n",
              "AJUAAACzAAAArQAAAIkAAACxAAAAogAAAIMAAACoAAAAxwAAAJEAAACeAAAAswAAAJsAAACzAAAA\n",
              "zQAAAJMAAABgAAAAtgAAAIoAAABwAAAAfAAAAIAAAACrAAAAgQAAAGoAAAC4AAAAuQAAAIgAAACf\n",
              "AAAAygAAAHgAAAC0AAABRwAAAJsAAACKAAAAeQAAAG0AAACTAAAAqwAAAKgAAABeAAAAiAAAAHAA\n",
              "AABuAAAA7AAAAKQAAAB3AAAA4AAAAKIAAAC4AAAAswAAAHEAAAChAAAAnQAAAJYAAABfAAAAfAAA\n",
              "AJ4AAABhAAAAaQAAAI8AAACSAAAAoQAAAH8AAACkAAAAiQAAAIIAAACvAAAAeQAAALAAAAD5AAAA\n",
              "cAAAAJIAAAC+AAAAgQAAAF8AAACkAAAAfgAAAHkAAAC9AAAAgAAAAFUAAACDAAAAewAAABRzdGNv\n",
              "AAAAAAAAAAEAAAAwAAAAYnVkdGEAAABabWV0YQAAAAAAAAAhaGRscgAAAAAAAAAAbWRpcmFwcGwA\n",
              "AAAAAAAAAAAAAAAtaWxzdAAAACWpdG9vAAAAHWRhdGEAAAABAAAAAExhdmY2MC4yNS4xMDA=\n",
              "\">\n",
              "  Your browser does not support the video tag.\n",
              "</video>"
            ],
            "text/plain": [
              "<IPython.core.display.HTML object>"
            ]
          },
          "execution_count": 23,
          "metadata": {},
          "output_type": "execute_result"
        },
        {
          "data": {
            "image/png": "[encoded data removed]",
            "text/plain": [
              "<Figure size 1200x700 with 1 Axes>"
            ]
          },
          "metadata": {},
          "output_type": "display_data"
        }
      ],
      "source": [
        "from IPython.display import HTML\n",
        "\n",
        "idx = 0\n",
        "\n",
        "fig, ax = plt.subplots(facecolor='w', figsize=(12, 7))\n",
        "labels=['0', '1', '2', '3', '4', '5', '6', '7', '8','9']\n",
        "print(f\"The target label is: {targets[idx]}\")\n",
        "\n",
        "# plt.rcParams['animation.ffmpeg_path'] = 'C:\\\\path\\\\to\\\\your\\\\ffmpeg.exe'\n",
        "\n",
        "#  Plot spike count histogram\n",
        "anim = splt.spike_count(spk_rec[:, idx].detach().cpu(), fig, ax, labels=labels,\n",
        "                        animate=True, interpolate=4)\n",
        "\n",
        "HTML(anim.to_html5_video())\n",
        "# anim.save(\"spike_bar.mp4\")"
      ]
    },
    {
      "cell_type": "markdown",
      "metadata": {
        "id": "s0dAgWUt2o6E"
      },
      "source": [
        "# Conclusion\n",
        "이제 snnTorch의 기본 기능을 이해하고 직접 실행 할 수 있을 것입니다. [다음 튜토리얼 에서는](https://snntorch.readthedocs.io/en/latest/tutorials/index.html) neuromorphic dataset을 통하여 학습하는 법을 배웁니다.\n",
        "\n",
        "또한 튜토리얼에 대한 귀중한 피드백을 제공해 주신 [Gianfrancesco Angelini](https://github.com/gianfa)에게 특별히 감사드립니다.\n",
        "\n",
        "이 프로젝트가 마음에 드신다면 GitHub에서 리포지토리의 ⭐(Star)를 눌러주세요."
      ]
    },
    {
      "cell_type": "markdown",
      "metadata": {
        "id": "q8eFeW-yeGci"
      },
      "source": [
        "# Additional Resources\n",
        "* [Check out the snnTorch GitHub project here.](https://github.com/jeshraghian/snntorch)"
      ]
    }
  ],
  "metadata": {
    "accelerator": "GPU",
    "colab": {
      "name": "snntorch_tutorial_6.ipynb",
      "provenance": []
    },
    "kernelspec": {
      "display_name": "Python 3",
      "language": "python",
      "name": "python3"
    },
    "language_info": {
      "codemirror_mode": {
        "name": "ipython",
        "version": 3
      },
      "file_extension": ".py",
      "mimetype": "text/x-python",
      "name": "python",
      "nbconvert_exporter": "python",
      "pygments_lexer": "ipython3",
      "version": "3.8.10"
    },
    "vscode": {
      "interpreter": {
        "hash": "aee8b7b246df8f9039afb4144a1f6fd8d2ca17a180786b69acc140d282b71a49"
      }
    }
  },
  "nbformat": 4,
  "nbformat_minor": 0
}
