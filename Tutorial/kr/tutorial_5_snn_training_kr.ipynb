{
  "cells": [
    {
      "cell_type": "markdown",
      "metadata": {
        "collapsed": false,
        "id": "uSGZ6cdmpknm",
        "pycharm": {
          "name": "#%% md\n"
        }
      },
      "source": [
        "[<img src='https://github.com/jeshraghian/snntorch/blob/master/docs/_static/img/snntorch_alpha_w.png?raw=true' width=\"400\">](https://github.com/jeshraghian/snntorch/)\n",
        "\n",
        "\n",
        "# snnTorch - Training Spiking Neural Networks with snnTorch\n",
        "## Tutorial 5\n",
        "### 강의 [Jason K. Eshraghian](https://www.ncg.ucsc.edu)\n",
        "### 번역 [ToToKr](https://github.com/moerai)\n",
        "<a href=\"https://colab.research.google.com/github/jeshraghian/snntorch/blob/master/examples/tutorial_6_CNN.ipynb\">\n",
        "  <img src=\"https://colab.research.google.com/assets/colab-badge.svg\" alt=\"Open In Colab\"/>\n",
        "</a>\n",
        "\n",
        "\n",
        "[<img src='https://github.com/jeshraghian/snntorch/blob/master/docs/_static/img/GitHub-Mark-Light-120px-plus.png?raw=true' width=\"28\">](https://github.com/jeshraghian/snntorch/) [<img src='https://github.com/jeshraghian/snntorch/blob/master/docs/_static/img/GitHub_Logo_White.png?raw=true' width=\"80\">](https://github.com/jeshraghian/snntorch/)"
      ]
    },
    {
      "cell_type": "markdown",
      "metadata": {
        "id": "rugeYYiqsrlc"
      },
      "source": [
        "snnTorch 튜토리얼 시리즈는 다음 문서를 기반으로 합니다. 이러한 리소스나 코드가 작업에 유용하다고 생각되면 다음 소스를 인용해 주세요:\n",
        "\n",
        "> <cite> [Jason K. Eshraghian, Max Ward, Emre Neftci, Xinxin Wang, Gregor Lenz, Girish Dwivedi, Mohammed Bennamoun, Doo Seok Jeong, and Wei D. Lu. \"Training Spiking Neural Networks Using Lessons From Deep Learning\". Proceedings of the IEEE, 111(9) September 2023.](https://ieeexplore.ieee.org/abstract/document/10242251) </cite>\n",
        "\n"
      ]
    },
    {
      "cell_type": "markdown",
      "metadata": {
        "id": "Ymi3sqJg28OQ"
      },
      "source": [
        "# Introduction\n",
        "이번 튜토리얼에서 당신은:\n",
        "* recurrent 네트워크로 스파이크 뉴런이 어떻게 구현되는지 배웁니다.\n",
        "* 시간 경과에 따른 역전파와 스파이크의 미분불능(non-differentiability)과 같은 SNN의 문제를 이해할 수 있습니다.\n",
        "* 정적 MNIST 데이터 세트에서 fully-connected network를 훈련합니다.\n",
        "\n",
        "<!-- * Implement various backprop strategies:\n",
        "  * Backpropagation Through Time\n",
        "  * Truncated-Backpropagation Through Time\n",
        "  * Real-Time Recurrent Learning -->\n",
        "\n",
        ">이 튜토리얼의 일부는 Friedemann Zenke의 SNN에 대한 광범위한 작업에서 영감을 받앗습니다. [여기](https://github.com/fzenke/spytorch)에서 surrogate gradients에 대한 그의 repo를 확인 할 수 있습니다. 그리고 추천하는 논문은 다음과 같습니다: E. O. Neftci, H. Mostafa, F. Zenke, [Surrogate Gradient Learning in Spiking Neural Networks: Bringing the Power of Gradient-based optimization to spiking neural networks.](https://ieeexplore.ieee.org/document/8891809) IEEE Signal Processing Magazine 36, 51–63.\n",
        "\n",
        "튜토리얼의 마지막에는 기본적인 지도 학습 알고리즘을 구현합니다. 원본 Static MNIST 데이터 세트를 사용하고 gradient descent를 사용하여 이미지 분류를 수행하는 multi-layer fully-connected SNN을 훈련합니다.\n",
        "\n",
        "Google Colab 실행을 하는 경우:\n",
        "* 다음 메뉴에서 `런타임` > `런타임 유형 변경` > `하드웨어 가속기: GPU`를 확인하여 GPU를 연결합니다.\n",
        "* 다음 셀을 클릭하고 `Shift+Enter`를 눌러 최신 PyPi 배포판의 snnTorch를 설치합니다."
      ]
    },
    {
      "cell_type": "code",
      "execution_count": null,
      "metadata": {
        "id": "5tn_wUlopkon",
        "pycharm": {
          "name": "#%%\n"
        }
      },
      "outputs": [],
      "source": [
        "!pip install snntorch"
      ]
    },
    {
      "cell_type": "code",
      "execution_count": 5,
      "metadata": {
        "id": "QXZ6Tuqc9Q-l"
      },
      "outputs": [],
      "source": [
        "# imports\n",
        "import snntorch as snn\n",
        "from snntorch import spikeplot as splt\n",
        "from snntorch import spikegen\n",
        "\n",
        "import torch\n",
        "import torch.nn as nn\n",
        "from torch.utils.data import DataLoader\n",
        "from torchvision import datasets, transforms\n",
        "\n",
        "import matplotlib.pyplot as plt\n",
        "import numpy as np\n",
        "import itertools"
      ]
    },
    {
      "cell_type": "markdown",
      "metadata": {
        "id": "gt2xMbLY9dVE"
      },
      "source": [
        "# 1. A Recurrent Representation of SNNs"
      ]
    },
    {
      "cell_type": "markdown",
      "metadata": {
        "id": "v7haBG7nA_TC"
      },
      "source": [
        "튜토리얼3에서 leaky integrate-and-fire (LIF) 뉴런의 재귀적인 표현(recursive)을 도출했습니다:\n",
        "\n",
        "$$U[t+1] = \\underbrace{\\beta U[t]}_\\text{decay} + \\underbrace{WX[t+1]}_\\text{input} - \\underbrace{R[t]}_\\text{reset} \\tag{1}$$\n",
        "\n",
        "여기서 input 시냅스 전류는 $I_{\\rm in}[t] = WX[t]$ 로 해석되며, $X[t]$ 는 임의의 스파이크 input, 시간 or Step에 가변적인 전압, 또는 가중치가 없는 시간 or Step에 가변적인 전류일 수 있습니다. 스파이크는 다음 방정식으로 표현되며, 멤브레인 전위가 임계값을 초과하면 스파이크가 방출됩니다:\n",
        "\n",
        "$$S[t] = \\begin{cases} 1, &\\text{if}~U[t] > U_{\\rm thr} \\\\\n",
        "0, &\\text{otherwise}\\end{cases} \\tag{2}$$\n",
        "\n",
        "이산적, 재귀적 형태의 스파이크 뉴런 공식은 Recurrent Neural Networks (RNNs)과 시퀀스 기반 모델 훈련의 발전을 거의 완벽하게 활용 할 수 있습니다. 이는 막전위의 붕괴에 대한 *암시적(implicit)* recurrent 연결을 사용하여 설명 할 수 있으며, 출력 스파이크 $S_{\\rm out}$가 입력으로 피드백되는 *명시적(explicit)* recurrent와 구분됩니다. 아래 그림에서 $-U_{\\rm thr}$로 가중치를 설정하는 연결은 리셋 메커니즘 $R[t]$를 나타냅니다.\n",
        "\n",
        "\n",
        "<center>\n",
        "<img src='https://github.com/jeshraghian/snntorch/blob/master/docs/_static/img/examples/tutorial5/unrolled_2.png?raw=true' width=\"800\">\n",
        "</center>\n",
        "\n",
        "그림의 오른쪽 그래프는 계산이 어떻게 수행되는지 명시적으로 설명해줍니다. 오른쪽으로 나아가는 과정은 출력과 손실을 계산하기 위해 시간을 앞으로, 기울기를 계산하기 위해 시간을 뒤로 이동하는 흐름을 보여줍니다. 시뮬레이션하는 시간 단계가 많을수록 그래프는 deep해집니다.\n",
        "\n",
        "기존 RNNs는 $\\beta$를 학습 가능한 파라미터로 취급합니다. 이는 SNN에서도 가능하지만, 기본적으로 하이퍼파라미터로 취급합니다. 왜냐하면 vanishing or exploding 그레디언트 문제를 하이퍼파라미터 검색으로 대체할 수 있기 때문입니다. 향후 튜토리얼에서 $\\beta$를 학습 가능한 파라미터로 만드는 방법도 설명할 예정입니다."
      ]
    },
    {
      "cell_type": "markdown",
      "metadata": {
        "id": "Wgzf83HE2BeB"
      },
      "source": [
        "# 2. The Non-Differentiability of Spikes\n",
        "## 2.1 Training Using the Backprop Algorithm\n",
        "\n",
        "$(2)$에서 $S$ 와 $U$의 관계를 표현 할 수 있는 대안은 다음과 같습니다:\n",
        "\n",
        "$$S[t] = \\Theta(U[t] - U_{\\rm thr}) \\tag{3}$$\n",
        "\n",
        "여기에서 $\\Theta(\\cdot)$는 Heaviside step 함수입니다:\n",
        "\n",
        "<center>\n",
        "<img src='https://github.com/jeshraghian/snntorch/blob/master/docs/_static/img/examples/tutorial3/3_2_spike_descrip.png?raw=true' width=\"600\">\n",
        "</center>\n",
        "\n",
        "이러한 형태의 네트워크를 훈련하는 데는 몇 가지 심각한 문제가 있습니다. 아래 *forward pass*에 표시된 것처럼 이전 *\"Recurrent representation of spiking neurons\"* 그림(수식$ (2) $ 아래 있음)의 계산 그래프의 단일 시간 단계를 생각해 보겠습니다:\n",
        "\n",
        "<center>\n",
        "<img src='https://github.com/jeshraghian/snntorch/blob/master/docs/_static/img/examples/tutorial5/non-diff.png?raw=true' width=\"400\">\n",
        "</center>\n",
        "\n",
        "목표는 가중치에 대한 loss의 gradient를 사용하여 네트워크를 훈련시켜 손실을 최소화 하도록 가중치를 업데이트 하는 것입니다 역전파 알고리즘은 Chain rule을 이용하여 이를 달성합니다:\n",
        "\n",
        "$$\\frac{\\partial \\mathcal{L}}{\\partial W} =\n",
        "\\frac{\\partial \\mathcal{L}}{\\partial S}\n",
        "\\underbrace{\\frac{\\partial S}{\\partial U}}_{\\{0, \\infty\\}}\n",
        "\\frac{\\partial U}{\\partial I}\\\n",
        "\\frac{\\partial I}{\\partial W}\\ \\tag{4}$$\n",
        "\n",
        "수식 $(1)$에서 $\\partial I/\\partial W=X$와 $\\partial U/\\partial I=1$를 구할 수 있습니다. 아직 loss 함수를 정의하지 않았지만,  $\\partial \\mathcal{L}/\\partial S$에는 cross-entropy 또는 MSE(Mean-Square Error) loss와 유사한 형태의 분석적 해가 있다고 가정할 수 있습니다(이에 대해서는 곧 자세히 설명하겠습니다).\n",
        "\n",
        "하지만, 우리가 다루고자 하는 항은 $\\partial S/\\partial U$ 입니다. 수식 $(3)$에서 Heaviside step 함수의 미분은 Dirac Delta 함수이며, 임계값 $U_{\\rm thr} = \\theta$를 제외하고는 모든 곳에서 0으로 평가됩니다. 즉, 기울기(gradient)는 거의 항상 0이 되고(또는 $U$가 임계값에 정확히 위치하는 포화 상태가 되어) 학습이 이루어지지 않습니다. 이를 **dead neuron problem**이라고 부릅니다."
      ]
    },
    {
      "cell_type": "markdown",
      "metadata": {
        "id": "mVrM7nLOMvgx"
      },
      "source": [
        "## 2.2 Overcoming the Dead Neuron Problem\n",
        "\n",
        "dead neuron problem를 해결하는 가장 일반적인 방법은 포워드 패스 동안 Heaviside 함수를 그대로 유지하되, 백워드 패스 동안 학습 과정을 죽이지 않는 것으로 미분 함수를 $\\partial S/\\partial U$에서 $\\partial \\tilde{S}/\\partial U$로 바꾸어 표기하는 것입니다($ S $ 에 틸다[~]가 추가됨). 이상하게 들릴 수 있지만, 신경망은 이러한 근사치에 상당히 강건(Robust)하다는 것이 밝혀졌습니다. 이를 일반적으로 *surrogate gradient*접근법 이라고 부릅니다.\n",
        "\n",
        "\n",
        "surrogate gradients를 사용하는 데는 다양한 옵션이 존재하며, [Tutorial 6](https://snntorch.readthedocs.io/en/latest/tutorials/index.html)에서 이러한 방법에 대해 자세히 알아보겠습니다. snnTorch (as of v0.6.0)의 기본 방법은 아크탄젠트 함수로 Heaviside 함수를 smooth하게 하는 것입니다. 사용되는 역방향 도함수는 다음과 같습니다:\n",
        "\n",
        "$$ \\frac{\\partial \\tilde{S}}{\\partial U} \\leftarrow \\frac{1}{\\pi}\\frac{1}{(1+[U\\pi]^2)} \\tag{5}$$\n",
        "\n",
        "여기서 왼쪽 화살표는 대체를 나타냅니다.\n",
        "\n",
        "수식 $(1)-(2)$에서 설명한 것과 동일한 뉴런 모델 (a.k.a., 튜토리얼3의 `snn.Leaky` 뉴런 모델)이 아래 PyTorch에서 구현되어 있습니다. 이해가 되지 않더라도 걱정하지 마세요. 잠시 후 snnTorch를 이용해서 한 줄의 코드로 압축하겠습니다:"
      ]
    },
    {
      "cell_type": "code",
      "execution_count": 2,
      "metadata": {
        "id": "mfJUm-6T8aG2"
      },
      "outputs": [],
      "source": [
        "# Leaky neuron model, overriding the backward pass with a custom function\n",
        "class LeakySurrogate(nn.Module):\n",
        "  def __init__(self, beta, threshold=1.0):\n",
        "      super(LeakySurrogate, self).__init__()\n",
        "\n",
        "      # initialize decay rate beta and threshold\n",
        "      self.beta = beta\n",
        "      self.threshold = threshold\n",
        "      self.spike_gradient = self.ATan.apply\n",
        "\n",
        "  # the forward function is called each time we call Leaky\n",
        "  def forward(self, input_, mem):\n",
        "    spk = self.spike_gradient((mem-self.threshold))  # call the Heaviside function\n",
        "    reset = (self.beta * spk * self.threshold).detach() # remove reset from computational graph\n",
        "    mem = self.beta * mem + input_ - reset # Eq (1)\n",
        "    return spk, mem\n",
        "\n",
        "  # Forward pass: Heaviside function\n",
        "  # Backward pass: Override Dirac Delta with the ArcTan function\n",
        "  @staticmethod\n",
        "  class ATan(torch.autograd.Function):\n",
        "      @staticmethod\n",
        "      def forward(ctx, mem):\n",
        "          spk = (mem > 0).float() # Heaviside on the forward pass: Eq(2)\n",
        "          ctx.save_for_backward(mem)  # store the membrane for use in the backward pass\n",
        "          return spk\n",
        "\n",
        "      @staticmethod\n",
        "      def backward(ctx, grad_output):\n",
        "          (mem,) = ctx.saved_tensors  # retrieve the membrane potential\n",
        "          grad = 1 / (1 + (np.pi * mem).pow_(2)) * grad_output # Eqn 5\n",
        "          return grad"
      ]
    },
    {
      "cell_type": "markdown",
      "metadata": {
        "id": "1zkc1Mmp97OX"
      },
      "source": [
        "surrogate gradient는 $\\partial S/\\partial U$에만 적용되고 $\\partial R/\\partial U$에는 적용되지 않으므로 리셋 메커니즘은 계산 그래프에서 분리되어 있습니다.\n",
        "\n",
        "위의 뉴런은 다음을 사용하여 인스턴스화됩니다:"
      ]
    },
    {
      "cell_type": "code",
      "execution_count": 3,
      "metadata": {
        "id": "EV3lU6soOnW6"
      },
      "outputs": [],
      "source": [
        "lif1 = LeakySurrogate(beta=0.9)"
      ]
    },
    {
      "cell_type": "markdown",
      "metadata": {
        "id": "StklvL_gPns1"
      },
      "source": [
        "이 뉴런은 이전 튜토리얼처럼 for-loop를 사용하여 시뮬레이션 할 수 있으며, PyTorch의 automatic differentation(autodiff) 메커니즘은 백그라운드에서 gradient를 추적합니다.\n",
        "\n",
        "또는, `snn.Leaky` 뉴런을 호출하여 동일한 작업을 수행할 수 있습니다.\n",
        "실제로 snnTorch에서 뉴런 모델을 호출할 때마다 기본적으로 *ATan* surrogate gradient가 적용됩니다:"
      ]
    },
    {
      "cell_type": "code",
      "execution_count": 4,
      "metadata": {
        "id": "8Wa7N31mP9Va"
      },
      "outputs": [],
      "source": [
        "lif1 = snn.Leaky(beta=0.9)"
      ]
    },
    {
      "cell_type": "markdown",
      "metadata": {
        "id": "9EF70Xi1RX6w"
      },
      "source": [
        "이 뉴런의 작동방식을 찾아보려면 [튜토리얼3](https://snntorch.readthedocs.io/en/latest/tutorials/index.html)을 확인하세요."
      ]
    },
    {
      "cell_type": "markdown",
      "metadata": {
        "id": "cxl1UYSCRzzl"
      },
      "source": [
        "# 3. Backprop Through Time\n",
        "방정식 $(4)$는 단일 time step (아래 그림에서 *immediate influence*라고 함)에 대한 기울기만 계산하지만, 시간을 통한 역전파(BPTT) 알고리즘은 *모든* 하위 단계까지의 기울기를 계산하여 합산합니다.\n",
        "\n",
        "가중치 $W$는 모든 time step에 적용되므로 loss도 모든 time step에서 계산된다고 가정합니다, 가중치가 현재 및 과거 손실에 미치는 영향을 합산하여 글로벌 그래디언트를 정의해야 합니다:\n",
        "\n",
        "$$\\frac{\\partial \\mathcal{L}}{\\partial W}=\\sum_t \\frac{\\partial\\mathcal{L}[t]}{\\partial W} =\n",
        "\\sum_t \\sum_{s\\leq t} \\frac{\\partial\\mathcal{L}[t]}{\\partial W[s]}\\frac{\\partial W[s]}{\\partial W} \\tag{5} $$\n",
        "\n",
        "$(5)$의 요점은 causality를 보장하는 것입니다: $s\\leq t$를 제한함으로써, 손실(loss)에 대한 $W$의 즉각적이고 이전 영향의 기여도만 고려합니다. 순환 시스템은 모든 step에 걸쳐 가중치를 공유하도록 제한합니다: $W[0]=W[1] =~... ~ = W$. 따라서, $W[s]$의 변화는 모든 $W$에 동일한 영향을 미치며, 이는 $\\partial W[s]/\\partial W=1$을 의미합니다:\n",
        "\n",
        "$$\\frac{\\partial \\mathcal{L}}{\\partial W}=\n",
        "\\sum_t \\sum_{s\\leq t} \\frac{\\partial\\mathcal{L}[t]}{\\partial W[s]} \\tag{6} $$\n",
        "\n",
        "예를들어, $s = t-1$ *단독*으로 끼친 이전 영향을 분리하면, 역방향 패스는 시간을 한 단계(step)씩 거슬러 올라가야 합니다; loss에 대한 $W[t-1]$의 영향은 다음과 같이 쓸 수 있습니다:\n",
        "\n",
        "$$\\frac{\\partial \\mathcal{L}[t]}{\\partial W[t-1]} =\n",
        "\\frac{\\partial \\mathcal{L}[t]}{\\partial S[t]}\n",
        "\\underbrace{\\frac{\\partial \\tilde{S}[t]}{\\partial U[t]}}_{Eq.~(5)}\n",
        "\\underbrace{\\frac{\\partial U[t]}{\\partial U[t-1]}}_\\beta\n",
        "\\underbrace{\\frac{\\partial U[t-1]}{\\partial I[t-1]}}_1\n",
        "\\underbrace{\\frac{\\partial I[t-1]}{\\partial W[t-1]}}_{X[t-1]} \\tag{7}$$\n",
        "\n",
        "우리는 이미 $(4)$에서 $\\partial U[t]/\\partial U[t-1]$를 제외한 모든 항을 다루었습니다. $(1)$에서, 이 시간에 대한(temporal) 도함수(derivative)는 단순히 $\\beta$로 표현됩니다. 따라서 우리가 정말 원한다면 이제 모든 time step에서의 모든 가중치의 미분을 하나하나 손수 계산할 수 있을만큼 식을 충분히 이해하고 있으며, 이를 단일 뉴런에 대응해 적용 할 것입니다(역자: 손으로 하나하나 계산해야된다는 조크):\n",
        "\n",
        "<center>\n",
        "<img src='https://github.com/jeshraghian/snntorch/blob/master/docs/_static/img/examples/tutorial5/bptt.png?raw=true' width=\"600\">\n",
        "</center>\n",
        "\n",
        "하지만 다행이도, PyTorch'의 autodiff는 background에서 이를 처리합니다.  \n",
        "\n",
        "*참고: 위 그림에서 리셋 메커니즘은 생략되었습니다. IsnnTorch에서 리셋은 forward-pass에는 포함되지만 backward-pass에서는 분리되어 있습니다.*\n"
      ]
    },
    {
      "cell_type": "markdown",
      "metadata": {
        "id": "c_42-CbsZ1FM"
      },
      "source": [
        "# 4. Setting up the Loss / Output Decoding\n",
        "기존의 ANN에서는 멀티 클래스 분류 문제에서 지도학습을 진행할 때, 활성화 정도가 가장 높은 뉴런을 예측 클래스로 처리합니다.\n",
        "\n",
        "스파이크 신경망(SNNs)에서 Output 스파이크를 해석하는 몇 가지 옵션이 있습니다. 가장 일반적인 접근 방식은 다음과 같습니다:\n",
        "* **Rate coding:** 가장 높은 발화(fire) 비율(Rate)(또는 스파이크 휫수)을 가진 뉴런을 예측 클래스로 삼습니다.\n",
        "* **Latency coding:** 가장 먼저 발사하는 뉴런을 예측 클래스로 삼습니다.\n",
        "\n",
        "이는 [Neural Encoding에 대한 튜토리얼1](https://snntorch.readthedocs.io/en/latest/tutorials/index.html)에서 익숙해진 내용일 수도 있습니다. 여기서는 raw input 데이터를 스파이크로 인코딩하는 것이 아니라 Output 스파이크를 해석(디코딩) 한다는 차이점이 있습니다.\n",
        "\n",
        "rate code에 집중해보겠습니다. 입력 데이터가 네트워크에 전달되면 시뮬레이션이 실행되는 동안 우리는 올바른 뉴런 클래스가 가장 많은 스파이크를 방출하기를 원할 겁니다. 이는 가장 높은 평균 발화 주파수에 해당합니다. 이를 달성하는 한가지 방법은 올바른 클래스의 막 전위를 $U>U_{\\rm thr}$로, 잘못된 클래스의 전위를 $U<U_{\\rm thr}$로 높이는 것입니다. 목표값을 $U$에 적용하면, $U$는 $S$에서 스파이크 동작을 조절하는 프록시 역할을 합니다.\n",
        "\n",
        "이는 출력 뉴런의 막 전위의 softmax 값을 구하여 구현할 수 있으며, 여기서 $C$는 출력 클래스의 수입니다:\n",
        "\n",
        "$$p_i[t] = \\frac{e^{U_i[t]}}{\\sum_{j=0}^{C}e^{U_j[t]}} \\tag{8}$$\n",
        "\n",
        "One hot 백터인 타겟 $y_i \\in \\{0,1\\}^C$에서 $p_i$ 사이의 cross-entropy는 다음을 사용하여 구할 수 있습니다:\n",
        "\n",
        "$$\\mathcal{L}_{CE}[t] = -\\sum_{i=0}^Cy_i{\\rm log}(p_i[t]) \\tag{9}$$\n",
        "\n",
        "위 식의 실질적인 효과는 올바른 클래스의 막 전위는 증가하도록 장려하고 잘못된 클래스의 전위는 감소시키는 것입니다. 즉, 정답(correct) 클래스는 모든 time step에서 발동하도록 장려하고 잘못된 클래스는 모든 단계에서 억제하는 것입니다. 이것은 가장 효율적인 SNN은 아닐 수 있지만, 가장 간단한 구현 방법중 하나입니다.\n",
        "\n",
        "이 타겟(target)은 시뮬레이션의 모든 time step에 적용되므로 모든 단계에서 손실이 발생합니다 그런 다음 시뮬레이션이 끝날 때 이러한 손실이 합산됩니다:\n",
        "\n",
        "$$\\mathcal{L}_{CE} = \\sum_t\\mathcal{L}_{CE}[t] \\tag{10}$$\n",
        "\n",
        "이것은 스파이크 신경망에 손실 함수를 적용하는 여러 가지 방법 중 하나일 뿐입니다. 다양한 접근 방식을 snnTorch(모듈 ```snn.functional```)에서 사용할 수 있으며, 향후 튜토리얼의 주제가 될 것입니다.\n",
        "\n",
        "모든 배경 이론을 다루었으니 이제 fully-connected 스파이킹 신경망을 훈련해 보겠습니다."
      ]
    },
    {
      "cell_type": "markdown",
      "metadata": {
        "id": "zqJdfllYbc16"
      },
      "source": [
        "# 5. Setting up the Static MNIST Dataset"
      ]
    },
    {
      "cell_type": "code",
      "execution_count": 6,
      "metadata": {
        "id": "lI0GbgLgpkos",
        "pycharm": {
          "name": "#%%\n"
        }
      },
      "outputs": [],
      "source": [
        "# dataloader arguments\n",
        "batch_size = 128\n",
        "data_path='/tmp/data/mnist'\n",
        "\n",
        "dtype = torch.float\n",
        "device = torch.device(\"cuda\") if torch.cuda.is_available() else torch.device(\"cpu\")"
      ]
    },
    {
      "cell_type": "code",
      "execution_count": 7,
      "metadata": {
        "id": "2fhRixcspkot",
        "pycharm": {
          "name": "#%%\n"
        }
      },
      "outputs": [],
      "source": [
        "# Define a transform\n",
        "transform = transforms.Compose([\n",
        "            transforms.Resize((28, 28)),\n",
        "            transforms.Grayscale(),\n",
        "            transforms.ToTensor(),\n",
        "            transforms.Normalize((0,), (1,))])\n",
        "\n",
        "mnist_train = datasets.MNIST(data_path, train=True, download=True, transform=transform)\n",
        "mnist_test = datasets.MNIST(data_path, train=False, download=True, transform=transform)"
      ]
    },
    {
      "cell_type": "markdown",
      "metadata": {
        "id": "RAM_dP887uTq"
      },
      "source": [
        "위의 코드 블록이 오류를 발생시키는 경우(예: MNIST 서버가 다운됨) 대신 다음 코드의 주석 처리를 해제하여 사용하세요."
      ]
    },
    {
      "cell_type": "code",
      "execution_count": null,
      "metadata": {
        "id": "4jyJVqUNdXDo"
      },
      "outputs": [],
      "source": [
        "# # temporary dataloader if MNIST service is unavailable\n",
        "# !wget www.di.ens.fr/~lelarge/MNIST.tar.gz\n",
        "# !tar -zxvf MNIST.tar.gz\n",
        "\n",
        "# mnist_train = datasets.MNIST(root = './', train=True, download=True, transform=transform)\n",
        "# mnist_test = datasets.MNIST(root = './', train=False, download=True, transform=transform)"
      ]
    },
    {
      "cell_type": "code",
      "execution_count": 8,
      "metadata": {
        "id": "aEtCbO6upkou",
        "pycharm": {
          "name": "#%%\n"
        }
      },
      "outputs": [],
      "source": [
        "# Create DataLoaders\n",
        "train_loader = DataLoader(mnist_train, batch_size=batch_size, shuffle=True, drop_last=True)\n",
        "test_loader = DataLoader(mnist_test, batch_size=batch_size, shuffle=True, drop_last=True)"
      ]
    },
    {
      "cell_type": "markdown",
      "metadata": {
        "id": "GhFyzySNeT_e"
      },
      "source": [
        "# 6. Define the Network"
      ]
    },
    {
      "cell_type": "code",
      "execution_count": 9,
      "metadata": {
        "id": "Lud3kywn55fj"
      },
      "outputs": [],
      "source": [
        "# Network Architecture\n",
        "num_inputs = 28*28\n",
        "num_hidden = 1000\n",
        "num_outputs = 10\n",
        "\n",
        "# Temporal Dynamics\n",
        "num_steps = 25\n",
        "beta = 0.95"
      ]
    },
    {
      "cell_type": "code",
      "execution_count": 10,
      "metadata": {
        "id": "-uquHLLmpkox",
        "pycharm": {
          "name": "#%%\n"
        }
      },
      "outputs": [],
      "source": [
        "# Define Network\n",
        "class Net(nn.Module):\n",
        "    def __init__(self):\n",
        "        super().__init__()\n",
        "\n",
        "        # Initialize layers\n",
        "        self.fc1 = nn.Linear(num_inputs, num_hidden)\n",
        "        self.lif1 = snn.Leaky(beta=beta)\n",
        "        self.fc2 = nn.Linear(num_hidden, num_outputs)\n",
        "        self.lif2 = snn.Leaky(beta=beta)\n",
        "\n",
        "    def forward(self, x):\n",
        "\n",
        "        # Initialize hidden states at t=0\n",
        "        mem1 = self.lif1.init_leaky()\n",
        "        mem2 = self.lif2.init_leaky()\n",
        "\n",
        "        # Record the final layer\n",
        "        spk2_rec = []\n",
        "        mem2_rec = []\n",
        "\n",
        "        for step in range(num_steps):\n",
        "            cur1 = self.fc1(x)\n",
        "            spk1, mem1 = self.lif1(cur1, mem1)\n",
        "            cur2 = self.fc2(spk1)\n",
        "            spk2, mem2 = self.lif2(cur2, mem2)\n",
        "            spk2_rec.append(spk2)\n",
        "            mem2_rec.append(mem2)\n",
        "\n",
        "        return torch.stack(spk2_rec, dim=0), torch.stack(mem2_rec, dim=0)\n",
        "\n",
        "# Load the network onto CUDA if available\n",
        "net = Net().to(device)"
      ]
    },
    {
      "cell_type": "markdown",
      "metadata": {
        "id": "Y0fHcAKfrav6"
      },
      "source": [
        "`forward()` 함수의 코드는 입력 인수 `x`가 `net`에 명시적으로 전달된 경우에만 호출됩니다.\n",
        "\n",
        "* `fc1`은 MNIST dataset의 모든 입력 픽셀에 선형 변환을 적용합니다;\n",
        "* `lif1`은 시간에 따라 가중치 입력을 통합하여 입계값 조건이 충족되면 스파이크를 방출합니다;\n",
        "* `fc2`는 `lif1`의 출력 스파이크에 선형 변환을 적용합니다;\n",
        "* `lif2`는 또 다른 스파이크 뉴런 레이어로, 시간에 따라 가중치가 부여된 스파이크를 통합합니다."
      ]
    },
    {
      "cell_type": "markdown",
      "metadata": {
        "id": "6a7MdORCtIx4"
      },
      "source": [
        "# 7. Training the SNN"
      ]
    },
    {
      "cell_type": "markdown",
      "metadata": {
        "id": "6D-fhT3Q7nXM"
      },
      "source": [
        "## 7.1 Accuracy Metric\n",
        "아래는 데이터 배치를 가져와 각 뉴런의 모든 스파이크를 카운팅해서(즉, 시뮬레이션 시간 동안의 Rate Code 사용) 가장 높은 카운트의 지수를 실제 타겟과 비교하는 함수입니다. 일치하면 네트워크가 목표를 올바르게 예측한 것입니다."
      ]
    },
    {
      "cell_type": "code",
      "execution_count": 11,
      "metadata": {
        "id": "-IxcnBAxpkoy",
        "pycharm": {
          "name": "#%%\n"
        }
      },
      "outputs": [],
      "source": [
        "# pass data into the network, sum the spikes over time\n",
        "# and compare the neuron with the highest number of spikes\n",
        "# with the target\n",
        "\n",
        "def print_batch_accuracy(data, targets, train=False):\n",
        "    output, _ = net(data.view(batch_size, -1))\n",
        "    _, idx = output.sum(dim=0).max(1)\n",
        "    acc = np.mean((targets == idx).detach().cpu().numpy())\n",
        "\n",
        "    if train:\n",
        "        print(f\"Train set accuracy for a single minibatch: {acc*100:.2f}%\")\n",
        "    else:\n",
        "        print(f\"Test set accuracy for a single minibatch: {acc*100:.2f}%\")\n",
        "\n",
        "def train_printer(\n",
        "    data, targets, epoch,\n",
        "    counter, iter_counter,\n",
        "        loss_hist, test_loss_hist, test_data, test_targets):\n",
        "    print(f\"Epoch {epoch}, Iteration {iter_counter}\")\n",
        "    print(f\"Train Set Loss: {loss_hist[counter]:.2f}\")\n",
        "    print(f\"Test Set Loss: {test_loss_hist[counter]:.2f}\")\n",
        "    print_batch_accuracy(data, targets, train=True)\n",
        "    print_batch_accuracy(test_data, test_targets, train=False)\n",
        "    print(\"\\n\")"
      ]
    },
    {
      "cell_type": "markdown",
      "metadata": {
        "id": "woJSGSx68tsd"
      },
      "source": [
        "## 7.2 Loss Definition\n",
        "Pytorch의 `nn.CrossEntropyLoss` 함수는 출력 레이어의 softmax를 취하고 출력에서 loss를 생성하는 것을 자동으로 처리합니다."
      ]
    },
    {
      "cell_type": "code",
      "execution_count": 12,
      "metadata": {
        "id": "iqdVyjCNtdlp"
      },
      "outputs": [],
      "source": [
        "loss = nn.CrossEntropyLoss()"
      ]
    },
    {
      "cell_type": "markdown",
      "metadata": {
        "id": "b1fPgSoO9Jgb"
      },
      "source": [
        "## 7.3 Optimizer\n",
        "Adam은 Recurrent Network에서 잘 작동하는 robust한 optimizer입니다. learning rate는  $5\\times10^{-4}$로 설정해보겠습니다."
      ]
    },
    {
      "cell_type": "code",
      "execution_count": 13,
      "metadata": {
        "id": "l62ZR51s9Lxg"
      },
      "outputs": [],
      "source": [
        "optimizer = torch.optim.Adam(net.parameters(), lr=5e-4, betas=(0.9, 0.999))"
      ]
    },
    {
      "cell_type": "markdown",
      "metadata": {
        "id": "GiqAVKzVbfPn"
      },
      "source": [
        "## 7.4 One Iteration of Training\n",
        "첫 번째 데이터 배치를 가져와서 가능한 경우 CUDA에 로드합니다."
      ]
    },
    {
      "cell_type": "code",
      "execution_count": 14,
      "metadata": {
        "id": "Hv1q2-Mt9kVi"
      },
      "outputs": [],
      "source": [
        "data, targets = next(iter(train_loader))\n",
        "data = data.to(device)\n",
        "targets = targets.to(device)"
      ]
    },
    {
      "cell_type": "markdown",
      "metadata": {
        "id": "cFahTbAv-Vtt"
      },
      "source": [
        "input data를 $784$ 크기의 백터로 flatten하여 네트워크에 전달합니다."
      ]
    },
    {
      "cell_type": "code",
      "execution_count": 15,
      "metadata": {
        "id": "lltqTEXE92V-"
      },
      "outputs": [
        {
          "name": "stdout",
          "output_type": "stream",
          "text": [
            "torch.Size([25, 128, 10])\n"
          ]
        }
      ],
      "source": [
        "spk_rec, mem_rec = net(data.view(batch_size, -1))\n",
        "print(mem_rec.size())"
      ]
    },
    {
      "cell_type": "markdown",
      "metadata": {
        "id": "wd_qv6xD-lCb"
      },
      "source": [
        "막 전위를 기록합니다:\n",
        "* 25 개 time steps\n",
        "* 128 개 data 샘플\n",
        "* 10 개 output 뉴런\n",
        "\n",
        "방정식 $(10)$에 따라 모든 time step에서의 loss를 계산하고 이를 합산하고자 합니다:"
      ]
    },
    {
      "cell_type": "code",
      "execution_count": 16,
      "metadata": {
        "id": "nsnH8y5G-D-z"
      },
      "outputs": [
        {
          "name": "stdout",
          "output_type": "stream",
          "text": [
            "Training loss: 62.442\n"
          ]
        }
      ],
      "source": [
        "# initialize the total loss value\n",
        "loss_val = torch.zeros((1), dtype=dtype, device=device)\n",
        "\n",
        "# sum loss at every step\n",
        "for step in range(num_steps):\n",
        "  loss_val += loss(mem_rec[step], targets)\n",
        "\n",
        "print(f\"Training loss: {loss_val.item():.3f}\")"
      ]
    },
    {
      "cell_type": "markdown",
      "metadata": {
        "id": "Q4r0sKMV_4ri"
      },
      "source": [
        "25 개의 time steps에 걸쳐 합산되기 때문에 loss가 상당히 큽니다. 네트워크가 학습되지 않았기 때문에 저오학도도 좋지 않습니다(대략 10% 정도):"
      ]
    },
    {
      "cell_type": "code",
      "execution_count": 17,
      "metadata": {
        "id": "qetPvz7mAArd"
      },
      "outputs": [
        {
          "name": "stdout",
          "output_type": "stream",
          "text": [
            "Train set accuracy for a single minibatch: 16.41%\n"
          ]
        }
      ],
      "source": [
        "print_batch_accuracy(data, targets, train=True)"
      ]
    },
    {
      "cell_type": "markdown",
      "metadata": {
        "id": "fUcR0GcUAtPn"
      },
      "source": [
        "단일 가중치 업데이트는 다음과 같이 네트워크에 적용됩니다:"
      ]
    },
    {
      "cell_type": "code",
      "execution_count": 18,
      "metadata": {
        "id": "WxyBhsmlAsWM"
      },
      "outputs": [],
      "source": [
        "# clear previously stored gradients\n",
        "optimizer.zero_grad()\n",
        "\n",
        "# calculate the gradients\n",
        "loss_val.backward()\n",
        "\n",
        "# weight update\n",
        "optimizer.step()"
      ]
    },
    {
      "cell_type": "markdown",
      "metadata": {
        "id": "ubyude8eA5p9"
      },
      "source": [
        "iteration을 한 번 돌린 후 loss와 정확도를 다시 계산합니다:"
      ]
    },
    {
      "cell_type": "code",
      "execution_count": 19,
      "metadata": {
        "id": "l4ZquRR9A9He"
      },
      "outputs": [
        {
          "name": "stdout",
          "output_type": "stream",
          "text": [
            "Training loss: 48.146\n",
            "Train set accuracy for a single minibatch: 42.19%\n"
          ]
        }
      ],
      "source": [
        "# calculate new network outputs using the same data\n",
        "spk_rec, mem_rec = net(data.view(batch_size, -1))\n",
        "\n",
        "# initialize the total loss value\n",
        "loss_val = torch.zeros((1), dtype=dtype, device=device)\n",
        "\n",
        "# sum loss at every step\n",
        "for step in range(num_steps):\n",
        "  loss_val += loss(mem_rec[step], targets)\n",
        "\n",
        "print(f\"Training loss: {loss_val.item():.3f}\")\n",
        "print_batch_accuracy(data, targets, train=True)"
      ]
    },
    {
      "cell_type": "markdown",
      "metadata": {
        "id": "fbNPCNTSBaW3"
      },
      "source": [
        "단 한 번의 iteration만으로도, loss가 줄어들고 정확도가 높아졌어야 합니다. 막 전위가 cross entropy를 계산하는데 어떻게 사용되는지 참고하세요. spike count를 loss로 사용하는 방법도 ([튜토리얼 6번](https://snntorch.readthedocs.io/en/latest/tutorials/index.html))을 참고하세요."
      ]
    },
    {
      "cell_type": "markdown",
      "metadata": {
        "id": "mVgKDes8BiXq"
      },
      "source": [
        "## 7.5 Training Loop\n",
        "\n",
        "자 그럼 모든 것을 training loop로 결합해봅시다. 각 데이터 셈플에 네트워크를 한 번씩 노출시키면서 하나의 epoch(`num_epochs`의 크기는 자유롭게 정의 가능)에 대해 학습합니다."
      ]
    },
    {
      "cell_type": "code",
      "execution_count": 20,
      "metadata": {
        "id": "LMZMxEV8dcTC"
      },
      "outputs": [
        {
          "name": "stdout",
          "output_type": "stream",
          "text": [
            "Epoch 0, Iteration 0\n",
            "Train Set Loss: 54.69\n",
            "Test Set Loss: 49.58\n",
            "Train set accuracy for a single minibatch: 53.91%\n",
            "Test set accuracy for a single minibatch: 39.84%\n",
            "\n",
            "\n",
            "Epoch 0, Iteration 50\n",
            "Train Set Loss: 7.23\n",
            "Test Set Loss: 10.35\n",
            "Train set accuracy for a single minibatch: 89.06%\n",
            "Test set accuracy for a single minibatch: 87.50%\n",
            "\n",
            "\n",
            "Epoch 0, Iteration 100\n",
            "Train Set Loss: 16.32\n",
            "Test Set Loss: 12.51\n",
            "Train set accuracy for a single minibatch: 78.12%\n",
            "Test set accuracy for a single minibatch: 82.03%\n",
            "\n",
            "\n",
            "Epoch 0, Iteration 150\n",
            "Train Set Loss: 8.85\n",
            "Test Set Loss: 5.38\n",
            "Train set accuracy for a single minibatch: 90.62%\n",
            "Test set accuracy for a single minibatch: 94.53%\n",
            "\n",
            "\n",
            "Epoch 0, Iteration 200\n",
            "Train Set Loss: 6.43\n",
            "Test Set Loss: 8.77\n",
            "Train set accuracy for a single minibatch: 93.75%\n",
            "Test set accuracy for a single minibatch: 93.75%\n",
            "\n",
            "\n",
            "Epoch 0, Iteration 250\n",
            "Train Set Loss: 7.79\n",
            "Test Set Loss: 11.47\n",
            "Train set accuracy for a single minibatch: 92.19%\n",
            "Test set accuracy for a single minibatch: 90.62%\n",
            "\n",
            "\n",
            "Epoch 0, Iteration 300\n",
            "Train Set Loss: 4.42\n",
            "Test Set Loss: 5.06\n",
            "Train set accuracy for a single minibatch: 91.41%\n",
            "Test set accuracy for a single minibatch: 92.19%\n",
            "\n",
            "\n",
            "Epoch 0, Iteration 350\n",
            "Train Set Loss: 5.45\n",
            "Test Set Loss: 9.72\n",
            "Train set accuracy for a single minibatch: 92.19%\n",
            "Test set accuracy for a single minibatch: 89.84%\n",
            "\n",
            "\n",
            "Epoch 0, Iteration 400\n",
            "Train Set Loss: 3.41\n",
            "Test Set Loss: 5.16\n",
            "Train set accuracy for a single minibatch: 97.66%\n",
            "Test set accuracy for a single minibatch: 96.09%\n",
            "\n",
            "\n",
            "Epoch 0, Iteration 450\n",
            "Train Set Loss: 5.00\n",
            "Test Set Loss: 5.22\n",
            "Train set accuracy for a single minibatch: 96.09%\n",
            "Test set accuracy for a single minibatch: 90.62%\n",
            "\n",
            "\n"
          ]
        }
      ],
      "source": [
        "num_epochs = 1\n",
        "loss_hist = []\n",
        "test_loss_hist = []\n",
        "counter = 0\n",
        "\n",
        "# Outer training loop\n",
        "for epoch in range(num_epochs):\n",
        "    iter_counter = 0\n",
        "    train_batch = iter(train_loader)\n",
        "\n",
        "    # Minibatch training loop\n",
        "    for data, targets in train_batch:\n",
        "        data = data.to(device)\n",
        "        targets = targets.to(device)\n",
        "\n",
        "        # forward pass\n",
        "        net.train()\n",
        "        spk_rec, mem_rec = net(data.view(batch_size, -1))\n",
        "\n",
        "        # initialize the loss & sum over time\n",
        "        loss_val = torch.zeros((1), dtype=dtype, device=device)\n",
        "        for step in range(num_steps):\n",
        "            loss_val += loss(mem_rec[step], targets)\n",
        "\n",
        "        # Gradient calculation + weight update\n",
        "        optimizer.zero_grad()\n",
        "        loss_val.backward()\n",
        "        optimizer.step()\n",
        "\n",
        "        # Store loss history for future plotting\n",
        "        loss_hist.append(loss_val.item())\n",
        "\n",
        "        # Test set\n",
        "        with torch.no_grad():\n",
        "            net.eval()\n",
        "            test_data, test_targets = next(iter(test_loader))\n",
        "            test_data = test_data.to(device)\n",
        "            test_targets = test_targets.to(device)\n",
        "\n",
        "            # Test set forward pass\n",
        "            test_spk, test_mem = net(test_data.view(batch_size, -1))\n",
        "\n",
        "            # Test set loss\n",
        "            test_loss = torch.zeros((1), dtype=dtype, device=device)\n",
        "            for step in range(num_steps):\n",
        "                test_loss += loss(test_mem[step], test_targets)\n",
        "            test_loss_hist.append(test_loss.item())\n",
        "\n",
        "            # Print train/test loss/accuracy\n",
        "            if counter % 50 == 0:\n",
        "                train_printer(\n",
        "                    data, targets, epoch,\n",
        "                    counter, iter_counter,\n",
        "                    loss_hist, test_loss_hist,\n",
        "                    test_data, test_targets)\n",
        "            counter += 1\n",
        "            iter_counter +=1"
      ]
    },
    {
      "cell_type": "markdown",
      "metadata": {
        "id": "Taf6WZLojHTz"
      },
      "source": [
        "이것이 당신의 첫 번째 SNN 훈련이라면, 축하합니다!~"
      ]
    },
    {
      "cell_type": "markdown",
      "metadata": {
        "collapsed": false,
        "id": "HxU7P7xFpko3",
        "pycharm": {
          "name": "#%% md\n"
        }
      },
      "source": [
        "# 8. Results\n",
        "## 8.1 Plot Training/Test Loss"
      ]
    },
    {
      "cell_type": "code",
      "execution_count": 21,
      "metadata": {
        "id": "_Pk_EScnpkpj",
        "pycharm": {
          "name": "#%%\n"
        }
      },
      "outputs": [
        {
          "data": {
            "image/png": "[encoded data removed]",
            "text/plain": [
              "<Figure size 1000x500 with 1 Axes>"
            ]
          },
          "metadata": {},
          "output_type": "display_data"
        }
      ],
      "source": [
        "# Plot Loss\n",
        "fig = plt.figure(facecolor=\"w\", figsize=(10, 5))\n",
        "plt.plot(loss_hist)\n",
        "plt.plot(test_loss_hist)\n",
        "plt.title(\"Loss Curves\")\n",
        "plt.legend([\"Train Loss\", \"Test Loss\"])\n",
        "plt.xlabel(\"Iteration\")\n",
        "plt.ylabel(\"Loss\")\n",
        "plt.show()"
      ]
    },
    {
      "cell_type": "markdown",
      "metadata": {
        "id": "g-Gd84OAl1rB"
      },
      "source": [
        "loss 곡선은 여러 반복에 걸쳐 평균을 내는 것이 아니라 모든 iteration에서 loss를 추적하기 때문에 노이즈가 발생합니다."
      ]
    },
    {
      "cell_type": "markdown",
      "metadata": {
        "collapsed": false,
        "id": "Z3f0vBnBpkpk",
        "pycharm": {
          "name": "#%% md\n"
        }
      },
      "source": [
        "## 8.2 Test Set Accuracy\n",
        "이 함수는 모든 미니배치를 반복하여 테스트 세트의 전체 10,000개 샘플에 대한 정확도 측정값을 얻습니다."
      ]
    },
    {
      "cell_type": "code",
      "execution_count": 22,
      "metadata": {
        "id": "F5Rb4xHGndQh"
      },
      "outputs": [
        {
          "name": "stdout",
          "output_type": "stream",
          "text": [
            "Total correctly classified test set images: 9420/10000\n",
            "Test Set Accuracy: 94.20%\n"
          ]
        }
      ],
      "source": [
        "total = 0\n",
        "correct = 0\n",
        "\n",
        "# drop_last switched to False to keep all samples\n",
        "test_loader = DataLoader(mnist_test, batch_size=batch_size, shuffle=True, drop_last=False)\n",
        "\n",
        "with torch.no_grad():\n",
        "  net.eval()\n",
        "  for data, targets in test_loader:\n",
        "    data = data.to(device)\n",
        "    targets = targets.to(device)\n",
        "\n",
        "    # forward pass\n",
        "    test_spk, _ = net(data.view(data.size(0), -1))\n",
        "\n",
        "    # calculate total accuracy\n",
        "    _, predicted = test_spk.sum(dim=0).max(1)\n",
        "    total += targets.size(0)\n",
        "    correct += (predicted == targets).sum().item()\n",
        "\n",
        "print(f\"Total correctly classified test set images: {correct}/{total}\")\n",
        "print(f\"Test Set Accuracy: {100 * correct / total:.2f}%\")"
      ]
    },
    {
      "cell_type": "markdown",
      "metadata": {
        "collapsed": false,
        "id": "TBIXau4Zpkpl",
        "pycharm": {
          "name": "#%% md\n"
        }
      },
      "source": [
        "짜잔! SNN기반 static MNIST 훈련은 여기까지입니다. 네트워크 매개변수, 하이퍼파라미터, decay rate, learning rate, scheduler 등을 자유롭게 조정하여 네트워크의 성능을 개선할 수 있는지 확인해 보세요."
      ]
    },
    {
      "cell_type": "markdown",
      "metadata": {
        "id": "s0dAgWUt2o6E"
      },
      "source": [
        "# Conclusion\n",
        "이제 정적 데이터 세트에서 fully-connected 네트워크를 구축하고 훈련하는 방법을 배웠습니다. 스파이킹 뉴런은 컨볼루션과 skip-connection을 포함한 다른 레이어 유형에도 적용할 수 있습니다. 이 지식으로 무장했다면 이제 다양한 유형의 SNN을 구축할 수 있을 겁니다. [다음 튜토리얼](https://snntorch.readthedocs.io/en/latest/tutorials/index.html)에서는, 스파이킹 컨볼루션 네트워크를 훈련하는 방법과 `snn.backprop` 모듈을 사용하여 필요한 코드의 양을 간소화하는 방법을 배워보겠습니다.\n",
        "\n",
        "또한 튜토리얼에 대한 귀중한 피드백을 제공해 주신 Bugra Kaytanli에게 특별히 감사드립니다.\n",
        "\n",
        "이 프로젝트가 마음에 드신다면 GitHub에서 리포지토리의 ⭐(Star)를 눌러주세요."
      ]
    },
    {
      "cell_type": "markdown",
      "metadata": {
        "id": "3LuBFFYCVdGI"
      },
      "source": [
        "# Additional Resources\n",
        "\n",
        "* [Check out the snnTorch GitHub project here.](https://github.com/jeshraghian/snntorch)"
      ]
    }
  ],
  "metadata": {
    "accelerator": "GPU",
    "colab": {
      "name": "snntorch_tutorial_5.ipynb",
      "provenance": []
    },
    "kernelspec": {
      "display_name": "Python 3",
      "language": "python",
      "name": "python3"
    },
    "language_info": {
      "codemirror_mode": {
        "name": "ipython",
        "version": 3
      },
      "file_extension": ".py",
      "mimetype": "text/x-python",
      "name": "python",
      "nbconvert_exporter": "python",
      "pygments_lexer": "ipython3",
      "version": "3.8.10"
    },
    "vscode": {
      "interpreter": {
        "hash": "aee8b7b246df8f9039afb4144a1f6fd8d2ca17a180786b69acc140d282b71a49"
      }
    }
  },
  "nbformat": 4,
  "nbformat_minor": 0
}
